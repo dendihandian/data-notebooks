{
 "cells": [
  {
   "cell_type": "markdown",
   "metadata": {},
   "source": [
    "# Transfermarkt Transfers"
   ]
  },
  {
   "cell_type": "markdown",
   "metadata": {},
   "source": [
    "**Disclaimers** : \n",
    "- The analysis scope is based on the dataset, especially on the defined transfer date range. Some info and numbers may differ from the real complete data out there.\n",
    "- Some data may be missing because of scraping issue or restricted by the transfermarkt themselves.\n",
    "\n",
    "The dataset was politely scraped from [transfermarkt.com](https://www.transfermarkt.com/statistik/transfertage) using Scrapy and Splash. The notebook will be updated as the scraping goes from time to time. Check the `Transfer Date Range` section below to find out the oldest and latest date."
   ]
  },
  {
   "cell_type": "markdown",
   "metadata": {},
   "source": [
    "## Preparation"
   ]
  },
  {
   "cell_type": "markdown",
   "metadata": {},
   "source": [
    "### Import Libraries"
   ]
  },
  {
   "cell_type": "code",
   "execution_count": 209,
   "metadata": {},
   "outputs": [
    {
     "name": "stdout",
     "output_type": "stream",
     "text": [
      "python version:  3.8.5 (default, Sep  3 2020, 21:29:08) [MSC v.1916 64 bit (AMD64)]\n",
      "pandas version:  1.1.3\n",
      "seaborn version:  0.11.0\n",
      "last run:  2021-11-05 23:15:27\n"
     ]
    }
   ],
   "source": [
    "import seaborn as sns\n",
    "import pandas as pd\n",
    "import matplotlib.pyplot as plt\n",
    "import warnings\n",
    "import sys\n",
    "import datetime\n",
    "from IPython.core.interactiveshell import InteractiveShell\n",
    "\n",
    "pd.set_option('display.max_columns', None)\n",
    "InteractiveShell.ast_node_interactivity = \"all\"\n",
    "warnings.filterwarnings('ignore')\n",
    "\n",
    "print(\"python version: \", sys.version)\n",
    "print(\"pandas version: \", pd.__version__)\n",
    "print(\"seaborn version: \", sns.__version__)\n",
    "\n",
    "print(\"last run: \", datetime.datetime.now().strftime(\"%Y-%m-%d %H:%M:%S\"))\n"
   ]
  },
  {
   "cell_type": "markdown",
   "metadata": {},
   "source": [
    "### Loading Dataset"
   ]
  },
  {
   "cell_type": "code",
   "execution_count": 210,
   "metadata": {},
   "outputs": [
    {
     "data": {
      "text/html": [
       "<div>\n",
       "<style scoped>\n",
       "    .dataframe tbody tr th:only-of-type {\n",
       "        vertical-align: middle;\n",
       "    }\n",
       "\n",
       "    .dataframe tbody tr th {\n",
       "        vertical-align: top;\n",
       "    }\n",
       "\n",
       "    .dataframe thead th {\n",
       "        text-align: right;\n",
       "    }\n",
       "</style>\n",
       "<table border=\"1\" class=\"dataframe\">\n",
       "  <thead>\n",
       "    <tr style=\"text-align: right;\">\n",
       "      <th></th>\n",
       "      <th>player_id</th>\n",
       "      <th>name</th>\n",
       "      <th>age</th>\n",
       "      <th>position</th>\n",
       "      <th>national_1</th>\n",
       "      <th>national_2</th>\n",
       "      <th>left_club</th>\n",
       "      <th>left_club_league</th>\n",
       "      <th>joined_club</th>\n",
       "      <th>joined_club_league</th>\n",
       "      <th>transfer_date</th>\n",
       "      <th>transfer_date_p</th>\n",
       "      <th>market_value</th>\n",
       "      <th>market_value_p</th>\n",
       "      <th>fee</th>\n",
       "      <th>left_club_country</th>\n",
       "      <th>joined_club_country</th>\n",
       "      <th>loan_fee</th>\n",
       "      <th>loan_fee_p</th>\n",
       "      <th>created_at</th>\n",
       "      <th>updated_at</th>\n",
       "    </tr>\n",
       "  </thead>\n",
       "  <tbody>\n",
       "    <tr>\n",
       "      <th>6604</th>\n",
       "      <td>335736</td>\n",
       "      <td>Iliyan Popov</td>\n",
       "      <td>22.0</td>\n",
       "      <td>Right-Back</td>\n",
       "      <td>Bulgaria</td>\n",
       "      <td>NaN</td>\n",
       "      <td>Yantra</td>\n",
       "      <td>Vtora Liga</td>\n",
       "      <td>Without Club</td>\n",
       "      <td>NaN</td>\n",
       "      <td>Oct 10, 2020</td>\n",
       "      <td>2020-10-10</td>\n",
       "      <td>€50Th.</td>\n",
       "      <td>50000</td>\n",
       "      <td>-</td>\n",
       "      <td>Bulgaria</td>\n",
       "      <td>NaN</td>\n",
       "      <td>NaN</td>\n",
       "      <td>NaN</td>\n",
       "      <td>2021-10-04 16:12:54</td>\n",
       "      <td>2021-10-04 16:12:54</td>\n",
       "    </tr>\n",
       "    <tr>\n",
       "      <th>11841</th>\n",
       "      <td>255383</td>\n",
       "      <td>Michal Helik</td>\n",
       "      <td>25.0</td>\n",
       "      <td>Centre-Back</td>\n",
       "      <td>Poland</td>\n",
       "      <td>NaN</td>\n",
       "      <td>Cracovia</td>\n",
       "      <td>Ekstraklasa</td>\n",
       "      <td>Barnsley FC</td>\n",
       "      <td>Championship</td>\n",
       "      <td>Sep 9, 2020</td>\n",
       "      <td>2020-09-09</td>\n",
       "      <td>€600Th.</td>\n",
       "      <td>600000</td>\n",
       "      <td>€800Th.</td>\n",
       "      <td>Poland</td>\n",
       "      <td>England</td>\n",
       "      <td>NaN</td>\n",
       "      <td>NaN</td>\n",
       "      <td>2021-10-04 16:39:13</td>\n",
       "      <td>2021-10-04 16:39:13</td>\n",
       "    </tr>\n",
       "    <tr>\n",
       "      <th>34358</th>\n",
       "      <td>223225</td>\n",
       "      <td>Dan Crowley</td>\n",
       "      <td>23.0</td>\n",
       "      <td>Attacking Midfield</td>\n",
       "      <td>England</td>\n",
       "      <td>Ireland</td>\n",
       "      <td>Birmingham</td>\n",
       "      <td>Championship</td>\n",
       "      <td>Hull City</td>\n",
       "      <td>League One</td>\n",
       "      <td>Jan 18, 2021</td>\n",
       "      <td>2021-01-18</td>\n",
       "      <td>€1.50m</td>\n",
       "      <td>1500000</td>\n",
       "      <td>loan transfer</td>\n",
       "      <td>England</td>\n",
       "      <td>England</td>\n",
       "      <td>NaN</td>\n",
       "      <td>NaN</td>\n",
       "      <td>2021-11-02 11:42:18</td>\n",
       "      <td>2021-11-02 11:42:18</td>\n",
       "    </tr>\n",
       "    <tr>\n",
       "      <th>16016</th>\n",
       "      <td>156629</td>\n",
       "      <td>Ivan Kovacec</td>\n",
       "      <td>32.0</td>\n",
       "      <td>Left Winger</td>\n",
       "      <td>Croatia</td>\n",
       "      <td>NaN</td>\n",
       "      <td>SV Ried</td>\n",
       "      <td>Bundesliga</td>\n",
       "      <td>NK Zagorec</td>\n",
       "      <td>NaN</td>\n",
       "      <td>Aug 31, 2020</td>\n",
       "      <td>2020-08-31</td>\n",
       "      <td>€200Th.</td>\n",
       "      <td>200000</td>\n",
       "      <td>free transfer</td>\n",
       "      <td>Austria</td>\n",
       "      <td>Croatia</td>\n",
       "      <td>NaN</td>\n",
       "      <td>NaN</td>\n",
       "      <td>2021-10-04 17:01:01</td>\n",
       "      <td>2021-10-04 17:01:01</td>\n",
       "    </tr>\n",
       "    <tr>\n",
       "      <th>7583</th>\n",
       "      <td>399336</td>\n",
       "      <td>Vincenzo Garofalo</td>\n",
       "      <td>21.0</td>\n",
       "      <td>Central Midfield</td>\n",
       "      <td>Italy</td>\n",
       "      <td>NaN</td>\n",
       "      <td>Avellino</td>\n",
       "      <td>Serie C - C</td>\n",
       "      <td>Foggia</td>\n",
       "      <td>Serie C - C</td>\n",
       "      <td>Oct 5, 2020</td>\n",
       "      <td>2020-10-05</td>\n",
       "      <td>€50Th.</td>\n",
       "      <td>50000</td>\n",
       "      <td>free transfer</td>\n",
       "      <td>Italy</td>\n",
       "      <td>Italy</td>\n",
       "      <td>NaN</td>\n",
       "      <td>NaN</td>\n",
       "      <td>2021-10-04 16:17:20</td>\n",
       "      <td>2021-10-04 16:17:20</td>\n",
       "    </tr>\n",
       "  </tbody>\n",
       "</table>\n",
       "</div>"
      ],
      "text/plain": [
       "       player_id               name   age            position national_1  \\\n",
       "6604      335736       Iliyan Popov  22.0          Right-Back   Bulgaria   \n",
       "11841     255383       Michal Helik  25.0         Centre-Back     Poland   \n",
       "34358     223225        Dan Crowley  23.0  Attacking Midfield    England   \n",
       "16016     156629       Ivan Kovacec  32.0         Left Winger    Croatia   \n",
       "7583      399336  Vincenzo Garofalo  21.0    Central Midfield      Italy   \n",
       "\n",
       "      national_2   left_club left_club_league   joined_club  \\\n",
       "6604         NaN      Yantra       Vtora Liga  Without Club   \n",
       "11841        NaN    Cracovia      Ekstraklasa   Barnsley FC   \n",
       "34358    Ireland  Birmingham     Championship     Hull City   \n",
       "16016        NaN     SV Ried       Bundesliga    NK Zagorec   \n",
       "7583         NaN    Avellino      Serie C - C        Foggia   \n",
       "\n",
       "      joined_club_league transfer_date transfer_date_p market_value  \\\n",
       "6604                 NaN  Oct 10, 2020      2020-10-10       €50Th.   \n",
       "11841       Championship   Sep 9, 2020      2020-09-09      €600Th.   \n",
       "34358         League One  Jan 18, 2021      2021-01-18       €1.50m   \n",
       "16016                NaN  Aug 31, 2020      2020-08-31      €200Th.   \n",
       "7583         Serie C - C   Oct 5, 2020      2020-10-05       €50Th.   \n",
       "\n",
       "       market_value_p            fee left_club_country joined_club_country  \\\n",
       "6604            50000              -          Bulgaria                 NaN   \n",
       "11841          600000        €800Th.            Poland             England   \n",
       "34358         1500000  loan transfer           England             England   \n",
       "16016          200000  free transfer           Austria             Croatia   \n",
       "7583            50000  free transfer             Italy               Italy   \n",
       "\n",
       "      loan_fee  loan_fee_p           created_at           updated_at  \n",
       "6604       NaN         NaN  2021-10-04 16:12:54  2021-10-04 16:12:54  \n",
       "11841      NaN         NaN  2021-10-04 16:39:13  2021-10-04 16:39:13  \n",
       "34358      NaN         NaN  2021-11-02 11:42:18  2021-11-02 11:42:18  \n",
       "16016      NaN         NaN  2021-10-04 17:01:01  2021-10-04 17:01:01  \n",
       "7583       NaN         NaN  2021-10-04 16:17:20  2021-10-04 16:17:20  "
      ]
     },
     "execution_count": 210,
     "metadata": {},
     "output_type": "execute_result"
    }
   ],
   "source": [
    "df = pd.read_csv(\"transfermarkt-transfer.csv\")\n",
    "\n",
    "# developer-friendly column names and format\n",
    "df.columns = [x.lower().replace('-', '_').replace(' ', '_') for x in df.columns.to_list()]\n",
    "\n",
    "df.sample(5, random_state=1)"
   ]
  },
  {
   "cell_type": "markdown",
   "metadata": {},
   "source": [
    "## Dataset Information & Description"
   ]
  },
  {
   "cell_type": "markdown",
   "metadata": {},
   "source": [
    "### Data Sample"
   ]
  },
  {
   "cell_type": "code",
   "execution_count": 211,
   "metadata": {},
   "outputs": [
    {
     "data": {
      "text/html": [
       "<div>\n",
       "<style scoped>\n",
       "    .dataframe tbody tr th:only-of-type {\n",
       "        vertical-align: middle;\n",
       "    }\n",
       "\n",
       "    .dataframe tbody tr th {\n",
       "        vertical-align: top;\n",
       "    }\n",
       "\n",
       "    .dataframe thead th {\n",
       "        text-align: right;\n",
       "    }\n",
       "</style>\n",
       "<table border=\"1\" class=\"dataframe\">\n",
       "  <thead>\n",
       "    <tr style=\"text-align: right;\">\n",
       "      <th></th>\n",
       "      <th>player_id</th>\n",
       "      <th>name</th>\n",
       "      <th>age</th>\n",
       "      <th>position</th>\n",
       "      <th>national_1</th>\n",
       "      <th>national_2</th>\n",
       "      <th>left_club</th>\n",
       "      <th>left_club_league</th>\n",
       "      <th>joined_club</th>\n",
       "      <th>joined_club_league</th>\n",
       "      <th>transfer_date</th>\n",
       "      <th>transfer_date_p</th>\n",
       "      <th>market_value</th>\n",
       "      <th>market_value_p</th>\n",
       "      <th>fee</th>\n",
       "      <th>left_club_country</th>\n",
       "      <th>joined_club_country</th>\n",
       "      <th>loan_fee</th>\n",
       "      <th>loan_fee_p</th>\n",
       "      <th>created_at</th>\n",
       "      <th>updated_at</th>\n",
       "    </tr>\n",
       "  </thead>\n",
       "  <tbody>\n",
       "    <tr>\n",
       "      <th>6604</th>\n",
       "      <td>335736</td>\n",
       "      <td>Iliyan Popov</td>\n",
       "      <td>22.0</td>\n",
       "      <td>Right-Back</td>\n",
       "      <td>Bulgaria</td>\n",
       "      <td>NaN</td>\n",
       "      <td>Yantra</td>\n",
       "      <td>Vtora Liga</td>\n",
       "      <td>Without Club</td>\n",
       "      <td>NaN</td>\n",
       "      <td>Oct 10, 2020</td>\n",
       "      <td>2020-10-10</td>\n",
       "      <td>€50Th.</td>\n",
       "      <td>50000</td>\n",
       "      <td>-</td>\n",
       "      <td>Bulgaria</td>\n",
       "      <td>NaN</td>\n",
       "      <td>NaN</td>\n",
       "      <td>NaN</td>\n",
       "      <td>2021-10-04 16:12:54</td>\n",
       "      <td>2021-10-04 16:12:54</td>\n",
       "    </tr>\n",
       "    <tr>\n",
       "      <th>11841</th>\n",
       "      <td>255383</td>\n",
       "      <td>Michal Helik</td>\n",
       "      <td>25.0</td>\n",
       "      <td>Centre-Back</td>\n",
       "      <td>Poland</td>\n",
       "      <td>NaN</td>\n",
       "      <td>Cracovia</td>\n",
       "      <td>Ekstraklasa</td>\n",
       "      <td>Barnsley FC</td>\n",
       "      <td>Championship</td>\n",
       "      <td>Sep 9, 2020</td>\n",
       "      <td>2020-09-09</td>\n",
       "      <td>€600Th.</td>\n",
       "      <td>600000</td>\n",
       "      <td>€800Th.</td>\n",
       "      <td>Poland</td>\n",
       "      <td>England</td>\n",
       "      <td>NaN</td>\n",
       "      <td>NaN</td>\n",
       "      <td>2021-10-04 16:39:13</td>\n",
       "      <td>2021-10-04 16:39:13</td>\n",
       "    </tr>\n",
       "    <tr>\n",
       "      <th>34358</th>\n",
       "      <td>223225</td>\n",
       "      <td>Dan Crowley</td>\n",
       "      <td>23.0</td>\n",
       "      <td>Attacking Midfield</td>\n",
       "      <td>England</td>\n",
       "      <td>Ireland</td>\n",
       "      <td>Birmingham</td>\n",
       "      <td>Championship</td>\n",
       "      <td>Hull City</td>\n",
       "      <td>League One</td>\n",
       "      <td>Jan 18, 2021</td>\n",
       "      <td>2021-01-18</td>\n",
       "      <td>€1.50m</td>\n",
       "      <td>1500000</td>\n",
       "      <td>loan transfer</td>\n",
       "      <td>England</td>\n",
       "      <td>England</td>\n",
       "      <td>NaN</td>\n",
       "      <td>NaN</td>\n",
       "      <td>2021-11-02 11:42:18</td>\n",
       "      <td>2021-11-02 11:42:18</td>\n",
       "    </tr>\n",
       "    <tr>\n",
       "      <th>16016</th>\n",
       "      <td>156629</td>\n",
       "      <td>Ivan Kovacec</td>\n",
       "      <td>32.0</td>\n",
       "      <td>Left Winger</td>\n",
       "      <td>Croatia</td>\n",
       "      <td>NaN</td>\n",
       "      <td>SV Ried</td>\n",
       "      <td>Bundesliga</td>\n",
       "      <td>NK Zagorec</td>\n",
       "      <td>NaN</td>\n",
       "      <td>Aug 31, 2020</td>\n",
       "      <td>2020-08-31</td>\n",
       "      <td>€200Th.</td>\n",
       "      <td>200000</td>\n",
       "      <td>free transfer</td>\n",
       "      <td>Austria</td>\n",
       "      <td>Croatia</td>\n",
       "      <td>NaN</td>\n",
       "      <td>NaN</td>\n",
       "      <td>2021-10-04 17:01:01</td>\n",
       "      <td>2021-10-04 17:01:01</td>\n",
       "    </tr>\n",
       "    <tr>\n",
       "      <th>7583</th>\n",
       "      <td>399336</td>\n",
       "      <td>Vincenzo Garofalo</td>\n",
       "      <td>21.0</td>\n",
       "      <td>Central Midfield</td>\n",
       "      <td>Italy</td>\n",
       "      <td>NaN</td>\n",
       "      <td>Avellino</td>\n",
       "      <td>Serie C - C</td>\n",
       "      <td>Foggia</td>\n",
       "      <td>Serie C - C</td>\n",
       "      <td>Oct 5, 2020</td>\n",
       "      <td>2020-10-05</td>\n",
       "      <td>€50Th.</td>\n",
       "      <td>50000</td>\n",
       "      <td>free transfer</td>\n",
       "      <td>Italy</td>\n",
       "      <td>Italy</td>\n",
       "      <td>NaN</td>\n",
       "      <td>NaN</td>\n",
       "      <td>2021-10-04 16:17:20</td>\n",
       "      <td>2021-10-04 16:17:20</td>\n",
       "    </tr>\n",
       "  </tbody>\n",
       "</table>\n",
       "</div>"
      ],
      "text/plain": [
       "       player_id               name   age            position national_1  \\\n",
       "6604      335736       Iliyan Popov  22.0          Right-Back   Bulgaria   \n",
       "11841     255383       Michal Helik  25.0         Centre-Back     Poland   \n",
       "34358     223225        Dan Crowley  23.0  Attacking Midfield    England   \n",
       "16016     156629       Ivan Kovacec  32.0         Left Winger    Croatia   \n",
       "7583      399336  Vincenzo Garofalo  21.0    Central Midfield      Italy   \n",
       "\n",
       "      national_2   left_club left_club_league   joined_club  \\\n",
       "6604         NaN      Yantra       Vtora Liga  Without Club   \n",
       "11841        NaN    Cracovia      Ekstraklasa   Barnsley FC   \n",
       "34358    Ireland  Birmingham     Championship     Hull City   \n",
       "16016        NaN     SV Ried       Bundesliga    NK Zagorec   \n",
       "7583         NaN    Avellino      Serie C - C        Foggia   \n",
       "\n",
       "      joined_club_league transfer_date transfer_date_p market_value  \\\n",
       "6604                 NaN  Oct 10, 2020      2020-10-10       €50Th.   \n",
       "11841       Championship   Sep 9, 2020      2020-09-09      €600Th.   \n",
       "34358         League One  Jan 18, 2021      2021-01-18       €1.50m   \n",
       "16016                NaN  Aug 31, 2020      2020-08-31      €200Th.   \n",
       "7583         Serie C - C   Oct 5, 2020      2020-10-05       €50Th.   \n",
       "\n",
       "       market_value_p            fee left_club_country joined_club_country  \\\n",
       "6604            50000              -          Bulgaria                 NaN   \n",
       "11841          600000        €800Th.            Poland             England   \n",
       "34358         1500000  loan transfer           England             England   \n",
       "16016          200000  free transfer           Austria             Croatia   \n",
       "7583            50000  free transfer             Italy               Italy   \n",
       "\n",
       "      loan_fee  loan_fee_p           created_at           updated_at  \n",
       "6604       NaN         NaN  2021-10-04 16:12:54  2021-10-04 16:12:54  \n",
       "11841      NaN         NaN  2021-10-04 16:39:13  2021-10-04 16:39:13  \n",
       "34358      NaN         NaN  2021-11-02 11:42:18  2021-11-02 11:42:18  \n",
       "16016      NaN         NaN  2021-10-04 17:01:01  2021-10-04 17:01:01  \n",
       "7583       NaN         NaN  2021-10-04 16:17:20  2021-10-04 16:17:20  "
      ]
     },
     "execution_count": 211,
     "metadata": {},
     "output_type": "execute_result"
    }
   ],
   "source": [
    "df.sample(5, random_state=1)"
   ]
  },
  {
   "cell_type": "markdown",
   "metadata": {},
   "source": [
    "### Columns Description"
   ]
  },
  {
   "cell_type": "markdown",
   "metadata": {},
   "source": [
    "| Column | Description | Data Type |\n",
    "| --- | ----------- | ------- |\n",
    "| player_id | The player's ID in transfermarkt site | categorical - unique |\n",
    "| name | The player's name | categorical - nominal |\n",
    "| age | The player's age | numerical - discrete |\n",
    "| position | The player's position | categorical - nominal |\n",
    "| national_1 | The player's nationality | categorical - nominal |\n",
    "| national_2 | The player's other nationality | categorical - nominal |\n",
    "| left_club | the player's former club | categorical - nominal |\n",
    "| left_club_league | the player's former club league | categorical - nominal |\n",
    "| left_club_country | the player's former club country | categorical - nominal |\n",
    "| join_club | the player's new club | categorical - nominal |\n",
    "| join_club_league | the player's new club league | categorical - nominal |\n",
    "| join_club_country | the player's new club country | categorical - nominal |\n",
    "| transfer_date | the transfer date | categorical - nominal |\n",
    "| transfer_date_p | the transfer date (parsed) | categorical - date |\n",
    "| market_value | the player's market value | categorical - nominal |\n",
    "| market_value_p | the player's market value (parsed) | numerical - discrete |\n",
    "| fee | - | categorical - nominal |\n",
    "| loan_fee | - | categorical - nominal |\n",
    "| loan_fee_p | - | numerical - discrete |\n",
    "| created_at | the time data created (scraped) | categorical - datetime |\n",
    "| updated_at | the time data edited (after scraped) | categorical - datetime |\n"
   ]
  },
  {
   "cell_type": "markdown",
   "metadata": {},
   "source": [
    "### Data Information"
   ]
  },
  {
   "cell_type": "code",
   "execution_count": 212,
   "metadata": {},
   "outputs": [
    {
     "name": "stdout",
     "output_type": "stream",
     "text": [
      "<class 'pandas.core.frame.DataFrame'>\n",
      "RangeIndex: 38212 entries, 0 to 38211\n",
      "Data columns (total 21 columns):\n",
      " #   Column               Non-Null Count  Dtype  \n",
      "---  ------               --------------  -----  \n",
      " 0   player_id            38212 non-null  int64  \n",
      " 1   name                 38212 non-null  object \n",
      " 2   age                  37992 non-null  float64\n",
      " 3   position             38212 non-null  object \n",
      " 4   national_1           38211 non-null  object \n",
      " 5   national_2           5940 non-null   object \n",
      " 6   left_club            38212 non-null  object \n",
      " 7   left_club_league     27721 non-null  object \n",
      " 8   joined_club          37776 non-null  object \n",
      " 9   joined_club_league   26800 non-null  object \n",
      " 10  transfer_date        38212 non-null  object \n",
      " 11  transfer_date_p      38212 non-null  object \n",
      " 12  market_value         38212 non-null  object \n",
      " 13  market_value_p       38212 non-null  int64  \n",
      " 14  fee                  38211 non-null  object \n",
      " 15  left_club_country    35180 non-null  object \n",
      " 16  joined_club_country  34628 non-null  object \n",
      " 17  loan_fee             200 non-null    object \n",
      " 18  loan_fee_p           200 non-null    float64\n",
      " 19  created_at           38212 non-null  object \n",
      " 20  updated_at           38212 non-null  object \n",
      "dtypes: float64(2), int64(2), object(17)\n",
      "memory usage: 6.1+ MB\n"
     ]
    }
   ],
   "source": [
    "df.info()"
   ]
  },
  {
   "cell_type": "markdown",
   "metadata": {},
   "source": [
    "### Transfers Date Range"
   ]
  },
  {
   "cell_type": "code",
   "execution_count": 213,
   "metadata": {},
   "outputs": [
    {
     "name": "stdout",
     "output_type": "stream",
     "text": [
      "from Jul 4, 2020 to Feb 1, 2021\n"
     ]
    }
   ],
   "source": [
    "print(f\"from {df.sort_values(['transfer_date_p']).iloc[[0, -1]].values[0, 10]} to {df.sort_values(['transfer_date_p']).iloc[[0, -1]].values[1, 10]}\")"
   ]
  },
  {
   "cell_type": "markdown",
   "metadata": {},
   "source": [
    "## Preprocessing"
   ]
  },
  {
   "cell_type": "markdown",
   "metadata": {},
   "source": [
    "### Remove Unnecessary Features"
   ]
  },
  {
   "cell_type": "code",
   "execution_count": 214,
   "metadata": {},
   "outputs": [],
   "source": [
    "df.drop(['market_value', 'transfer_date', 'created_at', 'updated_at'], axis=1, inplace=True)"
   ]
  },
  {
   "cell_type": "markdown",
   "metadata": {},
   "source": [
    "### Remove Duplication"
   ]
  },
  {
   "cell_type": "code",
   "execution_count": 215,
   "metadata": {},
   "outputs": [
    {
     "name": "stdout",
     "output_type": "stream",
     "text": [
      "duplicated count before removal: 398\n",
      "duplicated count after removal: 0\n"
     ]
    }
   ],
   "source": [
    "print(\"duplicated count before removal:\", df.duplicated(cols).sum())\n",
    "\n",
    "df.drop_duplicates(inplace=True)\n",
    "\n",
    "print(\"duplicated count after removal:\", df.duplicated(cols).sum())\n"
   ]
  },
  {
   "cell_type": "markdown",
   "metadata": {},
   "source": [
    "## Exploratory Data Analysis"
   ]
  },
  {
   "cell_type": "markdown",
   "metadata": {},
   "source": [
    "### Descriptive Statistics"
   ]
  },
  {
   "cell_type": "markdown",
   "metadata": {},
   "source": [
    "#### Numerical"
   ]
  },
  {
   "cell_type": "code",
   "execution_count": 216,
   "metadata": {},
   "outputs": [
    {
     "data": {
      "text/html": [
       "<div>\n",
       "<style scoped>\n",
       "    .dataframe tbody tr th:only-of-type {\n",
       "        vertical-align: middle;\n",
       "    }\n",
       "\n",
       "    .dataframe tbody tr th {\n",
       "        vertical-align: top;\n",
       "    }\n",
       "\n",
       "    .dataframe thead th {\n",
       "        text-align: right;\n",
       "    }\n",
       "</style>\n",
       "<table border=\"1\" class=\"dataframe\">\n",
       "  <thead>\n",
       "    <tr style=\"text-align: right;\">\n",
       "      <th></th>\n",
       "      <th>player_id</th>\n",
       "      <th>age</th>\n",
       "      <th>market_value_p</th>\n",
       "      <th>loan_fee_p</th>\n",
       "    </tr>\n",
       "  </thead>\n",
       "  <tbody>\n",
       "    <tr>\n",
       "      <th>count</th>\n",
       "      <td>37814.000000</td>\n",
       "      <td>37594.000000</td>\n",
       "      <td>3.781400e+04</td>\n",
       "      <td>1.970000e+02</td>\n",
       "    </tr>\n",
       "    <tr>\n",
       "      <th>mean</th>\n",
       "      <td>349023.177738</td>\n",
       "      <td>25.517689</td>\n",
       "      <td>4.014903e+05</td>\n",
       "      <td>9.463604e+05</td>\n",
       "    </tr>\n",
       "    <tr>\n",
       "      <th>std</th>\n",
       "      <td>194659.288844</td>\n",
       "      <td>4.687207</td>\n",
       "      <td>1.824081e+06</td>\n",
       "      <td>1.915119e+06</td>\n",
       "    </tr>\n",
       "    <tr>\n",
       "      <th>min</th>\n",
       "      <td>532.000000</td>\n",
       "      <td>15.000000</td>\n",
       "      <td>1.000000e+04</td>\n",
       "      <td>2.000000e+03</td>\n",
       "    </tr>\n",
       "    <tr>\n",
       "      <th>25%</th>\n",
       "      <td>190173.500000</td>\n",
       "      <td>22.000000</td>\n",
       "      <td>5.000000e+04</td>\n",
       "      <td>1.050000e+05</td>\n",
       "    </tr>\n",
       "    <tr>\n",
       "      <th>50%</th>\n",
       "      <td>340892.500000</td>\n",
       "      <td>25.000000</td>\n",
       "      <td>1.000000e+05</td>\n",
       "      <td>4.500000e+05</td>\n",
       "    </tr>\n",
       "    <tr>\n",
       "      <th>75%</th>\n",
       "      <td>499494.500000</td>\n",
       "      <td>29.000000</td>\n",
       "      <td>2.500000e+05</td>\n",
       "      <td>1.000000e+06</td>\n",
       "    </tr>\n",
       "    <tr>\n",
       "      <th>max</th>\n",
       "      <td>860256.000000</td>\n",
       "      <td>45.000000</td>\n",
       "      <td>8.100000e+07</td>\n",
       "      <td>2.000000e+07</td>\n",
       "    </tr>\n",
       "  </tbody>\n",
       "</table>\n",
       "</div>"
      ],
      "text/plain": [
       "           player_id           age  market_value_p    loan_fee_p\n",
       "count   37814.000000  37594.000000    3.781400e+04  1.970000e+02\n",
       "mean   349023.177738     25.517689    4.014903e+05  9.463604e+05\n",
       "std    194659.288844      4.687207    1.824081e+06  1.915119e+06\n",
       "min       532.000000     15.000000    1.000000e+04  2.000000e+03\n",
       "25%    190173.500000     22.000000    5.000000e+04  1.050000e+05\n",
       "50%    340892.500000     25.000000    1.000000e+05  4.500000e+05\n",
       "75%    499494.500000     29.000000    2.500000e+05  1.000000e+06\n",
       "max    860256.000000     45.000000    8.100000e+07  2.000000e+07"
      ]
     },
     "execution_count": 216,
     "metadata": {},
     "output_type": "execute_result"
    }
   ],
   "source": [
    "df.select_dtypes(include='number').describe()\n"
   ]
  },
  {
   "cell_type": "markdown",
   "metadata": {},
   "source": [
    "#### Categorical"
   ]
  },
  {
   "cell_type": "code",
   "execution_count": 217,
   "metadata": {},
   "outputs": [
    {
     "data": {
      "text/html": [
       "<div>\n",
       "<style scoped>\n",
       "    .dataframe tbody tr th:only-of-type {\n",
       "        vertical-align: middle;\n",
       "    }\n",
       "\n",
       "    .dataframe tbody tr th {\n",
       "        vertical-align: top;\n",
       "    }\n",
       "\n",
       "    .dataframe thead th {\n",
       "        text-align: right;\n",
       "    }\n",
       "</style>\n",
       "<table border=\"1\" class=\"dataframe\">\n",
       "  <thead>\n",
       "    <tr style=\"text-align: right;\">\n",
       "      <th></th>\n",
       "      <th>name</th>\n",
       "      <th>position</th>\n",
       "      <th>national_1</th>\n",
       "      <th>national_2</th>\n",
       "      <th>left_club</th>\n",
       "      <th>left_club_league</th>\n",
       "      <th>joined_club</th>\n",
       "      <th>joined_club_league</th>\n",
       "      <th>transfer_date_p</th>\n",
       "      <th>fee</th>\n",
       "      <th>left_club_country</th>\n",
       "      <th>joined_club_country</th>\n",
       "      <th>loan_fee</th>\n",
       "    </tr>\n",
       "  </thead>\n",
       "  <tbody>\n",
       "    <tr>\n",
       "      <th>count</th>\n",
       "      <td>37814</td>\n",
       "      <td>37814</td>\n",
       "      <td>37813</td>\n",
       "      <td>5890</td>\n",
       "      <td>37814</td>\n",
       "      <td>27368</td>\n",
       "      <td>37378</td>\n",
       "      <td>26444</td>\n",
       "      <td>37814</td>\n",
       "      <td>37813</td>\n",
       "      <td>34794</td>\n",
       "      <td>34232</td>\n",
       "      <td>197</td>\n",
       "    </tr>\n",
       "    <tr>\n",
       "      <th>unique</th>\n",
       "      <td>33226</td>\n",
       "      <td>16</td>\n",
       "      <td>202</td>\n",
       "      <td>171</td>\n",
       "      <td>6442</td>\n",
       "      <td>316</td>\n",
       "      <td>6878</td>\n",
       "      <td>334</td>\n",
       "      <td>213</td>\n",
       "      <td>361</td>\n",
       "      <td>159</td>\n",
       "      <td>160</td>\n",
       "      <td>74</td>\n",
       "    </tr>\n",
       "    <tr>\n",
       "      <th>top</th>\n",
       "      <td>Juninho</td>\n",
       "      <td>Centre-Forward</td>\n",
       "      <td>Italy</td>\n",
       "      <td>Italy</td>\n",
       "      <td>Without Club</td>\n",
       "      <td>Premier League</td>\n",
       "      <td>Without Club</td>\n",
       "      <td>Premier League</td>\n",
       "      <td>2020-08-01</td>\n",
       "      <td>free transfer</td>\n",
       "      <td>Italy</td>\n",
       "      <td>Italy</td>\n",
       "      <td>€500Th.</td>\n",
       "    </tr>\n",
       "    <tr>\n",
       "      <th>freq</th>\n",
       "      <td>10</td>\n",
       "      <td>6049</td>\n",
       "      <td>3679</td>\n",
       "      <td>749</td>\n",
       "      <td>2754</td>\n",
       "      <td>810</td>\n",
       "      <td>2767</td>\n",
       "      <td>649</td>\n",
       "      <td>2062</td>\n",
       "      <td>19103</td>\n",
       "      <td>4100</td>\n",
       "      <td>4175</td>\n",
       "      <td>21</td>\n",
       "    </tr>\n",
       "  </tbody>\n",
       "</table>\n",
       "</div>"
      ],
      "text/plain": [
       "           name        position national_1 national_2     left_club  \\\n",
       "count     37814           37814      37813       5890         37814   \n",
       "unique    33226              16        202        171          6442   \n",
       "top     Juninho  Centre-Forward      Italy      Italy  Without Club   \n",
       "freq         10            6049       3679        749          2754   \n",
       "\n",
       "       left_club_league   joined_club joined_club_league transfer_date_p  \\\n",
       "count             27368         37378              26444           37814   \n",
       "unique              316          6878                334             213   \n",
       "top      Premier League  Without Club     Premier League      2020-08-01   \n",
       "freq                810          2767                649            2062   \n",
       "\n",
       "                  fee left_club_country joined_club_country loan_fee  \n",
       "count           37813             34794               34232      197  \n",
       "unique            361               159                 160       74  \n",
       "top     free transfer             Italy               Italy  €500Th.  \n",
       "freq            19103              4100                4175       21  "
      ]
     },
     "execution_count": 217,
     "metadata": {},
     "output_type": "execute_result"
    }
   ],
   "source": [
    "df.select_dtypes(exclude='number').describe()\n"
   ]
  },
  {
   "cell_type": "markdown",
   "metadata": {},
   "source": [
    "### Univariate Analysis"
   ]
  },
  {
   "cell_type": "code",
   "execution_count": 218,
   "metadata": {},
   "outputs": [],
   "source": [
    "pass"
   ]
  },
  {
   "cell_type": "markdown",
   "metadata": {},
   "source": [
    "### Multivariate Analysis"
   ]
  },
  {
   "cell_type": "code",
   "execution_count": 219,
   "metadata": {},
   "outputs": [],
   "source": [
    "pass"
   ]
  },
  {
   "cell_type": "markdown",
   "metadata": {},
   "source": [
    "### Insights"
   ]
  },
  {
   "cell_type": "markdown",
   "metadata": {},
   "source": [
    "#### Most Valueable Nation by Transfers Activities"
   ]
  },
  {
   "cell_type": "code",
   "execution_count": 220,
   "metadata": {},
   "outputs": [
    {
     "data": {
      "image/png": "[encoded data removed]",
      "text/plain": [
       "<Figure size 720x360 with 1 Axes>"
      ]
     },
     "metadata": {
      "needs_background": "light"
     },
     "output_type": "display_data"
    }
   ],
   "source": [
    "idf = df.groupby('national_1').agg({'market_value_p': 'sum'}).sort_values('market_value_p', ascending=False).reset_index().head(10)\n",
    "\n",
    "plt.figure(figsize=(10, 5))\n",
    "sns.barplot(x='national_1', y='market_value_p', data=idf)\n",
    "plt.ylabel('Market Value Summary')\n",
    "plt.xlabel('Nationality')\n",
    "plt.show();"
   ]
  },
  {
   "cell_type": "markdown",
   "metadata": {},
   "source": [
    "#### Most Valueable League by Player Transfers"
   ]
  },
  {
   "cell_type": "code",
   "execution_count": 251,
   "metadata": {},
   "outputs": [
    {
     "data": {
      "image/png": "[encoded data removed]",
      "text/plain": [
       "<Figure size 1080x360 with 1 Axes>"
      ]
     },
     "metadata": {
      "needs_background": "light"
     },
     "output_type": "display_data"
    }
   ],
   "source": [
    "idfl = df.groupby('left_club_league').agg({'market_value_p': 'sum'}).sort_values('market_value_p', ascending=False).reset_index()\n",
    "idfl = idfl.rename(columns={'left_club_league': 'league','market_value_p': 'out_value'})\n",
    "\n",
    "idfr = df.groupby('joined_club_league').agg({'market_value_p': 'sum'}).sort_values('market_value_p', ascending=False).reset_index()\n",
    "idfr = idfr.rename(columns={'joined_club_league': 'league', 'market_value_p': 'in_value'})\n",
    "\n",
    "idf = idfl.merge(idfr, on='league')\n",
    "idf['diff_value'] = idf['in_value'] - idf['out_value']\n",
    "idf = idf.sort_values(['diff_value'], ascending=False).head(10)\n",
    "\n",
    "plt.figure(figsize=(15, 5))\n",
    "sns.barplot(x='diff_value', y='league', data=idf)\n",
    "plt.ylabel('League')\n",
    "plt.xlabel('Value')\n",
    "plt.show();\n"
   ]
  }
 ],
 "metadata": {
  "interpreter": {
   "hash": "fc7c798429ebac561b92ee2fcc9a6637543e2bbac22a4a6dbaa9a56fd1244998"
  },
  "kernelspec": {
   "display_name": "Python 3.8.5 64-bit ('base': conda)",
   "name": "python3"
  },
  "language_info": {
   "codemirror_mode": {
    "name": "ipython",
    "version": 3
   },
   "file_extension": ".py",
   "mimetype": "text/x-python",
   "name": "python",
   "nbconvert_exporter": "python",
   "pygments_lexer": "ipython3",
   "version": "3.8.5"
  },
  "orig_nbformat": 4
 },
 "nbformat": 4,
 "nbformat_minor": 2
}
