{
 "cells": [
  {
   "cell_type": "markdown",
   "metadata": {},
   "source": [
    "# Transfermarkt Transfers"
   ]
  },
  {
   "cell_type": "markdown",
   "metadata": {},
   "source": [
    "**Disclaimers** : \n",
    "- The analysis scope is based on the dataset, especially on the defined transfer date range. Some info and numbers may differ from the real complete data out there.\n",
    "- Some data may be missing because of scraping issue or restricted by the transfermarkt themselves. These could causing an innacurate conclusions.\n",
    "\n",
    "The dataset was politely scraped from [transfermarkt.com](https://www.transfermarkt.com/statistik/transfertage) using Scrapy and Splash. The notebook will be updated as the scraping goes from time to time. Check the `Transfer Date Range` section below to find out the oldest and latest date."
   ]
  },
  {
   "cell_type": "markdown",
   "metadata": {},
   "source": [
    "## Preparation"
   ]
  },
  {
   "cell_type": "markdown",
   "metadata": {},
   "source": [
    "### Import Libraries"
   ]
  },
  {
   "cell_type": "code",
   "execution_count": 41,
   "metadata": {},
   "outputs": [
    {
     "name": "stdout",
     "output_type": "stream",
     "text": [
      "python version:  3.8.5 (default, Sep  3 2020, 21:29:08) [MSC v.1916 64 bit (AMD64)]\n",
      "pandas version:  1.1.3\n",
      "seaborn version:  0.11.0\n",
      "last run:  2021-11-11 13:21:22\n"
     ]
    }
   ],
   "source": [
    "import seaborn as sns\n",
    "import pandas as pd\n",
    "import matplotlib.pyplot as plt\n",
    "import warnings\n",
    "import sys\n",
    "import datetime\n",
    "from IPython.core.interactiveshell import InteractiveShell\n",
    "\n",
    "pd.set_option('display.max_columns', None)\n",
    "InteractiveShell.ast_node_interactivity = \"all\"\n",
    "warnings.filterwarnings('ignore')\n",
    "\n",
    "print(\"python version: \", sys.version)\n",
    "print(\"pandas version: \", pd.__version__)\n",
    "print(\"seaborn version: \", sns.__version__)\n",
    "\n",
    "print(\"last run: \", datetime.datetime.now().strftime(\"%Y-%m-%d %H:%M:%S\"))\n"
   ]
  },
  {
   "cell_type": "markdown",
   "metadata": {},
   "source": [
    "### Loading Dataset"
   ]
  },
  {
   "cell_type": "code",
   "execution_count": 42,
   "metadata": {},
   "outputs": [
    {
     "data": {
      "text/html": [
       "<div>\n",
       "<style scoped>\n",
       "    .dataframe tbody tr th:only-of-type {\n",
       "        vertical-align: middle;\n",
       "    }\n",
       "\n",
       "    .dataframe tbody tr th {\n",
       "        vertical-align: top;\n",
       "    }\n",
       "\n",
       "    .dataframe thead th {\n",
       "        text-align: right;\n",
       "    }\n",
       "</style>\n",
       "<table border=\"1\" class=\"dataframe\">\n",
       "  <thead>\n",
       "    <tr style=\"text-align: right;\">\n",
       "      <th></th>\n",
       "      <th>player_id</th>\n",
       "      <th>name</th>\n",
       "      <th>age</th>\n",
       "      <th>position</th>\n",
       "      <th>national_1</th>\n",
       "      <th>national_2</th>\n",
       "      <th>left_club</th>\n",
       "      <th>left_club_league</th>\n",
       "      <th>joined_club</th>\n",
       "      <th>joined_club_league</th>\n",
       "      <th>transfer_date</th>\n",
       "      <th>transfer_date_p</th>\n",
       "      <th>market_value</th>\n",
       "      <th>market_value_p</th>\n",
       "      <th>fee</th>\n",
       "      <th>left_club_country</th>\n",
       "      <th>joined_club_country</th>\n",
       "      <th>loan_fee</th>\n",
       "      <th>loan_fee_p</th>\n",
       "      <th>created_at</th>\n",
       "      <th>updated_at</th>\n",
       "    </tr>\n",
       "  </thead>\n",
       "  <tbody>\n",
       "    <tr>\n",
       "      <th>4388</th>\n",
       "      <td>432094.0</td>\n",
       "      <td>Shemmy Mayembe</td>\n",
       "      <td>22.0</td>\n",
       "      <td>Right-Back</td>\n",
       "      <td>Zambia</td>\n",
       "      <td>NaN</td>\n",
       "      <td>ZESCO United FC</td>\n",
       "      <td>NaN</td>\n",
       "      <td>FK Minaj</td>\n",
       "      <td>Premier Liga</td>\n",
       "      <td>Sep 16, 2020</td>\n",
       "      <td>2020-09-16</td>\n",
       "      <td>€50Th.</td>\n",
       "      <td>50000</td>\n",
       "      <td>?</td>\n",
       "      <td>Zambia</td>\n",
       "      <td>Ukraine</td>\n",
       "      <td>NaN</td>\n",
       "      <td>NaN</td>\n",
       "      <td>2021-10-04 16:40:00</td>\n",
       "      <td>2021-10-04 16:40:00</td>\n",
       "    </tr>\n",
       "    <tr>\n",
       "      <th>37911</th>\n",
       "      <td>512051.0</td>\n",
       "      <td>Héctor Urdíroz</td>\n",
       "      <td>28.0</td>\n",
       "      <td>Central Midfield</td>\n",
       "      <td>Spain</td>\n",
       "      <td>NaN</td>\n",
       "      <td>Burladés</td>\n",
       "      <td>NaN</td>\n",
       "      <td>Beti Kozkor</td>\n",
       "      <td>NaN</td>\n",
       "      <td>Aug 1, 2020</td>\n",
       "      <td>2020-08-01</td>\n",
       "      <td>€100Th.</td>\n",
       "      <td>100000</td>\n",
       "      <td>free transfer</td>\n",
       "      <td>Spain</td>\n",
       "      <td>Spain</td>\n",
       "      <td>NaN</td>\n",
       "      <td>NaN</td>\n",
       "      <td>2021-10-04 17:11:09</td>\n",
       "      <td>2021-10-04 17:11:09</td>\n",
       "    </tr>\n",
       "    <tr>\n",
       "      <th>21780</th>\n",
       "      <td>650865.0</td>\n",
       "      <td>Fabian Monge</td>\n",
       "      <td>19.0</td>\n",
       "      <td>Defensive Midfield</td>\n",
       "      <td>Australia</td>\n",
       "      <td>NaN</td>\n",
       "      <td>Western Sydney</td>\n",
       "      <td>A-League</td>\n",
       "      <td>Sydney Olympic</td>\n",
       "      <td>NPL New South Wales</td>\n",
       "      <td>Jan 22, 2021</td>\n",
       "      <td>2021-01-22</td>\n",
       "      <td>€50Th.</td>\n",
       "      <td>50000</td>\n",
       "      <td>?</td>\n",
       "      <td>Australia</td>\n",
       "      <td>Australia</td>\n",
       "      <td>NaN</td>\n",
       "      <td>NaN</td>\n",
       "      <td>2021-11-02 11:43:06</td>\n",
       "      <td>2021-11-02 11:43:06</td>\n",
       "    </tr>\n",
       "    <tr>\n",
       "      <th>9270</th>\n",
       "      <td>176133.0</td>\n",
       "      <td>Hernán Santana</td>\n",
       "      <td>30.0</td>\n",
       "      <td>Central Midfield</td>\n",
       "      <td>Spain</td>\n",
       "      <td>NaN</td>\n",
       "      <td>Sporting Gijón</td>\n",
       "      <td>LaLiga2</td>\n",
       "      <td>Mumbai City</td>\n",
       "      <td>Indian Super League</td>\n",
       "      <td>Oct 25, 2020</td>\n",
       "      <td>2020-10-25</td>\n",
       "      <td>€325Th.</td>\n",
       "      <td>325000</td>\n",
       "      <td>loan transfer</td>\n",
       "      <td>Spain</td>\n",
       "      <td>India</td>\n",
       "      <td>NaN</td>\n",
       "      <td>NaN</td>\n",
       "      <td>2021-10-04 16:05:34</td>\n",
       "      <td>2021-10-04 16:05:34</td>\n",
       "    </tr>\n",
       "    <tr>\n",
       "      <th>7460</th>\n",
       "      <td>387601.0</td>\n",
       "      <td>Giuseppe Stancampiano</td>\n",
       "      <td>33.0</td>\n",
       "      <td>Goalkeeper</td>\n",
       "      <td>Italy</td>\n",
       "      <td>NaN</td>\n",
       "      <td>Trapani</td>\n",
       "      <td>NaN</td>\n",
       "      <td>Without Club</td>\n",
       "      <td>NaN</td>\n",
       "      <td>Oct 6, 2020</td>\n",
       "      <td>2020-10-06</td>\n",
       "      <td>€50Th.</td>\n",
       "      <td>50000</td>\n",
       "      <td>-</td>\n",
       "      <td>Italy</td>\n",
       "      <td>NaN</td>\n",
       "      <td>NaN</td>\n",
       "      <td>NaN</td>\n",
       "      <td>2021-10-04 16:14:26</td>\n",
       "      <td>2021-10-04 16:14:26</td>\n",
       "    </tr>\n",
       "  </tbody>\n",
       "</table>\n",
       "</div>"
      ],
      "text/plain": [
       "       player_id                   name   age            position national_1  \\\n",
       "4388    432094.0         Shemmy Mayembe  22.0          Right-Back     Zambia   \n",
       "37911   512051.0         Héctor Urdíroz  28.0    Central Midfield      Spain   \n",
       "21780   650865.0           Fabian Monge  19.0  Defensive Midfield  Australia   \n",
       "9270    176133.0         Hernán Santana  30.0    Central Midfield      Spain   \n",
       "7460    387601.0  Giuseppe Stancampiano  33.0          Goalkeeper      Italy   \n",
       "\n",
       "      national_2        left_club left_club_league     joined_club  \\\n",
       "4388         NaN  ZESCO United FC              NaN        FK Minaj   \n",
       "37911        NaN         Burladés              NaN     Beti Kozkor   \n",
       "21780        NaN   Western Sydney         A-League  Sydney Olympic   \n",
       "9270         NaN   Sporting Gijón          LaLiga2     Mumbai City   \n",
       "7460         NaN          Trapani              NaN    Without Club   \n",
       "\n",
       "        joined_club_league transfer_date transfer_date_p market_value  \\\n",
       "4388          Premier Liga  Sep 16, 2020      2020-09-16       €50Th.   \n",
       "37911                  NaN   Aug 1, 2020      2020-08-01      €100Th.   \n",
       "21780  NPL New South Wales  Jan 22, 2021      2021-01-22       €50Th.   \n",
       "9270   Indian Super League  Oct 25, 2020      2020-10-25      €325Th.   \n",
       "7460                   NaN   Oct 6, 2020      2020-10-06       €50Th.   \n",
       "\n",
       "       market_value_p            fee left_club_country joined_club_country  \\\n",
       "4388            50000              ?            Zambia             Ukraine   \n",
       "37911          100000  free transfer             Spain               Spain   \n",
       "21780           50000              ?         Australia           Australia   \n",
       "9270           325000  loan transfer             Spain               India   \n",
       "7460            50000              -             Italy                 NaN   \n",
       "\n",
       "      loan_fee  loan_fee_p           created_at           updated_at  \n",
       "4388       NaN         NaN  2021-10-04 16:40:00  2021-10-04 16:40:00  \n",
       "37911      NaN         NaN  2021-10-04 17:11:09  2021-10-04 17:11:09  \n",
       "21780      NaN         NaN  2021-11-02 11:43:06  2021-11-02 11:43:06  \n",
       "9270       NaN         NaN  2021-10-04 16:05:34  2021-10-04 16:05:34  \n",
       "7460       NaN         NaN  2021-10-04 16:14:26  2021-10-04 16:14:26  "
      ]
     },
     "execution_count": 42,
     "metadata": {},
     "output_type": "execute_result"
    }
   ],
   "source": [
    "df = pd.read_csv(\"transfermarkt-transfer.csv\")\n",
    "\n",
    "# developer-friendly column names and format\n",
    "df.columns = [x.lower().replace('-', '_').replace(' ', '_') for x in df.columns.to_list()]\n",
    "\n",
    "df.sample(5, random_state=1)"
   ]
  },
  {
   "cell_type": "markdown",
   "metadata": {},
   "source": [
    "## Dataset Information & Description"
   ]
  },
  {
   "cell_type": "markdown",
   "metadata": {},
   "source": [
    "### Data Sample"
   ]
  },
  {
   "cell_type": "code",
   "execution_count": 43,
   "metadata": {},
   "outputs": [
    {
     "data": {
      "text/html": [
       "<div>\n",
       "<style scoped>\n",
       "    .dataframe tbody tr th:only-of-type {\n",
       "        vertical-align: middle;\n",
       "    }\n",
       "\n",
       "    .dataframe tbody tr th {\n",
       "        vertical-align: top;\n",
       "    }\n",
       "\n",
       "    .dataframe thead th {\n",
       "        text-align: right;\n",
       "    }\n",
       "</style>\n",
       "<table border=\"1\" class=\"dataframe\">\n",
       "  <thead>\n",
       "    <tr style=\"text-align: right;\">\n",
       "      <th></th>\n",
       "      <th>player_id</th>\n",
       "      <th>name</th>\n",
       "      <th>age</th>\n",
       "      <th>position</th>\n",
       "      <th>national_1</th>\n",
       "      <th>national_2</th>\n",
       "      <th>left_club</th>\n",
       "      <th>left_club_league</th>\n",
       "      <th>joined_club</th>\n",
       "      <th>joined_club_league</th>\n",
       "      <th>transfer_date</th>\n",
       "      <th>transfer_date_p</th>\n",
       "      <th>market_value</th>\n",
       "      <th>market_value_p</th>\n",
       "      <th>fee</th>\n",
       "      <th>left_club_country</th>\n",
       "      <th>joined_club_country</th>\n",
       "      <th>loan_fee</th>\n",
       "      <th>loan_fee_p</th>\n",
       "      <th>created_at</th>\n",
       "      <th>updated_at</th>\n",
       "    </tr>\n",
       "  </thead>\n",
       "  <tbody>\n",
       "    <tr>\n",
       "      <th>4388</th>\n",
       "      <td>432094.0</td>\n",
       "      <td>Shemmy Mayembe</td>\n",
       "      <td>22.0</td>\n",
       "      <td>Right-Back</td>\n",
       "      <td>Zambia</td>\n",
       "      <td>NaN</td>\n",
       "      <td>ZESCO United FC</td>\n",
       "      <td>NaN</td>\n",
       "      <td>FK Minaj</td>\n",
       "      <td>Premier Liga</td>\n",
       "      <td>Sep 16, 2020</td>\n",
       "      <td>2020-09-16</td>\n",
       "      <td>€50Th.</td>\n",
       "      <td>50000</td>\n",
       "      <td>?</td>\n",
       "      <td>Zambia</td>\n",
       "      <td>Ukraine</td>\n",
       "      <td>NaN</td>\n",
       "      <td>NaN</td>\n",
       "      <td>2021-10-04 16:40:00</td>\n",
       "      <td>2021-10-04 16:40:00</td>\n",
       "    </tr>\n",
       "    <tr>\n",
       "      <th>37911</th>\n",
       "      <td>512051.0</td>\n",
       "      <td>Héctor Urdíroz</td>\n",
       "      <td>28.0</td>\n",
       "      <td>Central Midfield</td>\n",
       "      <td>Spain</td>\n",
       "      <td>NaN</td>\n",
       "      <td>Burladés</td>\n",
       "      <td>NaN</td>\n",
       "      <td>Beti Kozkor</td>\n",
       "      <td>NaN</td>\n",
       "      <td>Aug 1, 2020</td>\n",
       "      <td>2020-08-01</td>\n",
       "      <td>€100Th.</td>\n",
       "      <td>100000</td>\n",
       "      <td>free transfer</td>\n",
       "      <td>Spain</td>\n",
       "      <td>Spain</td>\n",
       "      <td>NaN</td>\n",
       "      <td>NaN</td>\n",
       "      <td>2021-10-04 17:11:09</td>\n",
       "      <td>2021-10-04 17:11:09</td>\n",
       "    </tr>\n",
       "    <tr>\n",
       "      <th>21780</th>\n",
       "      <td>650865.0</td>\n",
       "      <td>Fabian Monge</td>\n",
       "      <td>19.0</td>\n",
       "      <td>Defensive Midfield</td>\n",
       "      <td>Australia</td>\n",
       "      <td>NaN</td>\n",
       "      <td>Western Sydney</td>\n",
       "      <td>A-League</td>\n",
       "      <td>Sydney Olympic</td>\n",
       "      <td>NPL New South Wales</td>\n",
       "      <td>Jan 22, 2021</td>\n",
       "      <td>2021-01-22</td>\n",
       "      <td>€50Th.</td>\n",
       "      <td>50000</td>\n",
       "      <td>?</td>\n",
       "      <td>Australia</td>\n",
       "      <td>Australia</td>\n",
       "      <td>NaN</td>\n",
       "      <td>NaN</td>\n",
       "      <td>2021-11-02 11:43:06</td>\n",
       "      <td>2021-11-02 11:43:06</td>\n",
       "    </tr>\n",
       "    <tr>\n",
       "      <th>9270</th>\n",
       "      <td>176133.0</td>\n",
       "      <td>Hernán Santana</td>\n",
       "      <td>30.0</td>\n",
       "      <td>Central Midfield</td>\n",
       "      <td>Spain</td>\n",
       "      <td>NaN</td>\n",
       "      <td>Sporting Gijón</td>\n",
       "      <td>LaLiga2</td>\n",
       "      <td>Mumbai City</td>\n",
       "      <td>Indian Super League</td>\n",
       "      <td>Oct 25, 2020</td>\n",
       "      <td>2020-10-25</td>\n",
       "      <td>€325Th.</td>\n",
       "      <td>325000</td>\n",
       "      <td>loan transfer</td>\n",
       "      <td>Spain</td>\n",
       "      <td>India</td>\n",
       "      <td>NaN</td>\n",
       "      <td>NaN</td>\n",
       "      <td>2021-10-04 16:05:34</td>\n",
       "      <td>2021-10-04 16:05:34</td>\n",
       "    </tr>\n",
       "    <tr>\n",
       "      <th>7460</th>\n",
       "      <td>387601.0</td>\n",
       "      <td>Giuseppe Stancampiano</td>\n",
       "      <td>33.0</td>\n",
       "      <td>Goalkeeper</td>\n",
       "      <td>Italy</td>\n",
       "      <td>NaN</td>\n",
       "      <td>Trapani</td>\n",
       "      <td>NaN</td>\n",
       "      <td>Without Club</td>\n",
       "      <td>NaN</td>\n",
       "      <td>Oct 6, 2020</td>\n",
       "      <td>2020-10-06</td>\n",
       "      <td>€50Th.</td>\n",
       "      <td>50000</td>\n",
       "      <td>-</td>\n",
       "      <td>Italy</td>\n",
       "      <td>NaN</td>\n",
       "      <td>NaN</td>\n",
       "      <td>NaN</td>\n",
       "      <td>2021-10-04 16:14:26</td>\n",
       "      <td>2021-10-04 16:14:26</td>\n",
       "    </tr>\n",
       "  </tbody>\n",
       "</table>\n",
       "</div>"
      ],
      "text/plain": [
       "       player_id                   name   age            position national_1  \\\n",
       "4388    432094.0         Shemmy Mayembe  22.0          Right-Back     Zambia   \n",
       "37911   512051.0         Héctor Urdíroz  28.0    Central Midfield      Spain   \n",
       "21780   650865.0           Fabian Monge  19.0  Defensive Midfield  Australia   \n",
       "9270    176133.0         Hernán Santana  30.0    Central Midfield      Spain   \n",
       "7460    387601.0  Giuseppe Stancampiano  33.0          Goalkeeper      Italy   \n",
       "\n",
       "      national_2        left_club left_club_league     joined_club  \\\n",
       "4388         NaN  ZESCO United FC              NaN        FK Minaj   \n",
       "37911        NaN         Burladés              NaN     Beti Kozkor   \n",
       "21780        NaN   Western Sydney         A-League  Sydney Olympic   \n",
       "9270         NaN   Sporting Gijón          LaLiga2     Mumbai City   \n",
       "7460         NaN          Trapani              NaN    Without Club   \n",
       "\n",
       "        joined_club_league transfer_date transfer_date_p market_value  \\\n",
       "4388          Premier Liga  Sep 16, 2020      2020-09-16       €50Th.   \n",
       "37911                  NaN   Aug 1, 2020      2020-08-01      €100Th.   \n",
       "21780  NPL New South Wales  Jan 22, 2021      2021-01-22       €50Th.   \n",
       "9270   Indian Super League  Oct 25, 2020      2020-10-25      €325Th.   \n",
       "7460                   NaN   Oct 6, 2020      2020-10-06       €50Th.   \n",
       "\n",
       "       market_value_p            fee left_club_country joined_club_country  \\\n",
       "4388            50000              ?            Zambia             Ukraine   \n",
       "37911          100000  free transfer             Spain               Spain   \n",
       "21780           50000              ?         Australia           Australia   \n",
       "9270           325000  loan transfer             Spain               India   \n",
       "7460            50000              -             Italy                 NaN   \n",
       "\n",
       "      loan_fee  loan_fee_p           created_at           updated_at  \n",
       "4388       NaN         NaN  2021-10-04 16:40:00  2021-10-04 16:40:00  \n",
       "37911      NaN         NaN  2021-10-04 17:11:09  2021-10-04 17:11:09  \n",
       "21780      NaN         NaN  2021-11-02 11:43:06  2021-11-02 11:43:06  \n",
       "9270       NaN         NaN  2021-10-04 16:05:34  2021-10-04 16:05:34  \n",
       "7460       NaN         NaN  2021-10-04 16:14:26  2021-10-04 16:14:26  "
      ]
     },
     "execution_count": 43,
     "metadata": {},
     "output_type": "execute_result"
    }
   ],
   "source": [
    "df.sample(5, random_state=1)"
   ]
  },
  {
   "cell_type": "markdown",
   "metadata": {},
   "source": [
    "### Columns Description"
   ]
  },
  {
   "cell_type": "markdown",
   "metadata": {},
   "source": [
    "| Column | Description | Data Type |\n",
    "| --- | ----------- | ------- |\n",
    "| player_id | The player's ID in transfermarkt site | categorical - unique |\n",
    "| name | The player's name | categorical - nominal |\n",
    "| age | The player's age | numerical - discrete |\n",
    "| position | The player's position | categorical - nominal |\n",
    "| national_1 | The player's nationality | categorical - nominal |\n",
    "| national_2 | The player's other nationality | categorical - nominal |\n",
    "| left_club | the player's former club | categorical - nominal |\n",
    "| left_club_league | the player's former club league | categorical - nominal |\n",
    "| left_club_country | the player's former club country | categorical - nominal |\n",
    "| join_club | the player's new club | categorical - nominal |\n",
    "| join_club_league | the player's new club league | categorical - nominal |\n",
    "| join_club_country | the player's new club country | categorical - nominal |\n",
    "| transfer_date | the transfer date | categorical - nominal |\n",
    "| transfer_date_p | the transfer date (parsed) | categorical - date |\n",
    "| market_value | the player's market value | categorical - nominal |\n",
    "| market_value_p | the player's market value (parsed) | numerical - discrete |\n",
    "| fee | - | categorical - nominal |\n",
    "| loan_fee | - | categorical - nominal |\n",
    "| loan_fee_p | - | numerical - discrete |\n",
    "| created_at | the time data created (scraped) | categorical - datetime |\n",
    "| updated_at | the time data edited (after scraped) | categorical - datetime |\n"
   ]
  },
  {
   "cell_type": "markdown",
   "metadata": {},
   "source": [
    "### Data Information"
   ]
  },
  {
   "cell_type": "code",
   "execution_count": 44,
   "metadata": {},
   "outputs": [
    {
     "name": "stdout",
     "output_type": "stream",
     "text": [
      "<class 'pandas.core.frame.DataFrame'>\n",
      "RangeIndex: 39265 entries, 0 to 39264\n",
      "Data columns (total 21 columns):\n",
      " #   Column               Non-Null Count  Dtype  \n",
      "---  ------               --------------  -----  \n",
      " 0   player_id            38212 non-null  float64\n",
      " 1   name                 39265 non-null  object \n",
      " 2   age                  39043 non-null  float64\n",
      " 3   position             39265 non-null  object \n",
      " 4   national_1           39264 non-null  object \n",
      " 5   national_2           6124 non-null   object \n",
      " 6   left_club            38309 non-null  object \n",
      " 7   left_club_league     28517 non-null  object \n",
      " 8   joined_club          37818 non-null  object \n",
      " 9   joined_club_league   27624 non-null  object \n",
      " 10  transfer_date        39265 non-null  object \n",
      " 11  transfer_date_p      39265 non-null  object \n",
      " 12  market_value         39265 non-null  object \n",
      " 13  market_value_p       39265 non-null  int64  \n",
      " 14  fee                  39264 non-null  object \n",
      " 15  left_club_country    36136 non-null  object \n",
      " 16  joined_club_country  35630 non-null  object \n",
      " 17  loan_fee             209 non-null    object \n",
      " 18  loan_fee_p           209 non-null    float64\n",
      " 19  created_at           39265 non-null  object \n",
      " 20  updated_at           39265 non-null  object \n",
      "dtypes: float64(3), int64(1), object(17)\n",
      "memory usage: 6.3+ MB\n"
     ]
    }
   ],
   "source": [
    "df.info()"
   ]
  },
  {
   "cell_type": "markdown",
   "metadata": {},
   "source": [
    "### Transfers Date Range"
   ]
  },
  {
   "cell_type": "code",
   "execution_count": 45,
   "metadata": {},
   "outputs": [
    {
     "name": "stdout",
     "output_type": "stream",
     "text": [
      "from Jul 4, 2020 to Feb 5, 2021\n"
     ]
    }
   ],
   "source": [
    "print(f\"from {df.sort_values(['transfer_date_p']).iloc[[0, -1]].values[0, 10]} to {df.sort_values(['transfer_date_p']).iloc[[0, -1]].values[1, 10]}\")"
   ]
  },
  {
   "cell_type": "markdown",
   "metadata": {},
   "source": [
    "## Preprocessing"
   ]
  },
  {
   "cell_type": "markdown",
   "metadata": {},
   "source": [
    "### Remove Unnecessary Features"
   ]
  },
  {
   "cell_type": "code",
   "execution_count": 46,
   "metadata": {},
   "outputs": [],
   "source": [
    "df.drop(['market_value', 'transfer_date', 'created_at', 'updated_at'], axis=1, inplace=True)"
   ]
  },
  {
   "cell_type": "markdown",
   "metadata": {},
   "source": [
    "### Remove Duplication"
   ]
  },
  {
   "cell_type": "code",
   "execution_count": 47,
   "metadata": {},
   "outputs": [
    {
     "name": "stdout",
     "output_type": "stream",
     "text": [
      "duplicated count before removal: 598\n",
      "duplicated count after removal: 0\n"
     ]
    }
   ],
   "source": [
    "print(\"duplicated count before removal:\", df.duplicated().sum())\n",
    "\n",
    "df.drop_duplicates(inplace=True)\n",
    "\n",
    "print(\"duplicated count after removal:\", df.duplicated().sum())\n"
   ]
  },
  {
   "cell_type": "markdown",
   "metadata": {},
   "source": [
    "## Exploratory Data Analysis"
   ]
  },
  {
   "cell_type": "markdown",
   "metadata": {},
   "source": [
    "### Descriptive Statistics"
   ]
  },
  {
   "cell_type": "markdown",
   "metadata": {},
   "source": [
    "#### Numerical"
   ]
  },
  {
   "cell_type": "code",
   "execution_count": 48,
   "metadata": {},
   "outputs": [
    {
     "data": {
      "text/html": [
       "<div>\n",
       "<style scoped>\n",
       "    .dataframe tbody tr th:only-of-type {\n",
       "        vertical-align: middle;\n",
       "    }\n",
       "\n",
       "    .dataframe tbody tr th {\n",
       "        vertical-align: top;\n",
       "    }\n",
       "\n",
       "    .dataframe thead th {\n",
       "        text-align: right;\n",
       "    }\n",
       "</style>\n",
       "<table border=\"1\" class=\"dataframe\">\n",
       "  <thead>\n",
       "    <tr style=\"text-align: right;\">\n",
       "      <th></th>\n",
       "      <th>player_id</th>\n",
       "      <th>age</th>\n",
       "      <th>market_value_p</th>\n",
       "      <th>loan_fee_p</th>\n",
       "    </tr>\n",
       "  </thead>\n",
       "  <tbody>\n",
       "    <tr>\n",
       "      <th>count</th>\n",
       "      <td>37814.000000</td>\n",
       "      <td>38445.000000</td>\n",
       "      <td>3.866700e+04</td>\n",
       "      <td>2.000000e+02</td>\n",
       "    </tr>\n",
       "    <tr>\n",
       "      <th>mean</th>\n",
       "      <td>349023.177738</td>\n",
       "      <td>25.515724</td>\n",
       "      <td>3.969222e+05</td>\n",
       "      <td>9.327850e+05</td>\n",
       "    </tr>\n",
       "    <tr>\n",
       "      <th>std</th>\n",
       "      <td>194659.288844</td>\n",
       "      <td>4.683011</td>\n",
       "      <td>1.804850e+06</td>\n",
       "      <td>1.903830e+06</td>\n",
       "    </tr>\n",
       "    <tr>\n",
       "      <th>min</th>\n",
       "      <td>532.000000</td>\n",
       "      <td>15.000000</td>\n",
       "      <td>1.000000e+04</td>\n",
       "      <td>2.000000e+03</td>\n",
       "    </tr>\n",
       "    <tr>\n",
       "      <th>25%</th>\n",
       "      <td>190173.500000</td>\n",
       "      <td>22.000000</td>\n",
       "      <td>5.000000e+04</td>\n",
       "      <td>1.000000e+05</td>\n",
       "    </tr>\n",
       "    <tr>\n",
       "      <th>50%</th>\n",
       "      <td>340892.500000</td>\n",
       "      <td>25.000000</td>\n",
       "      <td>1.000000e+05</td>\n",
       "      <td>4.500000e+05</td>\n",
       "    </tr>\n",
       "    <tr>\n",
       "      <th>75%</th>\n",
       "      <td>499494.500000</td>\n",
       "      <td>29.000000</td>\n",
       "      <td>2.500000e+05</td>\n",
       "      <td>1.000000e+06</td>\n",
       "    </tr>\n",
       "    <tr>\n",
       "      <th>max</th>\n",
       "      <td>860256.000000</td>\n",
       "      <td>45.000000</td>\n",
       "      <td>8.100000e+07</td>\n",
       "      <td>2.000000e+07</td>\n",
       "    </tr>\n",
       "  </tbody>\n",
       "</table>\n",
       "</div>"
      ],
      "text/plain": [
       "           player_id           age  market_value_p    loan_fee_p\n",
       "count   37814.000000  38445.000000    3.866700e+04  2.000000e+02\n",
       "mean   349023.177738     25.515724    3.969222e+05  9.327850e+05\n",
       "std    194659.288844      4.683011    1.804850e+06  1.903830e+06\n",
       "min       532.000000     15.000000    1.000000e+04  2.000000e+03\n",
       "25%    190173.500000     22.000000    5.000000e+04  1.000000e+05\n",
       "50%    340892.500000     25.000000    1.000000e+05  4.500000e+05\n",
       "75%    499494.500000     29.000000    2.500000e+05  1.000000e+06\n",
       "max    860256.000000     45.000000    8.100000e+07  2.000000e+07"
      ]
     },
     "execution_count": 48,
     "metadata": {},
     "output_type": "execute_result"
    }
   ],
   "source": [
    "df.select_dtypes(include='number').describe()\n"
   ]
  },
  {
   "cell_type": "markdown",
   "metadata": {},
   "source": [
    "#### Categorical"
   ]
  },
  {
   "cell_type": "code",
   "execution_count": 49,
   "metadata": {},
   "outputs": [
    {
     "data": {
      "text/html": [
       "<div>\n",
       "<style scoped>\n",
       "    .dataframe tbody tr th:only-of-type {\n",
       "        vertical-align: middle;\n",
       "    }\n",
       "\n",
       "    .dataframe tbody tr th {\n",
       "        vertical-align: top;\n",
       "    }\n",
       "\n",
       "    .dataframe thead th {\n",
       "        text-align: right;\n",
       "    }\n",
       "</style>\n",
       "<table border=\"1\" class=\"dataframe\">\n",
       "  <thead>\n",
       "    <tr style=\"text-align: right;\">\n",
       "      <th></th>\n",
       "      <th>name</th>\n",
       "      <th>position</th>\n",
       "      <th>national_1</th>\n",
       "      <th>national_2</th>\n",
       "      <th>left_club</th>\n",
       "      <th>left_club_league</th>\n",
       "      <th>joined_club</th>\n",
       "      <th>joined_club_league</th>\n",
       "      <th>transfer_date_p</th>\n",
       "      <th>fee</th>\n",
       "      <th>left_club_country</th>\n",
       "      <th>joined_club_country</th>\n",
       "      <th>loan_fee</th>\n",
       "    </tr>\n",
       "  </thead>\n",
       "  <tbody>\n",
       "    <tr>\n",
       "      <th>count</th>\n",
       "      <td>38667</td>\n",
       "      <td>38667</td>\n",
       "      <td>38666</td>\n",
       "      <td>6036</td>\n",
       "      <td>37901</td>\n",
       "      <td>28010</td>\n",
       "      <td>37418</td>\n",
       "      <td>27106</td>\n",
       "      <td>38667</td>\n",
       "      <td>38666</td>\n",
       "      <td>35560</td>\n",
       "      <td>35036</td>\n",
       "      <td>200</td>\n",
       "    </tr>\n",
       "    <tr>\n",
       "      <th>unique</th>\n",
       "      <td>33766</td>\n",
       "      <td>16</td>\n",
       "      <td>202</td>\n",
       "      <td>171</td>\n",
       "      <td>6442</td>\n",
       "      <td>316</td>\n",
       "      <td>6878</td>\n",
       "      <td>334</td>\n",
       "      <td>217</td>\n",
       "      <td>366</td>\n",
       "      <td>159</td>\n",
       "      <td>160</td>\n",
       "      <td>74</td>\n",
       "    </tr>\n",
       "    <tr>\n",
       "      <th>top</th>\n",
       "      <td>Juninho</td>\n",
       "      <td>Centre-Forward</td>\n",
       "      <td>Italy</td>\n",
       "      <td>Italy</td>\n",
       "      <td>Without Club</td>\n",
       "      <td>Premier League</td>\n",
       "      <td>Without Club</td>\n",
       "      <td>Premier League</td>\n",
       "      <td>2020-08-01</td>\n",
       "      <td>free transfer</td>\n",
       "      <td>Italy</td>\n",
       "      <td>Italy</td>\n",
       "      <td>€500Th.</td>\n",
       "    </tr>\n",
       "    <tr>\n",
       "      <th>freq</th>\n",
       "      <td>10</td>\n",
       "      <td>6201</td>\n",
       "      <td>3727</td>\n",
       "      <td>764</td>\n",
       "      <td>2839</td>\n",
       "      <td>815</td>\n",
       "      <td>2806</td>\n",
       "      <td>650</td>\n",
       "      <td>2062</td>\n",
       "      <td>19572</td>\n",
       "      <td>4146</td>\n",
       "      <td>4228</td>\n",
       "      <td>21</td>\n",
       "    </tr>\n",
       "  </tbody>\n",
       "</table>\n",
       "</div>"
      ],
      "text/plain": [
       "           name        position national_1 national_2     left_club  \\\n",
       "count     38667           38667      38666       6036         37901   \n",
       "unique    33766              16        202        171          6442   \n",
       "top     Juninho  Centre-Forward      Italy      Italy  Without Club   \n",
       "freq         10            6201       3727        764          2839   \n",
       "\n",
       "       left_club_league   joined_club joined_club_league transfer_date_p  \\\n",
       "count             28010         37418              27106           38667   \n",
       "unique              316          6878                334             217   \n",
       "top      Premier League  Without Club     Premier League      2020-08-01   \n",
       "freq                815          2806                650            2062   \n",
       "\n",
       "                  fee left_club_country joined_club_country loan_fee  \n",
       "count           38666             35560               35036      200  \n",
       "unique            366               159                 160       74  \n",
       "top     free transfer             Italy               Italy  €500Th.  \n",
       "freq            19572              4146                4228       21  "
      ]
     },
     "execution_count": 49,
     "metadata": {},
     "output_type": "execute_result"
    }
   ],
   "source": [
    "df.select_dtypes(exclude='number').describe()\n"
   ]
  },
  {
   "cell_type": "markdown",
   "metadata": {},
   "source": [
    "### Univariate Analysis"
   ]
  },
  {
   "cell_type": "code",
   "execution_count": 50,
   "metadata": {},
   "outputs": [],
   "source": [
    "pass"
   ]
  },
  {
   "cell_type": "markdown",
   "metadata": {},
   "source": [
    "### Multivariate Analysis"
   ]
  },
  {
   "cell_type": "code",
   "execution_count": 51,
   "metadata": {},
   "outputs": [],
   "source": [
    "pass"
   ]
  },
  {
   "cell_type": "markdown",
   "metadata": {},
   "source": [
    "### Insights"
   ]
  },
  {
   "cell_type": "markdown",
   "metadata": {},
   "source": [
    "#### Most Valueable Player Nationality by Transfers Activities"
   ]
  },
  {
   "cell_type": "code",
   "execution_count": 52,
   "metadata": {},
   "outputs": [
    {
     "data": {
      "image/png": "[encoded data removed]",
      "text/plain": [
       "<Figure size 720x360 with 1 Axes>"
      ]
     },
     "metadata": {
      "needs_background": "light"
     },
     "output_type": "display_data"
    }
   ],
   "source": [
    "idf = df.groupby('national_1').agg({'market_value_p': 'sum'}).sort_values('market_value_p', ascending=False).reset_index().head(10)\n",
    "\n",
    "plt.figure(figsize=(10, 5))\n",
    "sns.barplot(x='national_1', y='market_value_p', data=idf)\n",
    "plt.ylabel('Market Value Summary')\n",
    "plt.xlabel('Nationality')\n",
    "plt.show();"
   ]
  },
  {
   "cell_type": "markdown",
   "metadata": {},
   "source": [
    "#### Most Valueable League by Player Transfers"
   ]
  },
  {
   "cell_type": "code",
   "execution_count": 53,
   "metadata": {},
   "outputs": [
    {
     "data": {
      "image/png": "[encoded data removed]",
      "text/plain": [
       "<Figure size 1080x360 with 1 Axes>"
      ]
     },
     "metadata": {
      "needs_background": "light"
     },
     "output_type": "display_data"
    }
   ],
   "source": [
    "idfl = df.groupby('left_club_league').agg({'market_value_p': 'sum'}).sort_values('market_value_p', ascending=False).reset_index()\n",
    "idfl = idfl.rename(columns={'left_club_league': 'league','market_value_p': 'out_value'})\n",
    "\n",
    "idfr = df.groupby('joined_club_league').agg({'market_value_p': 'sum'}).sort_values('market_value_p', ascending=False).reset_index()\n",
    "idfr = idfr.rename(columns={'joined_club_league': 'league', 'market_value_p': 'in_value'})\n",
    "\n",
    "idf = idfl.merge(idfr, on='league')\n",
    "idf['diff_value'] = idf['in_value'] - idf['out_value']\n",
    "idf = idf.sort_values(['diff_value'], ascending=False).head(10)\n",
    "\n",
    "plt.figure(figsize=(15, 5))\n",
    "sns.barplot(x='diff_value', y='league', data=idf)\n",
    "plt.ylabel('League')\n",
    "plt.xlabel('Value')\n",
    "plt.show();\n"
   ]
  },
  {
   "cell_type": "markdown",
   "metadata": {},
   "source": [
    "#### Most Valueable Club by Player Transfers"
   ]
  },
  {
   "cell_type": "code",
   "execution_count": 54,
   "metadata": {},
   "outputs": [
    {
     "data": {
      "image/png": "[encoded data removed]",
      "text/plain": [
       "<Figure size 1080x360 with 1 Axes>"
      ]
     },
     "metadata": {
      "needs_background": "light"
     },
     "output_type": "display_data"
    }
   ],
   "source": [
    "idfl = df.groupby('left_club').agg({'market_value_p': 'sum'}).sort_values('market_value_p', ascending=False).reset_index()\n",
    "idfl = idfl.rename(columns={'left_club': 'club','market_value_p': 'out_value'})\n",
    "idfl\n",
    "\n",
    "idfr = df.groupby('joined_club').agg({'market_value_p': 'sum'}).sort_values('market_value_p', ascending=False).reset_index()\n",
    "idfr = idfr.rename(columns={'joined_club': 'club', 'market_value_p': 'in_value'})\n",
    "idfr\n",
    "\n",
    "idf = idfl.merge(idfr, on='club')\n",
    "idf['diff_value'] = idf['in_value'] - idf['out_value']\n",
    "idf = idf.sort_values(['diff_value'], ascending=False).head(10)\n",
    "idf\n",
    "\n",
    "plt.figure(figsize=(15, 5))\n",
    "sns.barplot(x='diff_value', y='club', data=idf)\n",
    "plt.ylabel('Club')\n",
    "plt.xlabel('Value')\n",
    "plt.show();\n"
   ]
  },
  {
   "cell_type": "markdown",
   "metadata": {},
   "source": [
    "#### Most Valueable Country by Player Transfers"
   ]
  },
  {
   "cell_type": "code",
   "execution_count": 55,
   "metadata": {},
   "outputs": [
    {
     "data": {
      "image/png": "[encoded data removed]",
      "text/plain": [
       "<Figure size 1080x360 with 1 Axes>"
      ]
     },
     "metadata": {
      "needs_background": "light"
     },
     "output_type": "display_data"
    }
   ],
   "source": [
    "idfl = df.groupby('left_club_country').agg({'market_value_p': 'sum'}).sort_values('market_value_p', ascending=False).reset_index()\n",
    "idfl = idfl.rename(columns={'left_club_country': 'country','market_value_p': 'out_value'})\n",
    "idfl\n",
    "\n",
    "idfr = df.groupby('joined_club_country').agg({'market_value_p': 'sum'}).sort_values('market_value_p', ascending=False).reset_index()\n",
    "idfr = idfr.rename(columns={'joined_club_country': 'country', 'market_value_p': 'in_value'})\n",
    "idfr\n",
    "\n",
    "idf = idfl.merge(idfr, on='country')\n",
    "idf['diff_value'] = idf['in_value'] - idf['out_value']\n",
    "idf = idf.sort_values(['diff_value'], ascending=False).head(10)\n",
    "idf\n",
    "\n",
    "plt.figure(figsize=(15, 5))\n",
    "sns.barplot(x='diff_value', y='country', data=idf)\n",
    "plt.ylabel('Country')\n",
    "plt.xlabel('Value')\n",
    "plt.show();\n"
   ]
  },
  {
   "cell_type": "markdown",
   "metadata": {},
   "source": [
    "#### Top Transfers"
   ]
  },
  {
   "cell_type": "code",
   "execution_count": 56,
   "metadata": {},
   "outputs": [
    {
     "data": {
      "image/png": "[encoded data removed]",
      "text/plain": [
       "<Figure size 1080x576 with 1 Axes>"
      ]
     },
     "metadata": {
      "needs_background": "light"
     },
     "output_type": "display_data"
    }
   ],
   "source": [
    "# TODO\n",
    "idf = df.sort_values('market_value_p', ascending=False).head(10)\n",
    "idf['name_club'] = idf['name'] + \" (\" + idf['joined_club'] + \")\"\n",
    "\n",
    "plt.figure(figsize=(15, 8))\n",
    "sns.barplot(x='market_value_p', y='name_club', data=idf)\n",
    "plt.ylabel('Player')\n",
    "plt.xlabel('Market Value')\n",
    "plt.show();\n"
   ]
  }
 ],
 "metadata": {
  "interpreter": {
   "hash": "fc7c798429ebac561b92ee2fcc9a6637543e2bbac22a4a6dbaa9a56fd1244998"
  },
  "kernelspec": {
   "display_name": "Python 3.8.5 64-bit ('base': conda)",
   "name": "python3"
  },
  "language_info": {
   "codemirror_mode": {
    "name": "ipython",
    "version": 3
   },
   "file_extension": ".py",
   "mimetype": "text/x-python",
   "name": "python",
   "nbconvert_exporter": "python",
   "pygments_lexer": "ipython3",
   "version": "3.8.5"
  },
  "orig_nbformat": 4
 },
 "nbformat": 4,
 "nbformat_minor": 2
}
