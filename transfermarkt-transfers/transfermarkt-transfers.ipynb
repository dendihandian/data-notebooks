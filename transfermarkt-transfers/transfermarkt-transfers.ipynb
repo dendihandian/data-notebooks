{
 "cells": [
  {
   "cell_type": "markdown",
   "metadata": {},
   "source": [
    "# Transfermarkt Transfers"
   ]
  },
  {
   "cell_type": "markdown",
   "metadata": {},
   "source": [
    "**Disclaimers** : \n",
    "- The analysis scope is based on the dataset, especially on the defined transfer date range. Some info and numbers may differ from the real complete data out there.\n",
    "- Some data may be missing because of scraping issue or restricted by the transfermarkt themselves. These could causing an innacurate conclusions.\n",
    "\n",
    "The dataset was politely scraped from [transfermarkt.com](https://www.transfermarkt.com/statistik/transfertage) using Scrapy and Splash. The notebook will be updated as the scraping goes from time to time. Check the `Transfer Date Range` section below to find out the oldest and latest date."
   ]
  },
  {
   "cell_type": "markdown",
   "metadata": {},
   "source": [
    "## Preparation"
   ]
  },
  {
   "cell_type": "markdown",
   "metadata": {},
   "source": [
    "### Import Libraries"
   ]
  },
  {
   "cell_type": "code",
   "execution_count": 825,
   "metadata": {},
   "outputs": [
    {
     "name": "stdout",
     "output_type": "stream",
     "text": [
      "python version:  3.9.7 (default, Sep 16 2021, 16:59:28) [MSC v.1916 64 bit (AMD64)]\n",
      "pandas version:  1.3.4\n",
      "seaborn version:  0.11.2\n",
      "last run:  2022-01-17 19:49:53\n"
     ]
    }
   ],
   "source": [
    "import seaborn as sns\n",
    "import pandas as pd\n",
    "import matplotlib.pyplot as plt\n",
    "import warnings\n",
    "import sys\n",
    "import datetime\n",
    "import numpy as np\n",
    "from IPython.core.interactiveshell import InteractiveShell\n",
    "\n",
    "pd.set_option('display.max_columns', None)\n",
    "InteractiveShell.ast_node_interactivity = \"all\"\n",
    "warnings.filterwarnings('ignore')\n",
    "\n",
    "print(\"python version: \", sys.version)\n",
    "print(\"pandas version: \", pd.__version__)\n",
    "print(\"seaborn version: \", sns.__version__)\n",
    "\n",
    "print(\"last run: \", datetime.datetime.now().strftime(\"%Y-%m-%d %H:%M:%S\"))\n"
   ]
  },
  {
   "cell_type": "markdown",
   "metadata": {},
   "source": [
    "### Loading Dataset"
   ]
  },
  {
   "cell_type": "code",
   "execution_count": 826,
   "metadata": {},
   "outputs": [],
   "source": [
    "dataset = pd.read_csv(\"transfermarkt-transfers.csv\")\n",
    "\n",
    "# developer-friendly column names and format\n",
    "dataset.columns = [x.lower().replace('-', '_').replace(' ', '_') for x in dataset.columns.to_list()]"
   ]
  },
  {
   "cell_type": "markdown",
   "metadata": {},
   "source": [
    "### Variables and Functions"
   ]
  },
  {
   "cell_type": "code",
   "execution_count": 827,
   "metadata": {},
   "outputs": [],
   "source": [
    "binary_pallete = ['#EF4444', '#10B981']\n",
    "binary_order = ['No', 'Yes']\n",
    "\n",
    "def remove_outlier_iqr(dataset, col):\n",
    "    filtered_entries = np.array([True] * len(dataset))\n",
    "    Q1 = dataset[col].quantile(0.25)\n",
    "    Q3 = dataset[col].quantile(0.75)\n",
    "    IQR = Q3 - Q1\n",
    "    low_limit = Q1 - (IQR * 1.5)\n",
    "    high_limit = Q3 + (IQR * 1.5)\n",
    "\n",
    "    filtered_entries = ((dataset[col] >= low_limit) & (dataset[col] <= high_limit)) & filtered_entries\n",
    "\n",
    "    dataset = dataset[filtered_entries]\n",
    "    return dataset"
   ]
  },
  {
   "cell_type": "markdown",
   "metadata": {},
   "source": [
    "## Dataset Exploration"
   ]
  },
  {
   "cell_type": "code",
   "execution_count": 828,
   "metadata": {},
   "outputs": [
    {
     "name": "stdout",
     "output_type": "stream",
     "text": [
      "<class 'pandas.core.frame.DataFrame'>\n",
      "RangeIndex: 89405 entries, 0 to 89404\n",
      "Data columns (total 23 columns):\n",
      " #   Column               Non-Null Count  Dtype  \n",
      "---  ------               --------------  -----  \n",
      " 0   player_id            88352 non-null  float64\n",
      " 1   name                 89405 non-null  object \n",
      " 2   age                  88937 non-null  float64\n",
      " 3   position             89405 non-null  object \n",
      " 4   national_1           75344 non-null  object \n",
      " 5   national_2           11496 non-null  object \n",
      " 6   left_club            88449 non-null  object \n",
      " 7   left_club_league     64869 non-null  object \n",
      " 8   joined_club          87812 non-null  object \n",
      " 9   joined_club_league   60878 non-null  object \n",
      " 10  transfer_date        89405 non-null  object \n",
      " 11  transfer_date_p      89405 non-null  object \n",
      " 12  market_value         89405 non-null  object \n",
      " 13  market_value_p       89405 non-null  int64  \n",
      " 14  fee                  89401 non-null  object \n",
      " 15  left_club_country    82226 non-null  object \n",
      " 16  joined_club_country  78731 non-null  object \n",
      " 17  loan_fee             409 non-null    object \n",
      " 18  loan_fee_p           409 non-null    float64\n",
      " 19  created_at           89405 non-null  object \n",
      " 20  updated_at           89405 non-null  object \n",
      " 21  temp_dates_page      23616 non-null  float64\n",
      " 22  temp_players_page    39101 non-null  float64\n",
      "dtypes: float64(5), int64(1), object(17)\n",
      "memory usage: 15.7+ MB\n"
     ]
    }
   ],
   "source": [
    "dataset.info()"
   ]
  },
  {
   "cell_type": "markdown",
   "metadata": {},
   "source": [
    "- The dataset has `23 columns` and `89404 rows` (the number will keep increasing)\n",
    "- The default features mostly are object or categorical, but has a few numerical features too."
   ]
  },
  {
   "cell_type": "code",
   "execution_count": 829,
   "metadata": {},
   "outputs": [
    {
     "data": {
      "text/html": [
       "<div>\n",
       "<style scoped>\n",
       "    .dataframe tbody tr th:only-of-type {\n",
       "        vertical-align: middle;\n",
       "    }\n",
       "\n",
       "    .dataframe tbody tr th {\n",
       "        vertical-align: top;\n",
       "    }\n",
       "\n",
       "    .dataframe thead th {\n",
       "        text-align: right;\n",
       "    }\n",
       "</style>\n",
       "<table border=\"1\" class=\"dataframe\">\n",
       "  <thead>\n",
       "    <tr style=\"text-align: right;\">\n",
       "      <th></th>\n",
       "      <th>player_id</th>\n",
       "      <th>name</th>\n",
       "      <th>age</th>\n",
       "      <th>position</th>\n",
       "      <th>national_1</th>\n",
       "      <th>national_2</th>\n",
       "      <th>left_club</th>\n",
       "      <th>left_club_league</th>\n",
       "      <th>joined_club</th>\n",
       "      <th>joined_club_league</th>\n",
       "      <th>transfer_date</th>\n",
       "      <th>transfer_date_p</th>\n",
       "      <th>market_value</th>\n",
       "      <th>market_value_p</th>\n",
       "      <th>fee</th>\n",
       "      <th>left_club_country</th>\n",
       "      <th>joined_club_country</th>\n",
       "      <th>loan_fee</th>\n",
       "      <th>loan_fee_p</th>\n",
       "      <th>created_at</th>\n",
       "      <th>updated_at</th>\n",
       "      <th>temp_dates_page</th>\n",
       "      <th>temp_players_page</th>\n",
       "    </tr>\n",
       "  </thead>\n",
       "  <tbody>\n",
       "    <tr>\n",
       "      <th>8414</th>\n",
       "      <td>394304.0</td>\n",
       "      <td>Manolo Portanova</td>\n",
       "      <td>20.0</td>\n",
       "      <td>Attacking Midfield</td>\n",
       "      <td>Italy</td>\n",
       "      <td>NaN</td>\n",
       "      <td>Juventus U23</td>\n",
       "      <td>Serie C - A</td>\n",
       "      <td>Juventus</td>\n",
       "      <td>Serie A</td>\n",
       "      <td>Oct 1, 2020</td>\n",
       "      <td>2020-10-01</td>\n",
       "      <td>€600Th.</td>\n",
       "      <td>600000</td>\n",
       "      <td>-</td>\n",
       "      <td>Italy</td>\n",
       "      <td>Italy</td>\n",
       "      <td>NaN</td>\n",
       "      <td>NaN</td>\n",
       "      <td>2021-10-04 16:24:18</td>\n",
       "      <td>2021-10-04 16:24:18</td>\n",
       "      <td>NaN</td>\n",
       "      <td>NaN</td>\n",
       "    </tr>\n",
       "    <tr>\n",
       "      <th>16712</th>\n",
       "      <td>183499.0</td>\n",
       "      <td>Shkodran Maholli</td>\n",
       "      <td>27.0</td>\n",
       "      <td>Centre-Forward</td>\n",
       "      <td>Sweden</td>\n",
       "      <td>Kosovo</td>\n",
       "      <td>Silkeborg IF</td>\n",
       "      <td>1.Division</td>\n",
       "      <td>Helsingborg</td>\n",
       "      <td>Allsvenskan</td>\n",
       "      <td>Aug 25, 2020</td>\n",
       "      <td>2020-08-25</td>\n",
       "      <td>€200Th.</td>\n",
       "      <td>200000</td>\n",
       "      <td>free transfer</td>\n",
       "      <td>Denmark</td>\n",
       "      <td>Sweden</td>\n",
       "      <td>NaN</td>\n",
       "      <td>NaN</td>\n",
       "      <td>2021-10-04 17:02:02</td>\n",
       "      <td>2021-10-04 17:02:02</td>\n",
       "      <td>NaN</td>\n",
       "      <td>NaN</td>\n",
       "    </tr>\n",
       "    <tr>\n",
       "      <th>52724</th>\n",
       "      <td>247921.0</td>\n",
       "      <td>Rafa de Vicente</td>\n",
       "      <td>27.0</td>\n",
       "      <td>Central Midfield</td>\n",
       "      <td>NaN</td>\n",
       "      <td>NaN</td>\n",
       "      <td>UCAM Murcia</td>\n",
       "      <td>Primera Div. R.F.E.F. - Gr. II</td>\n",
       "      <td>Dep. La Coruña</td>\n",
       "      <td>Primera Div. R.F.E.F. - Gr. I</td>\n",
       "      <td>Jul 1, 2021</td>\n",
       "      <td>2021-07-01</td>\n",
       "      <td>€250Th.</td>\n",
       "      <td>250000</td>\n",
       "      <td>free transfer</td>\n",
       "      <td>Spain</td>\n",
       "      <td>Spain</td>\n",
       "      <td>NaN</td>\n",
       "      <td>NaN</td>\n",
       "      <td>2021-12-13 23:38:36</td>\n",
       "      <td>2021-12-13 23:38:36</td>\n",
       "      <td>NaN</td>\n",
       "      <td>92.0</td>\n",
       "    </tr>\n",
       "    <tr>\n",
       "      <th>81407</th>\n",
       "      <td>157036.0</td>\n",
       "      <td>Dyego Sousa</td>\n",
       "      <td>31.0</td>\n",
       "      <td>Centre-Forward</td>\n",
       "      <td>NaN</td>\n",
       "      <td>NaN</td>\n",
       "      <td>SZ FC</td>\n",
       "      <td>Super League</td>\n",
       "      <td>UD Almería</td>\n",
       "      <td>LaLiga2</td>\n",
       "      <td>Aug 31, 2021</td>\n",
       "      <td>2021-08-31</td>\n",
       "      <td>€1.80m</td>\n",
       "      <td>1800000</td>\n",
       "      <td>free transfer</td>\n",
       "      <td>China</td>\n",
       "      <td>Spain</td>\n",
       "      <td>NaN</td>\n",
       "      <td>NaN</td>\n",
       "      <td>2021-12-31 06:58:33</td>\n",
       "      <td>2021-12-31 06:58:33</td>\n",
       "      <td>NaN</td>\n",
       "      <td>8.0</td>\n",
       "    </tr>\n",
       "    <tr>\n",
       "      <th>88380</th>\n",
       "      <td>645484.0</td>\n",
       "      <td>Tamal Naskar</td>\n",
       "      <td>21.0</td>\n",
       "      <td>Goalkeeper</td>\n",
       "      <td>India</td>\n",
       "      <td>NaN</td>\n",
       "      <td>Without Club</td>\n",
       "      <td>NaN</td>\n",
       "      <td>Tarun Sangha</td>\n",
       "      <td>NaN</td>\n",
       "      <td>Oct 1, 2021</td>\n",
       "      <td>2021-10-01</td>\n",
       "      <td>€25Th.</td>\n",
       "      <td>25000</td>\n",
       "      <td>-</td>\n",
       "      <td>NaN</td>\n",
       "      <td>India</td>\n",
       "      <td>NaN</td>\n",
       "      <td>NaN</td>\n",
       "      <td>2021-12-31 07:41:16</td>\n",
       "      <td>2021-12-31 07:41:16</td>\n",
       "      <td>4.0</td>\n",
       "      <td>18.0</td>\n",
       "    </tr>\n",
       "    <tr>\n",
       "      <th>6989</th>\n",
       "      <td>589271.0</td>\n",
       "      <td>Mohamed Medfai</td>\n",
       "      <td>20.0</td>\n",
       "      <td>Left Winger</td>\n",
       "      <td>Tunisia</td>\n",
       "      <td>France</td>\n",
       "      <td>Olimpia Grudz.</td>\n",
       "      <td>eWinner II liga</td>\n",
       "      <td>Marítimo B</td>\n",
       "      <td>NaN</td>\n",
       "      <td>Oct 6, 2020</td>\n",
       "      <td>2020-10-06</td>\n",
       "      <td>€50Th.</td>\n",
       "      <td>50000</td>\n",
       "      <td>?</td>\n",
       "      <td>Poland</td>\n",
       "      <td>Portugal</td>\n",
       "      <td>NaN</td>\n",
       "      <td>NaN</td>\n",
       "      <td>2021-10-04 16:14:01</td>\n",
       "      <td>2021-10-04 16:14:01</td>\n",
       "      <td>NaN</td>\n",
       "      <td>NaN</td>\n",
       "    </tr>\n",
       "    <tr>\n",
       "      <th>11898</th>\n",
       "      <td>289053.0</td>\n",
       "      <td>Marcel Holzer</td>\n",
       "      <td>21.0</td>\n",
       "      <td>Centre-Forward</td>\n",
       "      <td>Austria</td>\n",
       "      <td>NaN</td>\n",
       "      <td>Wolfsberger AC</td>\n",
       "      <td>Bundesliga</td>\n",
       "      <td>SKU Amstetten</td>\n",
       "      <td>2. Liga</td>\n",
       "      <td>Sep 22, 2020</td>\n",
       "      <td>2020-09-22</td>\n",
       "      <td>€200Th.</td>\n",
       "      <td>200000</td>\n",
       "      <td>loan transfer</td>\n",
       "      <td>Austria</td>\n",
       "      <td>Austria</td>\n",
       "      <td>NaN</td>\n",
       "      <td>NaN</td>\n",
       "      <td>2021-10-04 16:39:17</td>\n",
       "      <td>2021-10-04 16:39:17</td>\n",
       "      <td>NaN</td>\n",
       "      <td>NaN</td>\n",
       "    </tr>\n",
       "    <tr>\n",
       "      <th>76033</th>\n",
       "      <td>470794.0</td>\n",
       "      <td>Ivan Ilic</td>\n",
       "      <td>20.0</td>\n",
       "      <td>Central Midfield</td>\n",
       "      <td>Serbia</td>\n",
       "      <td>NaN</td>\n",
       "      <td>Man City U23</td>\n",
       "      <td>Premier League 2</td>\n",
       "      <td>Hellas Verona</td>\n",
       "      <td>Serie A</td>\n",
       "      <td>Aug 12, 2021</td>\n",
       "      <td>2021-08-12</td>\n",
       "      <td>€8.00m</td>\n",
       "      <td>8000000</td>\n",
       "      <td>€7.50m</td>\n",
       "      <td>England</td>\n",
       "      <td>Italy</td>\n",
       "      <td>NaN</td>\n",
       "      <td>NaN</td>\n",
       "      <td>2021-12-31 06:26:35</td>\n",
       "      <td>2021-12-31 06:26:35</td>\n",
       "      <td>6.0</td>\n",
       "      <td>1.0</td>\n",
       "    </tr>\n",
       "    <tr>\n",
       "      <th>29357</th>\n",
       "      <td>217394.0</td>\n",
       "      <td>Beom-san Heo</td>\n",
       "      <td>31.0</td>\n",
       "      <td>Central Midfield</td>\n",
       "      <td>Korea, South</td>\n",
       "      <td>NaN</td>\n",
       "      <td>Seoul E-Land</td>\n",
       "      <td>K League 2</td>\n",
       "      <td>Without Club</td>\n",
       "      <td>NaN</td>\n",
       "      <td>Jan 5, 2021</td>\n",
       "      <td>2021-01-05</td>\n",
       "      <td>€200Th.</td>\n",
       "      <td>200000</td>\n",
       "      <td>?</td>\n",
       "      <td>Korea, South</td>\n",
       "      <td>NaN</td>\n",
       "      <td>NaN</td>\n",
       "      <td>NaN</td>\n",
       "      <td>2021-10-24 21:34:43</td>\n",
       "      <td>2021-10-24 21:34:43</td>\n",
       "      <td>NaN</td>\n",
       "      <td>NaN</td>\n",
       "    </tr>\n",
       "    <tr>\n",
       "      <th>65429</th>\n",
       "      <td>672030.0</td>\n",
       "      <td>Ardit Nikaj</td>\n",
       "      <td>19.0</td>\n",
       "      <td>Centre-Forward</td>\n",
       "      <td>Albania</td>\n",
       "      <td>NaN</td>\n",
       "      <td>KF Vllaznia U19</td>\n",
       "      <td>NaN</td>\n",
       "      <td>KF Skënderbeu</td>\n",
       "      <td>Kategoria Superiore</td>\n",
       "      <td>Jul 5, 2021</td>\n",
       "      <td>2021-07-05</td>\n",
       "      <td>€25Th.</td>\n",
       "      <td>25000</td>\n",
       "      <td>free transfer</td>\n",
       "      <td>Albania</td>\n",
       "      <td>Albania</td>\n",
       "      <td>NaN</td>\n",
       "      <td>NaN</td>\n",
       "      <td>2021-12-15 03:16:21</td>\n",
       "      <td>2021-12-15 03:16:21</td>\n",
       "      <td>7.0</td>\n",
       "      <td>10.0</td>\n",
       "    </tr>\n",
       "  </tbody>\n",
       "</table>\n",
       "</div>"
      ],
      "text/plain": [
       "       player_id              name   age            position    national_1  \\\n",
       "8414    394304.0  Manolo Portanova  20.0  Attacking Midfield         Italy   \n",
       "16712   183499.0  Shkodran Maholli  27.0      Centre-Forward        Sweden   \n",
       "52724   247921.0   Rafa de Vicente  27.0    Central Midfield           NaN   \n",
       "81407   157036.0       Dyego Sousa  31.0      Centre-Forward           NaN   \n",
       "88380   645484.0      Tamal Naskar  21.0          Goalkeeper         India   \n",
       "6989    589271.0    Mohamed Medfai  20.0         Left Winger       Tunisia   \n",
       "11898   289053.0     Marcel Holzer  21.0      Centre-Forward       Austria   \n",
       "76033   470794.0         Ivan Ilic  20.0    Central Midfield        Serbia   \n",
       "29357   217394.0      Beom-san Heo  31.0    Central Midfield  Korea, South   \n",
       "65429   672030.0       Ardit Nikaj  19.0      Centre-Forward       Albania   \n",
       "\n",
       "      national_2        left_club                left_club_league  \\\n",
       "8414         NaN     Juventus U23                     Serie C - A   \n",
       "16712     Kosovo     Silkeborg IF                      1.Division   \n",
       "52724        NaN      UCAM Murcia  Primera Div. R.F.E.F. - Gr. II   \n",
       "81407        NaN            SZ FC                    Super League   \n",
       "88380        NaN     Without Club                             NaN   \n",
       "6989      France   Olimpia Grudz.                 eWinner II liga   \n",
       "11898        NaN   Wolfsberger AC                      Bundesliga   \n",
       "76033        NaN     Man City U23                Premier League 2   \n",
       "29357        NaN     Seoul E-Land                      K League 2   \n",
       "65429        NaN  KF Vllaznia U19                             NaN   \n",
       "\n",
       "          joined_club             joined_club_league transfer_date  \\\n",
       "8414         Juventus                        Serie A   Oct 1, 2020   \n",
       "16712     Helsingborg                    Allsvenskan  Aug 25, 2020   \n",
       "52724  Dep. La Coruña  Primera Div. R.F.E.F. - Gr. I   Jul 1, 2021   \n",
       "81407      UD Almería                        LaLiga2  Aug 31, 2021   \n",
       "88380    Tarun Sangha                            NaN   Oct 1, 2021   \n",
       "6989       Marítimo B                            NaN   Oct 6, 2020   \n",
       "11898   SKU Amstetten                        2. Liga  Sep 22, 2020   \n",
       "76033   Hellas Verona                        Serie A  Aug 12, 2021   \n",
       "29357    Without Club                            NaN   Jan 5, 2021   \n",
       "65429   KF Skënderbeu            Kategoria Superiore   Jul 5, 2021   \n",
       "\n",
       "      transfer_date_p market_value  market_value_p            fee  \\\n",
       "8414       2020-10-01      €600Th.          600000              -   \n",
       "16712      2020-08-25      €200Th.          200000  free transfer   \n",
       "52724      2021-07-01      €250Th.          250000  free transfer   \n",
       "81407      2021-08-31       €1.80m         1800000  free transfer   \n",
       "88380      2021-10-01       €25Th.           25000              -   \n",
       "6989       2020-10-06       €50Th.           50000              ?   \n",
       "11898      2020-09-22      €200Th.          200000  loan transfer   \n",
       "76033      2021-08-12       €8.00m         8000000         €7.50m   \n",
       "29357      2021-01-05      €200Th.          200000              ?   \n",
       "65429      2021-07-05       €25Th.           25000  free transfer   \n",
       "\n",
       "      left_club_country joined_club_country loan_fee  loan_fee_p  \\\n",
       "8414              Italy               Italy      NaN         NaN   \n",
       "16712           Denmark              Sweden      NaN         NaN   \n",
       "52724             Spain               Spain      NaN         NaN   \n",
       "81407             China               Spain      NaN         NaN   \n",
       "88380               NaN               India      NaN         NaN   \n",
       "6989             Poland            Portugal      NaN         NaN   \n",
       "11898           Austria             Austria      NaN         NaN   \n",
       "76033           England               Italy      NaN         NaN   \n",
       "29357      Korea, South                 NaN      NaN         NaN   \n",
       "65429           Albania             Albania      NaN         NaN   \n",
       "\n",
       "                created_at           updated_at  temp_dates_page  \\\n",
       "8414   2021-10-04 16:24:18  2021-10-04 16:24:18              NaN   \n",
       "16712  2021-10-04 17:02:02  2021-10-04 17:02:02              NaN   \n",
       "52724  2021-12-13 23:38:36  2021-12-13 23:38:36              NaN   \n",
       "81407  2021-12-31 06:58:33  2021-12-31 06:58:33              NaN   \n",
       "88380  2021-12-31 07:41:16  2021-12-31 07:41:16              4.0   \n",
       "6989   2021-10-04 16:14:01  2021-10-04 16:14:01              NaN   \n",
       "11898  2021-10-04 16:39:17  2021-10-04 16:39:17              NaN   \n",
       "76033  2021-12-31 06:26:35  2021-12-31 06:26:35              6.0   \n",
       "29357  2021-10-24 21:34:43  2021-10-24 21:34:43              NaN   \n",
       "65429  2021-12-15 03:16:21  2021-12-15 03:16:21              7.0   \n",
       "\n",
       "       temp_players_page  \n",
       "8414                 NaN  \n",
       "16712                NaN  \n",
       "52724               92.0  \n",
       "81407                8.0  \n",
       "88380               18.0  \n",
       "6989                 NaN  \n",
       "11898                NaN  \n",
       "76033                1.0  \n",
       "29357                NaN  \n",
       "65429               10.0  "
      ]
     },
     "execution_count": 829,
     "metadata": {},
     "output_type": "execute_result"
    }
   ],
   "source": [
    "dataset.sample(10, random_state=1)"
   ]
  },
  {
   "cell_type": "markdown",
   "metadata": {},
   "source": [
    "- the `player_id` feature is a numerical, but actually it's not a measureable value. We will remove it.\n",
    "- the `fee` feature has invalid values like `-` and `?`. We will clean it later.\n",
    "- the `fee` also has inconsistent values like `€500Th.`, `€450Th.`, `free transfer`, `loan transfer` that could be transformed into a numerical feature and one-hot encoding the categorical ones later.\n",
    "- `market_value` and `transfer_date` has the parsed version of the values. So we will remove these features.\n",
    "- `loan_fee` and `loan_fee_p` values are almost missing entirely. We will remove them.\n",
    "- `created_at`, `updated_at`, `temp_dates_page` and `temp_players_page` are not useful for analysis and we will remove them."
   ]
  },
  {
   "cell_type": "code",
   "execution_count": 830,
   "metadata": {},
   "outputs": [
    {
     "data": {
      "text/html": [
       "<div>\n",
       "<style scoped>\n",
       "    .dataframe tbody tr th:only-of-type {\n",
       "        vertical-align: middle;\n",
       "    }\n",
       "\n",
       "    .dataframe tbody tr th {\n",
       "        vertical-align: top;\n",
       "    }\n",
       "\n",
       "    .dataframe thead th {\n",
       "        text-align: right;\n",
       "    }\n",
       "</style>\n",
       "<table border=\"1\" class=\"dataframe\">\n",
       "  <thead>\n",
       "    <tr style=\"text-align: right;\">\n",
       "      <th></th>\n",
       "      <th>name</th>\n",
       "      <th>position</th>\n",
       "      <th>national_1</th>\n",
       "      <th>national_2</th>\n",
       "      <th>left_club</th>\n",
       "      <th>left_club_league</th>\n",
       "      <th>joined_club</th>\n",
       "      <th>joined_club_league</th>\n",
       "      <th>transfer_date</th>\n",
       "      <th>transfer_date_p</th>\n",
       "      <th>market_value</th>\n",
       "      <th>fee</th>\n",
       "      <th>left_club_country</th>\n",
       "      <th>joined_club_country</th>\n",
       "      <th>loan_fee</th>\n",
       "      <th>created_at</th>\n",
       "      <th>updated_at</th>\n",
       "    </tr>\n",
       "  </thead>\n",
       "  <tbody>\n",
       "    <tr>\n",
       "      <th>count</th>\n",
       "      <td>89405</td>\n",
       "      <td>89405</td>\n",
       "      <td>75344</td>\n",
       "      <td>11496</td>\n",
       "      <td>88449</td>\n",
       "      <td>64869</td>\n",
       "      <td>87812</td>\n",
       "      <td>60878</td>\n",
       "      <td>89405</td>\n",
       "      <td>89405</td>\n",
       "      <td>89405</td>\n",
       "      <td>89401</td>\n",
       "      <td>82226</td>\n",
       "      <td>78731</td>\n",
       "      <td>409</td>\n",
       "      <td>89405</td>\n",
       "      <td>89405</td>\n",
       "    </tr>\n",
       "    <tr>\n",
       "      <th>unique</th>\n",
       "      <td>61124</td>\n",
       "      <td>17</td>\n",
       "      <td>208</td>\n",
       "      <td>184</td>\n",
       "      <td>8658</td>\n",
       "      <td>371</td>\n",
       "      <td>9544</td>\n",
       "      <td>389</td>\n",
       "      <td>507</td>\n",
       "      <td>507</td>\n",
       "      <td>155</td>\n",
       "      <td>533</td>\n",
       "      <td>170</td>\n",
       "      <td>178</td>\n",
       "      <td>130</td>\n",
       "      <td>3603</td>\n",
       "      <td>3603</td>\n",
       "    </tr>\n",
       "    <tr>\n",
       "      <th>top</th>\n",
       "      <td>Dudu</td>\n",
       "      <td>Centre-Forward</td>\n",
       "      <td>Italy</td>\n",
       "      <td>Italy</td>\n",
       "      <td>Without Club</td>\n",
       "      <td>Premier League</td>\n",
       "      <td>Without Club</td>\n",
       "      <td>Premier League</td>\n",
       "      <td>Jul 1, 2021</td>\n",
       "      <td>2021-07-01</td>\n",
       "      <td>€50Th.</td>\n",
       "      <td>free transfer</td>\n",
       "      <td>Italy</td>\n",
       "      <td>Italy</td>\n",
       "      <td>€500Th.</td>\n",
       "      <td>2021-11-02 11:39:54</td>\n",
       "      <td>2021-11-02 11:39:54</td>\n",
       "    </tr>\n",
       "    <tr>\n",
       "      <th>freq</th>\n",
       "      <td>20</td>\n",
       "      <td>13814</td>\n",
       "      <td>7869</td>\n",
       "      <td>1502</td>\n",
       "      <td>6662</td>\n",
       "      <td>1790</td>\n",
       "      <td>9200</td>\n",
       "      <td>1344</td>\n",
       "      <td>13172</td>\n",
       "      <td>13172</td>\n",
       "      <td>14915</td>\n",
       "      <td>45170</td>\n",
       "      <td>9879</td>\n",
       "      <td>9677</td>\n",
       "      <td>38</td>\n",
       "      <td>100</td>\n",
       "      <td>100</td>\n",
       "    </tr>\n",
       "  </tbody>\n",
       "</table>\n",
       "</div>"
      ],
      "text/plain": [
       "         name        position national_1 national_2     left_club  \\\n",
       "count   89405           89405      75344      11496         88449   \n",
       "unique  61124              17        208        184          8658   \n",
       "top      Dudu  Centre-Forward      Italy      Italy  Without Club   \n",
       "freq       20           13814       7869       1502          6662   \n",
       "\n",
       "       left_club_league   joined_club joined_club_league transfer_date  \\\n",
       "count             64869         87812              60878         89405   \n",
       "unique              371          9544                389           507   \n",
       "top      Premier League  Without Club     Premier League   Jul 1, 2021   \n",
       "freq               1790          9200               1344         13172   \n",
       "\n",
       "       transfer_date_p market_value            fee left_club_country  \\\n",
       "count            89405        89405          89401             82226   \n",
       "unique             507          155            533               170   \n",
       "top         2021-07-01       €50Th.  free transfer             Italy   \n",
       "freq             13172        14915          45170              9879   \n",
       "\n",
       "       joined_club_country loan_fee           created_at           updated_at  \n",
       "count                78731      409                89405                89405  \n",
       "unique                 178      130                 3603                 3603  \n",
       "top                  Italy  €500Th.  2021-11-02 11:39:54  2021-11-02 11:39:54  \n",
       "freq                  9677       38                  100                  100  "
      ]
     },
     "execution_count": 830,
     "metadata": {},
     "output_type": "execute_result"
    }
   ],
   "source": [
    "dataset.select_dtypes(exclude='number').describe()"
   ]
  },
  {
   "cell_type": "markdown",
   "metadata": {},
   "source": [
    "- the `name` almost entirely unique as categorial feature. We will remove it."
   ]
  },
  {
   "cell_type": "markdown",
   "metadata": {},
   "source": [
    "### Transfers Date Range"
   ]
  },
  {
   "cell_type": "code",
   "execution_count": 831,
   "metadata": {},
   "outputs": [
    {
     "name": "stdout",
     "output_type": "stream",
     "text": [
      "from Jul 4, 2020 to Nov 30, 2021\n"
     ]
    }
   ],
   "source": [
    "print(f\"from {dataset.sort_values(['transfer_date_p']).iloc[[0, -1]].values[0, 10]} to {dataset.sort_values(['transfer_date_p']).iloc[[0, -1]].values[1, 10]}\")"
   ]
  },
  {
   "cell_type": "markdown",
   "metadata": {},
   "source": [
    "## Preprocessing"
   ]
  },
  {
   "cell_type": "markdown",
   "metadata": {},
   "source": [
    "### Feature Engineering"
   ]
  },
  {
   "cell_type": "markdown",
   "metadata": {},
   "source": [
    "To minify droping missing values or features, we could simply concatenating the corelated features like `left_club`, `left_club_leage` and `left_club_country`, as well for the `joined` ones."
   ]
  },
  {
   "cell_type": "code",
   "execution_count": 832,
   "metadata": {},
   "outputs": [],
   "source": [
    "dataset['left'] = dataset['left_club'] + \" - \" + dataset['left_club_league'] + \" - \" + dataset['left_club_country']\n",
    "dataset.drop(['left_club', 'left_club_league', 'left_club_country'], axis=1, inplace=True)\n",
    "\n",
    "dataset['joined'] = dataset['joined_club'] + \" - \" + dataset['joined_club_league'] + \" - \" + dataset['joined_club_country']\n",
    "dataset.drop(['joined_club', 'joined_club_league', 'joined_club_country'], axis=1, inplace=True)"
   ]
  },
  {
   "cell_type": "code",
   "execution_count": 833,
   "metadata": {},
   "outputs": [
    {
     "data": {
      "text/html": [
       "<div>\n",
       "<style scoped>\n",
       "    .dataframe tbody tr th:only-of-type {\n",
       "        vertical-align: middle;\n",
       "    }\n",
       "\n",
       "    .dataframe tbody tr th {\n",
       "        vertical-align: top;\n",
       "    }\n",
       "\n",
       "    .dataframe thead th {\n",
       "        text-align: right;\n",
       "    }\n",
       "</style>\n",
       "<table border=\"1\" class=\"dataframe\">\n",
       "  <thead>\n",
       "    <tr style=\"text-align: right;\">\n",
       "      <th></th>\n",
       "      <th>player_id</th>\n",
       "      <th>name</th>\n",
       "      <th>age</th>\n",
       "      <th>position</th>\n",
       "      <th>national_1</th>\n",
       "      <th>national_2</th>\n",
       "      <th>transfer_date</th>\n",
       "      <th>transfer_date_p</th>\n",
       "      <th>market_value</th>\n",
       "      <th>market_value_p</th>\n",
       "      <th>fee</th>\n",
       "      <th>loan_fee</th>\n",
       "      <th>loan_fee_p</th>\n",
       "      <th>created_at</th>\n",
       "      <th>updated_at</th>\n",
       "      <th>temp_dates_page</th>\n",
       "      <th>temp_players_page</th>\n",
       "      <th>left</th>\n",
       "      <th>joined</th>\n",
       "      <th>loan_transfer</th>\n",
       "      <th>free_transfer</th>\n",
       "    </tr>\n",
       "  </thead>\n",
       "  <tbody>\n",
       "    <tr>\n",
       "      <th>8414</th>\n",
       "      <td>394304.0</td>\n",
       "      <td>Manolo Portanova</td>\n",
       "      <td>20.0</td>\n",
       "      <td>Attacking Midfield</td>\n",
       "      <td>Italy</td>\n",
       "      <td>NaN</td>\n",
       "      <td>Oct 1, 2020</td>\n",
       "      <td>2020-10-01</td>\n",
       "      <td>€600Th.</td>\n",
       "      <td>600000</td>\n",
       "      <td>-</td>\n",
       "      <td>NaN</td>\n",
       "      <td>NaN</td>\n",
       "      <td>2021-10-04 16:24:18</td>\n",
       "      <td>2021-10-04 16:24:18</td>\n",
       "      <td>NaN</td>\n",
       "      <td>NaN</td>\n",
       "      <td>Juventus U23 - Serie C - A - Italy</td>\n",
       "      <td>Juventus - Serie A - Italy</td>\n",
       "      <td>False</td>\n",
       "      <td>False</td>\n",
       "    </tr>\n",
       "    <tr>\n",
       "      <th>16712</th>\n",
       "      <td>183499.0</td>\n",
       "      <td>Shkodran Maholli</td>\n",
       "      <td>27.0</td>\n",
       "      <td>Centre-Forward</td>\n",
       "      <td>Sweden</td>\n",
       "      <td>Kosovo</td>\n",
       "      <td>Aug 25, 2020</td>\n",
       "      <td>2020-08-25</td>\n",
       "      <td>€200Th.</td>\n",
       "      <td>200000</td>\n",
       "      <td>free transfer</td>\n",
       "      <td>NaN</td>\n",
       "      <td>NaN</td>\n",
       "      <td>2021-10-04 17:02:02</td>\n",
       "      <td>2021-10-04 17:02:02</td>\n",
       "      <td>NaN</td>\n",
       "      <td>NaN</td>\n",
       "      <td>Silkeborg IF - 1.Division - Denmark</td>\n",
       "      <td>Helsingborg - Allsvenskan - Sweden</td>\n",
       "      <td>False</td>\n",
       "      <td>True</td>\n",
       "    </tr>\n",
       "    <tr>\n",
       "      <th>52724</th>\n",
       "      <td>247921.0</td>\n",
       "      <td>Rafa de Vicente</td>\n",
       "      <td>27.0</td>\n",
       "      <td>Central Midfield</td>\n",
       "      <td>NaN</td>\n",
       "      <td>NaN</td>\n",
       "      <td>Jul 1, 2021</td>\n",
       "      <td>2021-07-01</td>\n",
       "      <td>€250Th.</td>\n",
       "      <td>250000</td>\n",
       "      <td>free transfer</td>\n",
       "      <td>NaN</td>\n",
       "      <td>NaN</td>\n",
       "      <td>2021-12-13 23:38:36</td>\n",
       "      <td>2021-12-13 23:38:36</td>\n",
       "      <td>NaN</td>\n",
       "      <td>92.0</td>\n",
       "      <td>UCAM Murcia - Primera Div. R.F.E.F. - Gr. II -...</td>\n",
       "      <td>Dep. La Coruña - Primera Div. R.F.E.F. - Gr. I...</td>\n",
       "      <td>False</td>\n",
       "      <td>True</td>\n",
       "    </tr>\n",
       "    <tr>\n",
       "      <th>81407</th>\n",
       "      <td>157036.0</td>\n",
       "      <td>Dyego Sousa</td>\n",
       "      <td>31.0</td>\n",
       "      <td>Centre-Forward</td>\n",
       "      <td>NaN</td>\n",
       "      <td>NaN</td>\n",
       "      <td>Aug 31, 2021</td>\n",
       "      <td>2021-08-31</td>\n",
       "      <td>€1.80m</td>\n",
       "      <td>1800000</td>\n",
       "      <td>free transfer</td>\n",
       "      <td>NaN</td>\n",
       "      <td>NaN</td>\n",
       "      <td>2021-12-31 06:58:33</td>\n",
       "      <td>2021-12-31 06:58:33</td>\n",
       "      <td>NaN</td>\n",
       "      <td>8.0</td>\n",
       "      <td>SZ FC - Super League - China</td>\n",
       "      <td>UD Almería - LaLiga2 - Spain</td>\n",
       "      <td>False</td>\n",
       "      <td>True</td>\n",
       "    </tr>\n",
       "    <tr>\n",
       "      <th>88380</th>\n",
       "      <td>645484.0</td>\n",
       "      <td>Tamal Naskar</td>\n",
       "      <td>21.0</td>\n",
       "      <td>Goalkeeper</td>\n",
       "      <td>India</td>\n",
       "      <td>NaN</td>\n",
       "      <td>Oct 1, 2021</td>\n",
       "      <td>2021-10-01</td>\n",
       "      <td>€25Th.</td>\n",
       "      <td>25000</td>\n",
       "      <td>-</td>\n",
       "      <td>NaN</td>\n",
       "      <td>NaN</td>\n",
       "      <td>2021-12-31 07:41:16</td>\n",
       "      <td>2021-12-31 07:41:16</td>\n",
       "      <td>4.0</td>\n",
       "      <td>18.0</td>\n",
       "      <td>NaN</td>\n",
       "      <td>NaN</td>\n",
       "      <td>False</td>\n",
       "      <td>False</td>\n",
       "    </tr>\n",
       "  </tbody>\n",
       "</table>\n",
       "</div>"
      ],
      "text/plain": [
       "       player_id              name   age            position national_1  \\\n",
       "8414    394304.0  Manolo Portanova  20.0  Attacking Midfield      Italy   \n",
       "16712   183499.0  Shkodran Maholli  27.0      Centre-Forward     Sweden   \n",
       "52724   247921.0   Rafa de Vicente  27.0    Central Midfield        NaN   \n",
       "81407   157036.0       Dyego Sousa  31.0      Centre-Forward        NaN   \n",
       "88380   645484.0      Tamal Naskar  21.0          Goalkeeper      India   \n",
       "\n",
       "      national_2 transfer_date transfer_date_p market_value  market_value_p  \\\n",
       "8414         NaN   Oct 1, 2020      2020-10-01      €600Th.          600000   \n",
       "16712     Kosovo  Aug 25, 2020      2020-08-25      €200Th.          200000   \n",
       "52724        NaN   Jul 1, 2021      2021-07-01      €250Th.          250000   \n",
       "81407        NaN  Aug 31, 2021      2021-08-31       €1.80m         1800000   \n",
       "88380        NaN   Oct 1, 2021      2021-10-01       €25Th.           25000   \n",
       "\n",
       "                 fee loan_fee  loan_fee_p           created_at  \\\n",
       "8414               -      NaN         NaN  2021-10-04 16:24:18   \n",
       "16712  free transfer      NaN         NaN  2021-10-04 17:02:02   \n",
       "52724  free transfer      NaN         NaN  2021-12-13 23:38:36   \n",
       "81407  free transfer      NaN         NaN  2021-12-31 06:58:33   \n",
       "88380              -      NaN         NaN  2021-12-31 07:41:16   \n",
       "\n",
       "                updated_at  temp_dates_page  temp_players_page  \\\n",
       "8414   2021-10-04 16:24:18              NaN                NaN   \n",
       "16712  2021-10-04 17:02:02              NaN                NaN   \n",
       "52724  2021-12-13 23:38:36              NaN               92.0   \n",
       "81407  2021-12-31 06:58:33              NaN                8.0   \n",
       "88380  2021-12-31 07:41:16              4.0               18.0   \n",
       "\n",
       "                                                    left  \\\n",
       "8414                  Juventus U23 - Serie C - A - Italy   \n",
       "16712                Silkeborg IF - 1.Division - Denmark   \n",
       "52724  UCAM Murcia - Primera Div. R.F.E.F. - Gr. II -...   \n",
       "81407                       SZ FC - Super League - China   \n",
       "88380                                                NaN   \n",
       "\n",
       "                                                  joined  loan_transfer  \\\n",
       "8414                          Juventus - Serie A - Italy          False   \n",
       "16712                 Helsingborg - Allsvenskan - Sweden          False   \n",
       "52724  Dep. La Coruña - Primera Div. R.F.E.F. - Gr. I...          False   \n",
       "81407                       UD Almería - LaLiga2 - Spain          False   \n",
       "88380                                                NaN          False   \n",
       "\n",
       "       free_transfer  \n",
       "8414           False  \n",
       "16712           True  \n",
       "52724           True  \n",
       "81407           True  \n",
       "88380          False  "
      ]
     },
     "execution_count": 833,
     "metadata": {},
     "output_type": "execute_result"
    }
   ],
   "source": [
    "dataset['loan_transfer'] = False\n",
    "dataset['free_transfer'] = False\n",
    "dataset['loan_transfer'] = dataset['fee'].apply(lambda fee: True if (fee == 'loan transfer') else False)\n",
    "dataset['free_transfer'] = dataset['fee'].apply(lambda fee: True if (fee == 'free transfer') else False)\n",
    "\n",
    "dataset.sample(5, random_state=1)"
   ]
  },
  {
   "cell_type": "markdown",
   "metadata": {},
   "source": [
    "### Handle Invalid Values"
   ]
  },
  {
   "cell_type": "code",
   "execution_count": 834,
   "metadata": {},
   "outputs": [],
   "source": [
    "dataset['fee'] = dataset['fee'].apply(lambda fee: fee if (fee != '-' and fee != '?') else None)"
   ]
  },
  {
   "cell_type": "markdown",
   "metadata": {},
   "source": [
    "### Find and Handle Missing Values"
   ]
  },
  {
   "cell_type": "code",
   "execution_count": 835,
   "metadata": {},
   "outputs": [
    {
     "data": {
      "text/html": [
       "<div>\n",
       "<style scoped>\n",
       "    .dataframe tbody tr th:only-of-type {\n",
       "        vertical-align: middle;\n",
       "    }\n",
       "\n",
       "    .dataframe tbody tr th {\n",
       "        vertical-align: top;\n",
       "    }\n",
       "\n",
       "    .dataframe thead th {\n",
       "        text-align: right;\n",
       "    }\n",
       "</style>\n",
       "<table border=\"1\" class=\"dataframe\">\n",
       "  <thead>\n",
       "    <tr style=\"text-align: right;\">\n",
       "      <th></th>\n",
       "      <th>column</th>\n",
       "      <th>missing</th>\n",
       "      <th>percentage</th>\n",
       "    </tr>\n",
       "  </thead>\n",
       "  <tbody>\n",
       "    <tr>\n",
       "      <th>0</th>\n",
       "      <td>player_id</td>\n",
       "      <td>1053</td>\n",
       "      <td>0.01</td>\n",
       "    </tr>\n",
       "    <tr>\n",
       "      <th>1</th>\n",
       "      <td>name</td>\n",
       "      <td>0</td>\n",
       "      <td>0.00</td>\n",
       "    </tr>\n",
       "    <tr>\n",
       "      <th>2</th>\n",
       "      <td>age</td>\n",
       "      <td>468</td>\n",
       "      <td>0.01</td>\n",
       "    </tr>\n",
       "    <tr>\n",
       "      <th>3</th>\n",
       "      <td>position</td>\n",
       "      <td>0</td>\n",
       "      <td>0.00</td>\n",
       "    </tr>\n",
       "    <tr>\n",
       "      <th>4</th>\n",
       "      <td>national_1</td>\n",
       "      <td>14061</td>\n",
       "      <td>0.16</td>\n",
       "    </tr>\n",
       "    <tr>\n",
       "      <th>5</th>\n",
       "      <td>national_2</td>\n",
       "      <td>77909</td>\n",
       "      <td>0.87</td>\n",
       "    </tr>\n",
       "    <tr>\n",
       "      <th>6</th>\n",
       "      <td>transfer_date</td>\n",
       "      <td>0</td>\n",
       "      <td>0.00</td>\n",
       "    </tr>\n",
       "    <tr>\n",
       "      <th>7</th>\n",
       "      <td>transfer_date_p</td>\n",
       "      <td>0</td>\n",
       "      <td>0.00</td>\n",
       "    </tr>\n",
       "    <tr>\n",
       "      <th>8</th>\n",
       "      <td>market_value</td>\n",
       "      <td>0</td>\n",
       "      <td>0.00</td>\n",
       "    </tr>\n",
       "    <tr>\n",
       "      <th>9</th>\n",
       "      <td>market_value_p</td>\n",
       "      <td>0</td>\n",
       "      <td>0.00</td>\n",
       "    </tr>\n",
       "    <tr>\n",
       "      <th>10</th>\n",
       "      <td>fee</td>\n",
       "      <td>29049</td>\n",
       "      <td>0.32</td>\n",
       "    </tr>\n",
       "    <tr>\n",
       "      <th>11</th>\n",
       "      <td>loan_fee</td>\n",
       "      <td>88996</td>\n",
       "      <td>1.00</td>\n",
       "    </tr>\n",
       "    <tr>\n",
       "      <th>12</th>\n",
       "      <td>loan_fee_p</td>\n",
       "      <td>88996</td>\n",
       "      <td>1.00</td>\n",
       "    </tr>\n",
       "    <tr>\n",
       "      <th>13</th>\n",
       "      <td>created_at</td>\n",
       "      <td>0</td>\n",
       "      <td>0.00</td>\n",
       "    </tr>\n",
       "    <tr>\n",
       "      <th>14</th>\n",
       "      <td>updated_at</td>\n",
       "      <td>0</td>\n",
       "      <td>0.00</td>\n",
       "    </tr>\n",
       "    <tr>\n",
       "      <th>15</th>\n",
       "      <td>temp_dates_page</td>\n",
       "      <td>65789</td>\n",
       "      <td>0.74</td>\n",
       "    </tr>\n",
       "    <tr>\n",
       "      <th>16</th>\n",
       "      <td>temp_players_page</td>\n",
       "      <td>50304</td>\n",
       "      <td>0.56</td>\n",
       "    </tr>\n",
       "    <tr>\n",
       "      <th>17</th>\n",
       "      <td>left</td>\n",
       "      <td>25332</td>\n",
       "      <td>0.28</td>\n",
       "    </tr>\n",
       "    <tr>\n",
       "      <th>18</th>\n",
       "      <td>joined</td>\n",
       "      <td>29351</td>\n",
       "      <td>0.33</td>\n",
       "    </tr>\n",
       "    <tr>\n",
       "      <th>19</th>\n",
       "      <td>loan_transfer</td>\n",
       "      <td>0</td>\n",
       "      <td>0.00</td>\n",
       "    </tr>\n",
       "    <tr>\n",
       "      <th>20</th>\n",
       "      <td>free_transfer</td>\n",
       "      <td>0</td>\n",
       "      <td>0.00</td>\n",
       "    </tr>\n",
       "  </tbody>\n",
       "</table>\n",
       "</div>"
      ],
      "text/plain": [
       "               column  missing  percentage\n",
       "0           player_id     1053        0.01\n",
       "1                name        0        0.00\n",
       "2                 age      468        0.01\n",
       "3            position        0        0.00\n",
       "4          national_1    14061        0.16\n",
       "5          national_2    77909        0.87\n",
       "6       transfer_date        0        0.00\n",
       "7     transfer_date_p        0        0.00\n",
       "8        market_value        0        0.00\n",
       "9      market_value_p        0        0.00\n",
       "10                fee    29049        0.32\n",
       "11           loan_fee    88996        1.00\n",
       "12         loan_fee_p    88996        1.00\n",
       "13         created_at        0        0.00\n",
       "14         updated_at        0        0.00\n",
       "15    temp_dates_page    65789        0.74\n",
       "16  temp_players_page    50304        0.56\n",
       "17               left    25332        0.28\n",
       "18             joined    29351        0.33\n",
       "19      loan_transfer        0        0.00\n",
       "20      free_transfer        0        0.00"
      ]
     },
     "execution_count": 835,
     "metadata": {},
     "output_type": "execute_result"
    }
   ],
   "source": [
    "idf = dataset.isna().sum().reset_index().rename({'index': 'column', 0: 'missing'}, axis=1)\n",
    "idf['percentage'] = round(idf['missing'] / dataset.shape[0], 2)\n",
    "idf"
   ]
  },
  {
   "cell_type": "markdown",
   "metadata": {},
   "source": [
    "- `player_id` is a unique value, we don't need to fill the blank and remove the feature later.\n",
    "- `age` has a little amount of missing data. We could fill them with median value.\n",
    "- `joined_club` and `left_club` has pieces of missing data. We could drop the value.\n",
    "- `national_2`, `left_club_league`, `joined_club_league`, `loan_fee`, `loan_fee_p` has large amount of missing data. We could remove these features later."
   ]
  },
  {
   "cell_type": "code",
   "execution_count": 836,
   "metadata": {},
   "outputs": [],
   "source": [
    "dataset['age'].fillna(dataset['age'].median(), inplace=True)"
   ]
  },
  {
   "cell_type": "markdown",
   "metadata": {},
   "source": [
    "### Remove Unnecessary Features"
   ]
  },
  {
   "cell_type": "code",
   "execution_count": 837,
   "metadata": {},
   "outputs": [],
   "source": [
    "features_tobe_removed = [\n",
    "    'player_id',\n",
    "    'name',\n",
    "    'market_value',\n",
    "    'transfer_date',\n",
    "    'created_at',\n",
    "    'updated_at',\n",
    "    'national_2',\n",
    "    'loan_fee',\n",
    "    'loan_fee_p',\n",
    "    'transfer_date_p', # to be used later for time series analysis\n",
    "    'temp_dates_page',\n",
    "    'temp_players_page'\n",
    "]\n",
    "\n",
    "dataset.drop(features_tobe_removed, axis=1, inplace=True)"
   ]
  },
  {
   "cell_type": "markdown",
   "metadata": {},
   "source": [
    "### Remove Duplication"
   ]
  },
  {
   "cell_type": "code",
   "execution_count": 838,
   "metadata": {},
   "outputs": [
    {
     "name": "stdout",
     "output_type": "stream",
     "text": [
      "before removal: 89405\n",
      "duplicated count: 3068\n",
      "after removal: 86337\n"
     ]
    }
   ],
   "source": [
    "print(\"before removal:\", dataset.shape[0])\n",
    "\n",
    "print(\"duplicated count:\", dataset.duplicated().sum())\n",
    "dataset.drop_duplicates(inplace=True)\n",
    "\n",
    "print(\"after removal:\", dataset.shape[0])"
   ]
  },
  {
   "cell_type": "markdown",
   "metadata": {},
   "source": [
    "### Outlier Removal"
   ]
  },
  {
   "cell_type": "code",
   "execution_count": 839,
   "metadata": {},
   "outputs": [
    {
     "name": "stdout",
     "output_type": "stream",
     "text": [
      "rows count before: 86337 \n",
      "\n",
      "- age: 35\n",
      "- market_value_p: 7469\n",
      "total: 7504\n",
      "\n",
      "rows count after: 78833\n"
     ]
    }
   ],
   "source": [
    "current = int(dataset.shape[0])\n",
    "print(\"rows count before:\", current, '\\n')\n",
    "\n",
    "number_cols = dataset.select_dtypes(include='number').columns.tolist()\n",
    "\n",
    "total_reducted = 0\n",
    "for col in number_cols:\n",
    "    dataset = remove_outlier_iqr(dataset, col)\n",
    "    reducted = current - int(dataset.shape[0])\n",
    "    print(f\"- {col}:\", reducted)\n",
    "    total_reducted = total_reducted + reducted\n",
    "    current = current - reducted\n",
    "\n",
    "print(f\"total: {total_reducted}\")\n",
    "print(\"\\nrows count after:\", current)"
   ]
  },
  {
   "cell_type": "markdown",
   "metadata": {},
   "source": [
    "### Casting Dtypes"
   ]
  },
  {
   "cell_type": "code",
   "execution_count": 840,
   "metadata": {},
   "outputs": [],
   "source": [
    "dataset = dataset.astype({\n",
    "    \"age\": int,\n",
    "    \"market_value_p\": int,\n",
    "})"
   ]
  },
  {
   "cell_type": "markdown",
   "metadata": {},
   "source": [
    "### Preprocessing Result"
   ]
  },
  {
   "cell_type": "code",
   "execution_count": 841,
   "metadata": {},
   "outputs": [
    {
     "data": {
      "text/html": [
       "<div>\n",
       "<style scoped>\n",
       "    .dataframe tbody tr th:only-of-type {\n",
       "        vertical-align: middle;\n",
       "    }\n",
       "\n",
       "    .dataframe tbody tr th {\n",
       "        vertical-align: top;\n",
       "    }\n",
       "\n",
       "    .dataframe thead th {\n",
       "        text-align: right;\n",
       "    }\n",
       "</style>\n",
       "<table border=\"1\" class=\"dataframe\">\n",
       "  <thead>\n",
       "    <tr style=\"text-align: right;\">\n",
       "      <th></th>\n",
       "      <th>age</th>\n",
       "      <th>position</th>\n",
       "      <th>national_1</th>\n",
       "      <th>market_value_p</th>\n",
       "      <th>fee</th>\n",
       "      <th>left</th>\n",
       "      <th>joined</th>\n",
       "      <th>loan_transfer</th>\n",
       "      <th>free_transfer</th>\n",
       "    </tr>\n",
       "  </thead>\n",
       "  <tbody>\n",
       "    <tr>\n",
       "      <th>49431</th>\n",
       "      <td>21</td>\n",
       "      <td>midfield</td>\n",
       "      <td>Uruguay</td>\n",
       "      <td>50000</td>\n",
       "      <td>None</td>\n",
       "      <td>Cerro Largo - Primera División - Uruguay</td>\n",
       "      <td>NaN</td>\n",
       "      <td>False</td>\n",
       "      <td>False</td>\n",
       "    </tr>\n",
       "    <tr>\n",
       "      <th>14979</th>\n",
       "      <td>19</td>\n",
       "      <td>Right-Back</td>\n",
       "      <td>Italy</td>\n",
       "      <td>50000</td>\n",
       "      <td>free transfer</td>\n",
       "      <td>Savoia - Serie D - G - Italy</td>\n",
       "      <td>Chievo Verona - Serie B - Italy</td>\n",
       "      <td>False</td>\n",
       "      <td>True</td>\n",
       "    </tr>\n",
       "    <tr>\n",
       "      <th>37564</th>\n",
       "      <td>20</td>\n",
       "      <td>midfield</td>\n",
       "      <td>Korea, South</td>\n",
       "      <td>25000</td>\n",
       "      <td>None</td>\n",
       "      <td>FC Namdong - K4 League - Korea, South</td>\n",
       "      <td>Goyang Citizen  - K4 League - Korea, South</td>\n",
       "      <td>False</td>\n",
       "      <td>False</td>\n",
       "    </tr>\n",
       "    <tr>\n",
       "      <th>66900</th>\n",
       "      <td>35</td>\n",
       "      <td>Goalkeeper</td>\n",
       "      <td>Argentina</td>\n",
       "      <td>125000</td>\n",
       "      <td>free transfer</td>\n",
       "      <td>CA Mitre - Primera Nacional - Argentina</td>\n",
       "      <td>CD Tudelano - Primera Div. R.F.E.F. - Gr. I - ...</td>\n",
       "      <td>False</td>\n",
       "      <td>True</td>\n",
       "    </tr>\n",
       "    <tr>\n",
       "      <th>88663</th>\n",
       "      <td>28</td>\n",
       "      <td>Right Winger</td>\n",
       "      <td>Iran</td>\n",
       "      <td>75000</td>\n",
       "      <td>free transfer</td>\n",
       "      <td>Sh. Astara - Azadegan League - Iran</td>\n",
       "      <td>Bandar Abbas - League 2 - Iran</td>\n",
       "      <td>False</td>\n",
       "      <td>True</td>\n",
       "    </tr>\n",
       "    <tr>\n",
       "      <th>39621</th>\n",
       "      <td>27</td>\n",
       "      <td>Centre-Forward</td>\n",
       "      <td>Switzerland</td>\n",
       "      <td>400000</td>\n",
       "      <td>free transfer</td>\n",
       "      <td>Ethnikos - Protathlima Cyta - Cyprus</td>\n",
       "      <td>SC Kriens - Challenge League - Switzerland</td>\n",
       "      <td>False</td>\n",
       "      <td>True</td>\n",
       "    </tr>\n",
       "    <tr>\n",
       "      <th>45703</th>\n",
       "      <td>26</td>\n",
       "      <td>Centre-Back</td>\n",
       "      <td>Ukraine</td>\n",
       "      <td>250000</td>\n",
       "      <td>free transfer</td>\n",
       "      <td>Rukh Lviv - Premier Liga - Ukraine</td>\n",
       "      <td>Okzhetpes - Pervaya Liga - Kazakhstan</td>\n",
       "      <td>False</td>\n",
       "      <td>True</td>\n",
       "    </tr>\n",
       "    <tr>\n",
       "      <th>69146</th>\n",
       "      <td>20</td>\n",
       "      <td>attack</td>\n",
       "      <td>Croatia</td>\n",
       "      <td>50000</td>\n",
       "      <td>None</td>\n",
       "      <td>NaN</td>\n",
       "      <td>NK Sesvete - 2.HNL - Croatia</td>\n",
       "      <td>False</td>\n",
       "      <td>False</td>\n",
       "    </tr>\n",
       "    <tr>\n",
       "      <th>85535</th>\n",
       "      <td>22</td>\n",
       "      <td>Centre-Back</td>\n",
       "      <td>Morocco</td>\n",
       "      <td>100000</td>\n",
       "      <td>None</td>\n",
       "      <td>O. Khouribga - Botola Pro Inwi - Morocco</td>\n",
       "      <td>NaN</td>\n",
       "      <td>False</td>\n",
       "      <td>False</td>\n",
       "    </tr>\n",
       "    <tr>\n",
       "      <th>85855</th>\n",
       "      <td>19</td>\n",
       "      <td>Attacking Midfield</td>\n",
       "      <td>Bulgaria</td>\n",
       "      <td>10000</td>\n",
       "      <td>None</td>\n",
       "      <td>Dob. Dobrich - Vtora Liga - Bulgaria</td>\n",
       "      <td>NaN</td>\n",
       "      <td>False</td>\n",
       "      <td>False</td>\n",
       "    </tr>\n",
       "  </tbody>\n",
       "</table>\n",
       "</div>"
      ],
      "text/plain": [
       "       age            position    national_1  market_value_p            fee  \\\n",
       "49431   21            midfield       Uruguay           50000           None   \n",
       "14979   19          Right-Back         Italy           50000  free transfer   \n",
       "37564   20            midfield  Korea, South           25000           None   \n",
       "66900   35          Goalkeeper     Argentina          125000  free transfer   \n",
       "88663   28        Right Winger          Iran           75000  free transfer   \n",
       "39621   27      Centre-Forward   Switzerland          400000  free transfer   \n",
       "45703   26         Centre-Back       Ukraine          250000  free transfer   \n",
       "69146   20              attack       Croatia           50000           None   \n",
       "85535   22         Centre-Back       Morocco          100000           None   \n",
       "85855   19  Attacking Midfield      Bulgaria           10000           None   \n",
       "\n",
       "                                           left  \\\n",
       "49431  Cerro Largo - Primera División - Uruguay   \n",
       "14979              Savoia - Serie D - G - Italy   \n",
       "37564     FC Namdong - K4 League - Korea, South   \n",
       "66900   CA Mitre - Primera Nacional - Argentina   \n",
       "88663       Sh. Astara - Azadegan League - Iran   \n",
       "39621      Ethnikos - Protathlima Cyta - Cyprus   \n",
       "45703        Rukh Lviv - Premier Liga - Ukraine   \n",
       "69146                                       NaN   \n",
       "85535  O. Khouribga - Botola Pro Inwi - Morocco   \n",
       "85855      Dob. Dobrich - Vtora Liga - Bulgaria   \n",
       "\n",
       "                                                  joined  loan_transfer  \\\n",
       "49431                                                NaN          False   \n",
       "14979                    Chievo Verona - Serie B - Italy          False   \n",
       "37564         Goyang Citizen  - K4 League - Korea, South          False   \n",
       "66900  CD Tudelano - Primera Div. R.F.E.F. - Gr. I - ...          False   \n",
       "88663                     Bandar Abbas - League 2 - Iran          False   \n",
       "39621         SC Kriens - Challenge League - Switzerland          False   \n",
       "45703              Okzhetpes - Pervaya Liga - Kazakhstan          False   \n",
       "69146                       NK Sesvete - 2.HNL - Croatia          False   \n",
       "85535                                                NaN          False   \n",
       "85855                                                NaN          False   \n",
       "\n",
       "       free_transfer  \n",
       "49431          False  \n",
       "14979           True  \n",
       "37564          False  \n",
       "66900           True  \n",
       "88663           True  \n",
       "39621           True  \n",
       "45703           True  \n",
       "69146          False  \n",
       "85535          False  \n",
       "85855          False  "
      ]
     },
     "execution_count": 841,
     "metadata": {},
     "output_type": "execute_result"
    }
   ],
   "source": [
    "dataset.sample(10, random_state=1)"
   ]
  },
  {
   "cell_type": "code",
   "execution_count": 842,
   "metadata": {},
   "outputs": [
    {
     "name": "stdout",
     "output_type": "stream",
     "text": [
      "<class 'pandas.core.frame.DataFrame'>\n",
      "Int64Index: 78833 entries, 1 to 89404\n",
      "Data columns (total 9 columns):\n",
      " #   Column          Non-Null Count  Dtype \n",
      "---  ------          --------------  ----- \n",
      " 0   age             78833 non-null  int32 \n",
      " 1   position        78833 non-null  object\n",
      " 2   national_1      66289 non-null  object\n",
      " 3   market_value_p  78833 non-null  int32 \n",
      " 4   fee             52290 non-null  object\n",
      " 5   left            56447 non-null  object\n",
      " 6   joined          52549 non-null  object\n",
      " 7   loan_transfer   78833 non-null  bool  \n",
      " 8   free_transfer   78833 non-null  bool  \n",
      "dtypes: bool(2), int32(2), object(5)\n",
      "memory usage: 4.4+ MB\n"
     ]
    }
   ],
   "source": [
    "dataset.info()"
   ]
  },
  {
   "cell_type": "markdown",
   "metadata": {},
   "source": [
    "## Exploratory Data Analysis"
   ]
  },
  {
   "cell_type": "markdown",
   "metadata": {},
   "source": [
    "### Descriptive Statistics"
   ]
  },
  {
   "cell_type": "markdown",
   "metadata": {},
   "source": [
    "#### Numerical"
   ]
  },
  {
   "cell_type": "code",
   "execution_count": 843,
   "metadata": {},
   "outputs": [
    {
     "data": {
      "text/html": [
       "<div>\n",
       "<style scoped>\n",
       "    .dataframe tbody tr th:only-of-type {\n",
       "        vertical-align: middle;\n",
       "    }\n",
       "\n",
       "    .dataframe tbody tr th {\n",
       "        vertical-align: top;\n",
       "    }\n",
       "\n",
       "    .dataframe thead th {\n",
       "        text-align: right;\n",
       "    }\n",
       "</style>\n",
       "<table border=\"1\" class=\"dataframe\">\n",
       "  <thead>\n",
       "    <tr style=\"text-align: right;\">\n",
       "      <th></th>\n",
       "      <th>age</th>\n",
       "      <th>market_value_p</th>\n",
       "    </tr>\n",
       "  </thead>\n",
       "  <tbody>\n",
       "    <tr>\n",
       "      <th>count</th>\n",
       "      <td>78833.000000</td>\n",
       "      <td>78833.000000</td>\n",
       "    </tr>\n",
       "    <tr>\n",
       "      <th>mean</th>\n",
       "      <td>25.219946</td>\n",
       "      <td>136142.681364</td>\n",
       "    </tr>\n",
       "    <tr>\n",
       "      <th>std</th>\n",
       "      <td>4.749277</td>\n",
       "      <td>118604.860515</td>\n",
       "    </tr>\n",
       "    <tr>\n",
       "      <th>min</th>\n",
       "      <td>15.000000</td>\n",
       "      <td>10000.000000</td>\n",
       "    </tr>\n",
       "    <tr>\n",
       "      <th>25%</th>\n",
       "      <td>21.000000</td>\n",
       "      <td>50000.000000</td>\n",
       "    </tr>\n",
       "    <tr>\n",
       "      <th>50%</th>\n",
       "      <td>25.000000</td>\n",
       "      <td>100000.000000</td>\n",
       "    </tr>\n",
       "    <tr>\n",
       "      <th>75%</th>\n",
       "      <td>29.000000</td>\n",
       "      <td>200000.000000</td>\n",
       "    </tr>\n",
       "    <tr>\n",
       "      <th>max</th>\n",
       "      <td>41.000000</td>\n",
       "      <td>550000.000000</td>\n",
       "    </tr>\n",
       "  </tbody>\n",
       "</table>\n",
       "</div>"
      ],
      "text/plain": [
       "                age  market_value_p\n",
       "count  78833.000000    78833.000000\n",
       "mean      25.219946   136142.681364\n",
       "std        4.749277   118604.860515\n",
       "min       15.000000    10000.000000\n",
       "25%       21.000000    50000.000000\n",
       "50%       25.000000   100000.000000\n",
       "75%       29.000000   200000.000000\n",
       "max       41.000000   550000.000000"
      ]
     },
     "execution_count": 843,
     "metadata": {},
     "output_type": "execute_result"
    }
   ],
   "source": [
    "dataset.select_dtypes(include='number').describe()"
   ]
  },
  {
   "cell_type": "markdown",
   "metadata": {},
   "source": [
    "#### Categorical"
   ]
  },
  {
   "cell_type": "code",
   "execution_count": 844,
   "metadata": {},
   "outputs": [
    {
     "data": {
      "text/html": [
       "<div>\n",
       "<style scoped>\n",
       "    .dataframe tbody tr th:only-of-type {\n",
       "        vertical-align: middle;\n",
       "    }\n",
       "\n",
       "    .dataframe tbody tr th {\n",
       "        vertical-align: top;\n",
       "    }\n",
       "\n",
       "    .dataframe thead th {\n",
       "        text-align: right;\n",
       "    }\n",
       "</style>\n",
       "<table border=\"1\" class=\"dataframe\">\n",
       "  <thead>\n",
       "    <tr style=\"text-align: right;\">\n",
       "      <th></th>\n",
       "      <th>position</th>\n",
       "      <th>national_1</th>\n",
       "      <th>fee</th>\n",
       "      <th>left</th>\n",
       "      <th>joined</th>\n",
       "      <th>loan_transfer</th>\n",
       "      <th>free_transfer</th>\n",
       "    </tr>\n",
       "  </thead>\n",
       "  <tbody>\n",
       "    <tr>\n",
       "      <th>count</th>\n",
       "      <td>78833</td>\n",
       "      <td>66289</td>\n",
       "      <td>52290</td>\n",
       "      <td>56447</td>\n",
       "      <td>52549</td>\n",
       "      <td>78833</td>\n",
       "      <td>78833</td>\n",
       "    </tr>\n",
       "    <tr>\n",
       "      <th>unique</th>\n",
       "      <td>17</td>\n",
       "      <td>208</td>\n",
       "      <td>248</td>\n",
       "      <td>5086</td>\n",
       "      <td>5340</td>\n",
       "      <td>2</td>\n",
       "      <td>2</td>\n",
       "    </tr>\n",
       "    <tr>\n",
       "      <th>top</th>\n",
       "      <td>Centre-Back</td>\n",
       "      <td>Italy</td>\n",
       "      <td>free transfer</td>\n",
       "      <td>Altinordu - 1.Lig - Turkey</td>\n",
       "      <td>SC East Bengal - Indian Super League - India</td>\n",
       "      <td>False</td>\n",
       "      <td>True</td>\n",
       "    </tr>\n",
       "    <tr>\n",
       "      <th>freq</th>\n",
       "      <td>12219</td>\n",
       "      <td>7205</td>\n",
       "      <td>41258</td>\n",
       "      <td>63</td>\n",
       "      <td>60</td>\n",
       "      <td>68930</td>\n",
       "      <td>41258</td>\n",
       "    </tr>\n",
       "  </tbody>\n",
       "</table>\n",
       "</div>"
      ],
      "text/plain": [
       "           position national_1            fee                        left  \\\n",
       "count         78833      66289          52290                       56447   \n",
       "unique           17        208            248                        5086   \n",
       "top     Centre-Back      Italy  free transfer  Altinordu - 1.Lig - Turkey   \n",
       "freq          12219       7205          41258                          63   \n",
       "\n",
       "                                              joined loan_transfer  \\\n",
       "count                                          52549         78833   \n",
       "unique                                          5340             2   \n",
       "top     SC East Bengal - Indian Super League - India         False   \n",
       "freq                                              60         68930   \n",
       "\n",
       "       free_transfer  \n",
       "count          78833  \n",
       "unique             2  \n",
       "top             True  \n",
       "freq           41258  "
      ]
     },
     "execution_count": 844,
     "metadata": {},
     "output_type": "execute_result"
    }
   ],
   "source": [
    "dataset.select_dtypes(exclude='number').describe()"
   ]
  },
  {
   "cell_type": "markdown",
   "metadata": {},
   "source": [
    "### Univariate Analysis"
   ]
  },
  {
   "cell_type": "markdown",
   "metadata": {},
   "source": [
    "#### Distribution Plot of Numerical Features"
   ]
  },
  {
   "cell_type": "code",
   "execution_count": 845,
   "metadata": {},
   "outputs": [
    {
     "data": {
      "image/png": "[encoded data removed]",
      "text/plain": [
       "<Figure size 1296x360 with 2 Axes>"
      ]
     },
     "metadata": {
      "needs_background": "light"
     },
     "output_type": "display_data"
    }
   ],
   "source": [
    "idf = dataset.select_dtypes(include='number')\n",
    "cols = idf.columns.to_list()\n",
    "\n",
    "plt.figure(figsize=(18, 5))\n",
    "for index in range(0, len(cols)):\n",
    "    plt.subplot(1, len(cols), index+1)\n",
    "    sns.boxplot(y=dataset[cols[index]], color='teal', orient='v')\n",
    "    plt.ylabel(cols[index], fontsize='16', labelpad=10)\n",
    "    plt.tight_layout()\n",
    "\n",
    "plt.show();\n"
   ]
  },
  {
   "cell_type": "code",
   "execution_count": 846,
   "metadata": {},
   "outputs": [
    {
     "data": {
      "image/png": "[encoded data removed]",
      "text/plain": [
       "<Figure size 1296x360 with 2 Axes>"
      ]
     },
     "metadata": {
      "needs_background": "light"
     },
     "output_type": "display_data"
    }
   ],
   "source": [
    "idf = dataset.select_dtypes(include='number')\n",
    "cols = idf.columns.to_list()\n",
    "\n",
    "plt.figure(figsize=(18, 5))\n",
    "for index in range(0, len(cols)):\n",
    "    plt.subplot(1, len(cols), index+1)\n",
    "    sns.distplot(dataset[cols[index]], color='teal')\n",
    "    plt.ylabel(cols[index], fontsize='16', labelpad=10)\n",
    "    plt.tight_layout()\n",
    "\n",
    "plt.show();"
   ]
  },
  {
   "cell_type": "markdown",
   "metadata": {},
   "source": [
    "#### Count Plot For Categorical Features"
   ]
  },
  {
   "cell_type": "code",
   "execution_count": 854,
   "metadata": {},
   "outputs": [
    {
     "data": {
      "image/png": "[encoded data removed]",
      "text/plain": [
       "<Figure size 1296x432 with 2 Axes>"
      ]
     },
     "metadata": {
      "needs_background": "light"
     },
     "output_type": "display_data"
    }
   ],
   "source": [
    "idf = dataset.select_dtypes(include='bool')\n",
    "cols = idf.columns.tolist()\n",
    "\n",
    "plt.figure(figsize=(18, 6))\n",
    "for index in range(0, len(cols)):\n",
    "    plt.subplot(1, 2, index+1)\n",
    "    sns.countplot(idf[cols[index]], color='teal', orient='v', palette=binary_pallete)\n",
    "    plt.tight_layout()\n",
    "    plt.xlabel(cols[index], fontsize='14', labelpad=10)\n",
    "\n",
    "plt.show();"
   ]
  },
  {
   "cell_type": "code",
   "execution_count": 848,
   "metadata": {},
   "outputs": [
    {
     "data": {
      "image/png": "[encoded data removed]",
      "text/plain": [
       "<Figure size 1296x432 with 1 Axes>"
      ]
     },
     "metadata": {
      "needs_background": "light"
     },
     "output_type": "display_data"
    }
   ],
   "source": [
    "idf = dataset.groupby(['position'])['age'].describe().reset_index().sort_values(by='count', ascending=False)\n",
    "\n",
    "plt.figure(figsize=(18,6))\n",
    "sns.barplot(y='position', x='count', data=idf)\n",
    "plt.show();"
   ]
  },
  {
   "cell_type": "code",
   "execution_count": 849,
   "metadata": {},
   "outputs": [
    {
     "data": {
      "image/png": "[encoded data removed]",
      "text/plain": [
       "<Figure size 1296x432 with 1 Axes>"
      ]
     },
     "metadata": {
      "needs_background": "light"
     },
     "output_type": "display_data"
    }
   ],
   "source": [
    "idf = dataset.groupby(['national_1'])['age'].describe().reset_index().sort_values(by='count', ascending=False)\n",
    "\n",
    "plt.figure(figsize=(18,6))\n",
    "sns.barplot(y='national_1', x='count', data=idf[:15])\n",
    "plt.show();"
   ]
  },
  {
   "cell_type": "code",
   "execution_count": 850,
   "metadata": {},
   "outputs": [
    {
     "data": {
      "image/png": "[encoded data removed]",
      "text/plain": [
       "<Figure size 1296x576 with 1 Axes>"
      ]
     },
     "metadata": {
      "needs_background": "light"
     },
     "output_type": "display_data"
    }
   ],
   "source": [
    "idf = dataset.groupby(['left'])['age'].describe().reset_index().sort_values(by='count', ascending=False)\n",
    "\n",
    "plt.figure(figsize=(18,8))\n",
    "sns.barplot(y='left', x='count', data=idf[:15])\n",
    "plt.show();"
   ]
  },
  {
   "cell_type": "code",
   "execution_count": 851,
   "metadata": {},
   "outputs": [
    {
     "data": {
      "image/png": "[encoded data removed]",
      "text/plain": [
       "<Figure size 1296x576 with 1 Axes>"
      ]
     },
     "metadata": {
      "needs_background": "light"
     },
     "output_type": "display_data"
    }
   ],
   "source": [
    "idf = dataset.groupby(['joined'])['age'].describe().reset_index().sort_values(by='count', ascending=False)\n",
    "\n",
    "plt.figure(figsize=(18,8))\n",
    "sns.barplot(y='joined', x='count', data=idf[:15])\n",
    "plt.show();"
   ]
  },
  {
   "cell_type": "markdown",
   "metadata": {},
   "source": [
    "### Multivariate Analysis"
   ]
  },
  {
   "cell_type": "markdown",
   "metadata": {},
   "source": [
    "#### Correlation Heatmap"
   ]
  },
  {
   "cell_type": "code",
   "execution_count": 852,
   "metadata": {},
   "outputs": [
    {
     "data": {
      "image/png": "[encoded data removed]",
      "text/plain": [
       "<Figure size 1440x720 with 2 Axes>"
      ]
     },
     "metadata": {
      "needs_background": "light"
     },
     "output_type": "display_data"
    }
   ],
   "source": [
    "# label encoding for heatmap\n",
    "idf = dataset.copy()\n",
    "for feature in idf.select_dtypes(include='object').columns.tolist():\n",
    "    idf[feature] = idf[feature].astype('category').cat.codes\n",
    "\n",
    "plt.figure(figsize=(20, 10))\n",
    "sns.heatmap(idf.corr(), cmap='Blues', annot=True, fmt='.2f')\n",
    "plt.show();"
   ]
  },
  {
   "cell_type": "markdown",
   "metadata": {},
   "source": [
    "#### Pairplot"
   ]
  },
  {
   "cell_type": "code",
   "execution_count": 857,
   "metadata": {},
   "outputs": [
    {
     "data": {
      "image/png": "[encoded data removed]",
      "text/plain": [
       "<Figure size 360x360 with 6 Axes>"
      ]
     },
     "metadata": {
      "needs_background": "light"
     },
     "output_type": "display_data"
    }
   ],
   "source": [
    "idf = dataset.select_dtypes(include='number')\n",
    "\n",
    "sns.pairplot(data=idf.sample(1000, random_state=1), palette='teal')\n",
    "plt.show();"
   ]
  }
 ],
 "metadata": {
  "interpreter": {
   "hash": "fc7c798429ebac561b92ee2fcc9a6637543e2bbac22a4a6dbaa9a56fd1244998"
  },
  "kernelspec": {
   "display_name": "Python 3.8.5 64-bit ('base': conda)",
   "name": "python3"
  },
  "language_info": {
   "codemirror_mode": {
    "name": "ipython",
    "version": 3
   },
   "file_extension": ".py",
   "mimetype": "text/x-python",
   "name": "python",
   "nbconvert_exporter": "python",
   "pygments_lexer": "ipython3",
   "version": "3.9.7"
  },
  "orig_nbformat": 4
 },
 "nbformat": 4,
 "nbformat_minor": 2
}
