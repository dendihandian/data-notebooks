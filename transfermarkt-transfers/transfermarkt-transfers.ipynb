{
 "cells": [
  {
   "cell_type": "markdown",
   "metadata": {},
   "source": [
    "# Transfermarkt Transfers"
   ]
  },
  {
   "cell_type": "markdown",
   "metadata": {},
   "source": [
    "**Disclaimers** : \n",
    "- The analysis scope is based on the dataset, especially on the defined transfer date range. Some info and numbers may differ from the real complete data out there.\n",
    "- Some data may be missing because of scraping issue or restricted by the transfermarkt themselves. These could causing an innacurate conclusions.\n",
    "\n",
    "The dataset was politely scraped from [transfermarkt.com](https://www.transfermarkt.com/statistik/transfertage) using Scrapy and Splash. The notebook will be updated as the scraping goes from time to time. Check the `Transfer Date Range` section below to find out the oldest and latest date."
   ]
  },
  {
   "cell_type": "markdown",
   "metadata": {},
   "source": [
    "## Preparation"
   ]
  },
  {
   "cell_type": "markdown",
   "metadata": {},
   "source": [
    "### Import Libraries"
   ]
  },
  {
   "cell_type": "code",
   "execution_count": 38,
   "metadata": {},
   "outputs": [
    {
     "name": "stdout",
     "output_type": "stream",
     "text": [
      "python version:  3.8.5 (default, Sep  3 2020, 21:29:08) [MSC v.1916 64 bit (AMD64)]\n",
      "pandas version:  1.1.3\n",
      "seaborn version:  0.11.0\n",
      "last run:  2021-11-24 00:22:19\n"
     ]
    }
   ],
   "source": [
    "import seaborn as sns\n",
    "import pandas as pd\n",
    "import matplotlib.pyplot as plt\n",
    "import warnings\n",
    "import sys\n",
    "import datetime\n",
    "from IPython.core.interactiveshell import InteractiveShell\n",
    "\n",
    "pd.set_option('display.max_columns', None)\n",
    "InteractiveShell.ast_node_interactivity = \"all\"\n",
    "warnings.filterwarnings('ignore')\n",
    "\n",
    "print(\"python version: \", sys.version)\n",
    "print(\"pandas version: \", pd.__version__)\n",
    "print(\"seaborn version: \", sns.__version__)\n",
    "\n",
    "print(\"last run: \", datetime.datetime.now().strftime(\"%Y-%m-%d %H:%M:%S\"))\n"
   ]
  },
  {
   "cell_type": "markdown",
   "metadata": {},
   "source": [
    "### Loading Dataset"
   ]
  },
  {
   "cell_type": "code",
   "execution_count": 39,
   "metadata": {},
   "outputs": [],
   "source": [
    "df = pd.read_csv(\"transfermarkt-transfer.csv\")\n",
    "\n",
    "# developer-friendly column names and format\n",
    "df.columns = [x.lower().replace('-', '_').replace(' ', '_') for x in df.columns.to_list()]"
   ]
  },
  {
   "cell_type": "markdown",
   "metadata": {},
   "source": [
    "## Dataset Information & Description"
   ]
  },
  {
   "cell_type": "markdown",
   "metadata": {},
   "source": [
    "### Data Sample"
   ]
  },
  {
   "cell_type": "code",
   "execution_count": 40,
   "metadata": {},
   "outputs": [
    {
     "data": {
      "text/html": [
       "<div>\n",
       "<style scoped>\n",
       "    .dataframe tbody tr th:only-of-type {\n",
       "        vertical-align: middle;\n",
       "    }\n",
       "\n",
       "    .dataframe tbody tr th {\n",
       "        vertical-align: top;\n",
       "    }\n",
       "\n",
       "    .dataframe thead th {\n",
       "        text-align: right;\n",
       "    }\n",
       "</style>\n",
       "<table border=\"1\" class=\"dataframe\">\n",
       "  <thead>\n",
       "    <tr style=\"text-align: right;\">\n",
       "      <th></th>\n",
       "      <th>player_id</th>\n",
       "      <th>name</th>\n",
       "      <th>age</th>\n",
       "      <th>position</th>\n",
       "      <th>national_1</th>\n",
       "      <th>national_2</th>\n",
       "      <th>left_club</th>\n",
       "      <th>left_club_league</th>\n",
       "      <th>joined_club</th>\n",
       "      <th>joined_club_league</th>\n",
       "      <th>transfer_date</th>\n",
       "      <th>transfer_date_p</th>\n",
       "      <th>market_value</th>\n",
       "      <th>market_value_p</th>\n",
       "      <th>fee</th>\n",
       "      <th>left_club_country</th>\n",
       "      <th>joined_club_country</th>\n",
       "      <th>loan_fee</th>\n",
       "      <th>loan_fee_p</th>\n",
       "      <th>created_at</th>\n",
       "      <th>updated_at</th>\n",
       "    </tr>\n",
       "  </thead>\n",
       "  <tbody>\n",
       "    <tr>\n",
       "      <th>44299</th>\n",
       "      <td>560422.0</td>\n",
       "      <td>Lazar Vukovic</td>\n",
       "      <td>22.0</td>\n",
       "      <td>Left-Back</td>\n",
       "      <td>Serbia</td>\n",
       "      <td>NaN</td>\n",
       "      <td>IMT Belgrad</td>\n",
       "      <td>Prva liga Srbije</td>\n",
       "      <td>FK Alfa Modriča</td>\n",
       "      <td>Prva Liga RS</td>\n",
       "      <td>Mar 5, 2021</td>\n",
       "      <td>2021-03-05</td>\n",
       "      <td>€25Th.</td>\n",
       "      <td>25000</td>\n",
       "      <td>free transfer</td>\n",
       "      <td>Serbia</td>\n",
       "      <td>Bosnia-Herzegovina</td>\n",
       "      <td>NaN</td>\n",
       "      <td>NaN</td>\n",
       "      <td>2021-11-17 00:14:23</td>\n",
       "      <td>2021-11-17 00:14:23</td>\n",
       "    </tr>\n",
       "    <tr>\n",
       "      <th>20553</th>\n",
       "      <td>201696.0</td>\n",
       "      <td>Floriano Vanzo</td>\n",
       "      <td>26.0</td>\n",
       "      <td>Attacking Midfield</td>\n",
       "      <td>Belgium</td>\n",
       "      <td>Italy</td>\n",
       "      <td>RE Virton</td>\n",
       "      <td>2de Nationale ACFF</td>\n",
       "      <td>ACSM Poli Iasi</td>\n",
       "      <td>Liga 1 - Relegation group</td>\n",
       "      <td>Aug 29, 2020</td>\n",
       "      <td>2020-08-29</td>\n",
       "      <td>€300Th.</td>\n",
       "      <td>300000</td>\n",
       "      <td>free transfer</td>\n",
       "      <td>Belgium</td>\n",
       "      <td>Romania</td>\n",
       "      <td>NaN</td>\n",
       "      <td>NaN</td>\n",
       "      <td>2021-10-04 17:06:58</td>\n",
       "      <td>2021-10-04 17:06:58</td>\n",
       "    </tr>\n",
       "    <tr>\n",
       "      <th>26774</th>\n",
       "      <td>234764.0</td>\n",
       "      <td>Nuno Campos</td>\n",
       "      <td>27.0</td>\n",
       "      <td>Right-Back</td>\n",
       "      <td>Portugal</td>\n",
       "      <td>NaN</td>\n",
       "      <td>Nacional</td>\n",
       "      <td>Liga Bwin</td>\n",
       "      <td>Mafra</td>\n",
       "      <td>Liga Portugal 2</td>\n",
       "      <td>Jul 16, 2020</td>\n",
       "      <td>2020-07-16</td>\n",
       "      <td>€150Th.</td>\n",
       "      <td>150000</td>\n",
       "      <td>-</td>\n",
       "      <td>Portugal</td>\n",
       "      <td>Portugal</td>\n",
       "      <td>NaN</td>\n",
       "      <td>NaN</td>\n",
       "      <td>2021-10-04 17:37:45</td>\n",
       "      <td>2021-10-04 17:37:45</td>\n",
       "    </tr>\n",
       "    <tr>\n",
       "      <th>11150</th>\n",
       "      <td>383456.0</td>\n",
       "      <td>Cinar Tarhan</td>\n",
       "      <td>23.0</td>\n",
       "      <td>Central Midfield</td>\n",
       "      <td>Turkey</td>\n",
       "      <td>NaN</td>\n",
       "      <td>C. Rizespor</td>\n",
       "      <td>Süper Lig</td>\n",
       "      <td>Ergene Velimese</td>\n",
       "      <td>2.Lig Beyaz</td>\n",
       "      <td>Sep 15, 2020</td>\n",
       "      <td>2020-09-15</td>\n",
       "      <td>€50Th.</td>\n",
       "      <td>50000</td>\n",
       "      <td>loan transfer</td>\n",
       "      <td>Turkey</td>\n",
       "      <td>Turkey</td>\n",
       "      <td>NaN</td>\n",
       "      <td>NaN</td>\n",
       "      <td>2021-10-04 16:38:28</td>\n",
       "      <td>2021-10-04 16:38:28</td>\n",
       "    </tr>\n",
       "    <tr>\n",
       "      <th>28550</th>\n",
       "      <td>110874.0</td>\n",
       "      <td>Kazuma Watanabe</td>\n",
       "      <td>34.0</td>\n",
       "      <td>Centre-Forward</td>\n",
       "      <td>Japan</td>\n",
       "      <td>NaN</td>\n",
       "      <td>Gamba Osaka</td>\n",
       "      <td>J1 League</td>\n",
       "      <td>Yokohama FC</td>\n",
       "      <td>J1 League</td>\n",
       "      <td>Jan 9, 2021</td>\n",
       "      <td>2021-01-09</td>\n",
       "      <td>€475Th.</td>\n",
       "      <td>475000</td>\n",
       "      <td>free transfer</td>\n",
       "      <td>Japan</td>\n",
       "      <td>Japan</td>\n",
       "      <td>NaN</td>\n",
       "      <td>NaN</td>\n",
       "      <td>2021-10-24 21:33:37</td>\n",
       "      <td>2021-10-24 21:33:37</td>\n",
       "    </tr>\n",
       "    <tr>\n",
       "      <th>835</th>\n",
       "      <td>330879.0</td>\n",
       "      <td>Sedat Dursun</td>\n",
       "      <td>23.0</td>\n",
       "      <td>Defensive Midfield</td>\n",
       "      <td>Turkey</td>\n",
       "      <td>NaN</td>\n",
       "      <td>Bursaspor</td>\n",
       "      <td>1.Lig</td>\n",
       "      <td>Without Club</td>\n",
       "      <td>NaN</td>\n",
       "      <td>Dec 2, 2020</td>\n",
       "      <td>2020-12-02</td>\n",
       "      <td>€100Th.</td>\n",
       "      <td>100000</td>\n",
       "      <td>-</td>\n",
       "      <td>Turkey</td>\n",
       "      <td>NaN</td>\n",
       "      <td>NaN</td>\n",
       "      <td>NaN</td>\n",
       "      <td>2021-10-04 14:12:27</td>\n",
       "      <td>2021-10-04 14:12:27</td>\n",
       "    </tr>\n",
       "    <tr>\n",
       "      <th>36572</th>\n",
       "      <td>275159.0</td>\n",
       "      <td>Mikhail Kostyukov</td>\n",
       "      <td>29.0</td>\n",
       "      <td>Right Winger</td>\n",
       "      <td>Russia</td>\n",
       "      <td>NaN</td>\n",
       "      <td>Tambov</td>\n",
       "      <td>Premier Liga</td>\n",
       "      <td>Rubin Kazan</td>\n",
       "      <td>Premier Liga</td>\n",
       "      <td>Feb 1, 2021</td>\n",
       "      <td>2021-02-01</td>\n",
       "      <td>€800Th.</td>\n",
       "      <td>800000</td>\n",
       "      <td>free transfer</td>\n",
       "      <td>Russia</td>\n",
       "      <td>Russia</td>\n",
       "      <td>NaN</td>\n",
       "      <td>NaN</td>\n",
       "      <td>2021-11-02 12:51:17</td>\n",
       "      <td>2021-11-02 12:51:17</td>\n",
       "    </tr>\n",
       "    <tr>\n",
       "      <th>28677</th>\n",
       "      <td>221578.0</td>\n",
       "      <td>Mihael Orachev</td>\n",
       "      <td>25.0</td>\n",
       "      <td>Left-Back</td>\n",
       "      <td>Bulgaria</td>\n",
       "      <td>NaN</td>\n",
       "      <td>CSKA 1948</td>\n",
       "      <td>efbet Liga</td>\n",
       "      <td>PFC Montana</td>\n",
       "      <td>efbet Liga</td>\n",
       "      <td>Jan 15, 2021</td>\n",
       "      <td>2021-01-15</td>\n",
       "      <td>€150Th.</td>\n",
       "      <td>150000</td>\n",
       "      <td>free transfer</td>\n",
       "      <td>Bulgaria</td>\n",
       "      <td>Bulgaria</td>\n",
       "      <td>NaN</td>\n",
       "      <td>NaN</td>\n",
       "      <td>2021-10-24 21:33:50</td>\n",
       "      <td>2021-10-24 21:33:50</td>\n",
       "    </tr>\n",
       "    <tr>\n",
       "      <th>26132</th>\n",
       "      <td>615303.0</td>\n",
       "      <td>Mateja Stojanovic</td>\n",
       "      <td>19.0</td>\n",
       "      <td>Central Midfield</td>\n",
       "      <td>Serbia</td>\n",
       "      <td>NaN</td>\n",
       "      <td>Red Star U19</td>\n",
       "      <td>Omladinska liga</td>\n",
       "      <td>Zarkovo</td>\n",
       "      <td>Prva liga Srbije</td>\n",
       "      <td>Jul 14, 2020</td>\n",
       "      <td>2020-07-14</td>\n",
       "      <td>€100Th.</td>\n",
       "      <td>100000</td>\n",
       "      <td>loan transfer</td>\n",
       "      <td>Serbia</td>\n",
       "      <td>Serbia</td>\n",
       "      <td>NaN</td>\n",
       "      <td>NaN</td>\n",
       "      <td>2021-10-04 17:36:50</td>\n",
       "      <td>2021-10-04 17:36:50</td>\n",
       "    </tr>\n",
       "    <tr>\n",
       "      <th>31840</th>\n",
       "      <td>188312.0</td>\n",
       "      <td>Ramin Rezaeian</td>\n",
       "      <td>30.0</td>\n",
       "      <td>Right-Back</td>\n",
       "      <td>Iran</td>\n",
       "      <td>NaN</td>\n",
       "      <td>Al-Duhail SC</td>\n",
       "      <td>Stars League</td>\n",
       "      <td>Al-Sailiya SC</td>\n",
       "      <td>Stars League</td>\n",
       "      <td>Jan 1, 2021</td>\n",
       "      <td>2021-01-01</td>\n",
       "      <td>€500Th.</td>\n",
       "      <td>500000</td>\n",
       "      <td>loan transfer</td>\n",
       "      <td>Qatar</td>\n",
       "      <td>Qatar</td>\n",
       "      <td>NaN</td>\n",
       "      <td>NaN</td>\n",
       "      <td>2021-10-24 21:44:41</td>\n",
       "      <td>2021-10-24 21:44:41</td>\n",
       "    </tr>\n",
       "  </tbody>\n",
       "</table>\n",
       "</div>"
      ],
      "text/plain": [
       "       player_id               name   age            position national_1  \\\n",
       "44299   560422.0      Lazar Vukovic  22.0           Left-Back     Serbia   \n",
       "20553   201696.0     Floriano Vanzo  26.0  Attacking Midfield    Belgium   \n",
       "26774   234764.0        Nuno Campos  27.0          Right-Back   Portugal   \n",
       "11150   383456.0       Cinar Tarhan  23.0    Central Midfield     Turkey   \n",
       "28550   110874.0    Kazuma Watanabe  34.0      Centre-Forward      Japan   \n",
       "835     330879.0       Sedat Dursun  23.0  Defensive Midfield     Turkey   \n",
       "36572   275159.0  Mikhail Kostyukov  29.0        Right Winger     Russia   \n",
       "28677   221578.0     Mihael Orachev  25.0           Left-Back   Bulgaria   \n",
       "26132   615303.0  Mateja Stojanovic  19.0    Central Midfield     Serbia   \n",
       "31840   188312.0     Ramin Rezaeian  30.0          Right-Back       Iran   \n",
       "\n",
       "      national_2     left_club    left_club_league      joined_club  \\\n",
       "44299        NaN   IMT Belgrad    Prva liga Srbije  FK Alfa Modriča   \n",
       "20553      Italy     RE Virton  2de Nationale ACFF   ACSM Poli Iasi   \n",
       "26774        NaN      Nacional           Liga Bwin            Mafra   \n",
       "11150        NaN   C. Rizespor           Süper Lig  Ergene Velimese   \n",
       "28550        NaN   Gamba Osaka           J1 League      Yokohama FC   \n",
       "835          NaN     Bursaspor               1.Lig     Without Club   \n",
       "36572        NaN        Tambov        Premier Liga      Rubin Kazan   \n",
       "28677        NaN     CSKA 1948          efbet Liga      PFC Montana   \n",
       "26132        NaN  Red Star U19     Omladinska liga          Zarkovo   \n",
       "31840        NaN  Al-Duhail SC        Stars League    Al-Sailiya SC   \n",
       "\n",
       "              joined_club_league transfer_date transfer_date_p market_value  \\\n",
       "44299               Prva Liga RS   Mar 5, 2021      2021-03-05       €25Th.   \n",
       "20553  Liga 1 - Relegation group  Aug 29, 2020      2020-08-29      €300Th.   \n",
       "26774            Liga Portugal 2  Jul 16, 2020      2020-07-16      €150Th.   \n",
       "11150                2.Lig Beyaz  Sep 15, 2020      2020-09-15       €50Th.   \n",
       "28550                  J1 League   Jan 9, 2021      2021-01-09      €475Th.   \n",
       "835                          NaN   Dec 2, 2020      2020-12-02      €100Th.   \n",
       "36572               Premier Liga   Feb 1, 2021      2021-02-01      €800Th.   \n",
       "28677                 efbet Liga  Jan 15, 2021      2021-01-15      €150Th.   \n",
       "26132           Prva liga Srbije  Jul 14, 2020      2020-07-14      €100Th.   \n",
       "31840               Stars League   Jan 1, 2021      2021-01-01      €500Th.   \n",
       "\n",
       "       market_value_p            fee left_club_country joined_club_country  \\\n",
       "44299           25000  free transfer            Serbia  Bosnia-Herzegovina   \n",
       "20553          300000  free transfer           Belgium             Romania   \n",
       "26774          150000              -          Portugal            Portugal   \n",
       "11150           50000  loan transfer            Turkey              Turkey   \n",
       "28550          475000  free transfer             Japan               Japan   \n",
       "835            100000              -            Turkey                 NaN   \n",
       "36572          800000  free transfer            Russia              Russia   \n",
       "28677          150000  free transfer          Bulgaria            Bulgaria   \n",
       "26132          100000  loan transfer            Serbia              Serbia   \n",
       "31840          500000  loan transfer             Qatar               Qatar   \n",
       "\n",
       "      loan_fee  loan_fee_p           created_at           updated_at  \n",
       "44299      NaN         NaN  2021-11-17 00:14:23  2021-11-17 00:14:23  \n",
       "20553      NaN         NaN  2021-10-04 17:06:58  2021-10-04 17:06:58  \n",
       "26774      NaN         NaN  2021-10-04 17:37:45  2021-10-04 17:37:45  \n",
       "11150      NaN         NaN  2021-10-04 16:38:28  2021-10-04 16:38:28  \n",
       "28550      NaN         NaN  2021-10-24 21:33:37  2021-10-24 21:33:37  \n",
       "835        NaN         NaN  2021-10-04 14:12:27  2021-10-04 14:12:27  \n",
       "36572      NaN         NaN  2021-11-02 12:51:17  2021-11-02 12:51:17  \n",
       "28677      NaN         NaN  2021-10-24 21:33:50  2021-10-24 21:33:50  \n",
       "26132      NaN         NaN  2021-10-04 17:36:50  2021-10-04 17:36:50  \n",
       "31840      NaN         NaN  2021-10-24 21:44:41  2021-10-24 21:44:41  "
      ]
     },
     "execution_count": 40,
     "metadata": {},
     "output_type": "execute_result"
    }
   ],
   "source": [
    "df.sample(10, random_state=1)"
   ]
  },
  {
   "cell_type": "markdown",
   "metadata": {},
   "source": [
    "### Columns Description"
   ]
  },
  {
   "cell_type": "markdown",
   "metadata": {},
   "source": [
    "| Column | Description | Data Type |\n",
    "| --- | ----------- | ------- |\n",
    "| player_id | The player's ID in transfermarkt site | categorical - unique |\n",
    "| name | The player's name | categorical - nominal |\n",
    "| age | The player's age | numerical - discrete |\n",
    "| position | The player's position | categorical - nominal |\n",
    "| national_1 | The player's nationality | categorical - nominal |\n",
    "| national_2 | The player's other nationality | categorical - nominal |\n",
    "| left_club | the player's former club | categorical - nominal |\n",
    "| left_club_league | the player's former club league | categorical - nominal |\n",
    "| left_club_country | the player's former club country | categorical - nominal |\n",
    "| join_club | the player's new club | categorical - nominal |\n",
    "| join_club_league | the player's new club league | categorical - nominal |\n",
    "| join_club_country | the player's new club country | categorical - nominal |\n",
    "| transfer_date | the transfer date | categorical - nominal |\n",
    "| transfer_date_p | the transfer date (parsed) | categorical - date |\n",
    "| market_value | the player's market value | categorical - nominal |\n",
    "| market_value_p | the player's market value (parsed) | numerical - discrete |\n",
    "| fee | - | categorical - nominal |\n",
    "| loan_fee | - | categorical - nominal |\n",
    "| loan_fee_p | - | numerical - discrete |\n",
    "| created_at | the time data created (scraped) | categorical - datetime |\n",
    "| updated_at | the time data edited (after scraped) | categorical - datetime |\n"
   ]
  },
  {
   "cell_type": "markdown",
   "metadata": {},
   "source": [
    "### Data Information"
   ]
  },
  {
   "cell_type": "code",
   "execution_count": 41,
   "metadata": {},
   "outputs": [
    {
     "name": "stdout",
     "output_type": "stream",
     "text": [
      "<class 'pandas.core.frame.DataFrame'>\n",
      "RangeIndex: 45441 entries, 0 to 45440\n",
      "Data columns (total 21 columns):\n",
      " #   Column               Non-Null Count  Dtype  \n",
      "---  ------               --------------  -----  \n",
      " 0   player_id            44388 non-null  float64\n",
      " 1   name                 45441 non-null  object \n",
      " 2   age                  45207 non-null  float64\n",
      " 3   position             45441 non-null  object \n",
      " 4   national_1           45440 non-null  object \n",
      " 5   national_2           6985 non-null   object \n",
      " 6   left_club            44485 non-null  object \n",
      " 7   left_club_league     32805 non-null  object \n",
      " 8   joined_club          43923 non-null  object \n",
      " 9   joined_club_league   31884 non-null  object \n",
      " 10  transfer_date        45441 non-null  object \n",
      " 11  transfer_date_p      45441 non-null  object \n",
      " 12  market_value         45441 non-null  object \n",
      " 13  market_value_p       45441 non-null  int64  \n",
      " 14  fee                  45438 non-null  object \n",
      " 15  left_club_country    41612 non-null  object \n",
      " 16  joined_club_country  41205 non-null  object \n",
      " 17  loan_fee             236 non-null    object \n",
      " 18  loan_fee_p           236 non-null    float64\n",
      " 19  created_at           45441 non-null  object \n",
      " 20  updated_at           45441 non-null  object \n",
      "dtypes: float64(3), int64(1), object(17)\n",
      "memory usage: 7.3+ MB\n"
     ]
    }
   ],
   "source": [
    "df.info()"
   ]
  },
  {
   "cell_type": "markdown",
   "metadata": {},
   "source": [
    "### Transfers Date Range"
   ]
  },
  {
   "cell_type": "code",
   "execution_count": 42,
   "metadata": {},
   "outputs": [
    {
     "name": "stdout",
     "output_type": "stream",
     "text": [
      "from Jul 4, 2020 to Mar 16, 2021\n"
     ]
    }
   ],
   "source": [
    "print(f\"from {df.sort_values(['transfer_date_p']).iloc[[0, -1]].values[0, 10]} to {df.sort_values(['transfer_date_p']).iloc[[0, -1]].values[1, 10]}\")"
   ]
  },
  {
   "cell_type": "markdown",
   "metadata": {},
   "source": [
    "## Preprocessing"
   ]
  },
  {
   "cell_type": "markdown",
   "metadata": {},
   "source": [
    "### Find and Handle Missing Values"
   ]
  },
  {
   "cell_type": "code",
   "execution_count": 43,
   "metadata": {},
   "outputs": [
    {
     "data": {
      "text/html": [
       "<div>\n",
       "<style scoped>\n",
       "    .dataframe tbody tr th:only-of-type {\n",
       "        vertical-align: middle;\n",
       "    }\n",
       "\n",
       "    .dataframe tbody tr th {\n",
       "        vertical-align: top;\n",
       "    }\n",
       "\n",
       "    .dataframe thead th {\n",
       "        text-align: right;\n",
       "    }\n",
       "</style>\n",
       "<table border=\"1\" class=\"dataframe\">\n",
       "  <thead>\n",
       "    <tr style=\"text-align: right;\">\n",
       "      <th></th>\n",
       "      <th>column</th>\n",
       "      <th>missing</th>\n",
       "      <th>percentage</th>\n",
       "    </tr>\n",
       "  </thead>\n",
       "  <tbody>\n",
       "    <tr>\n",
       "      <th>0</th>\n",
       "      <td>player_id</td>\n",
       "      <td>1053</td>\n",
       "      <td>0.02</td>\n",
       "    </tr>\n",
       "    <tr>\n",
       "      <th>1</th>\n",
       "      <td>name</td>\n",
       "      <td>0</td>\n",
       "      <td>0.00</td>\n",
       "    </tr>\n",
       "    <tr>\n",
       "      <th>2</th>\n",
       "      <td>age</td>\n",
       "      <td>234</td>\n",
       "      <td>0.01</td>\n",
       "    </tr>\n",
       "    <tr>\n",
       "      <th>3</th>\n",
       "      <td>position</td>\n",
       "      <td>0</td>\n",
       "      <td>0.00</td>\n",
       "    </tr>\n",
       "    <tr>\n",
       "      <th>4</th>\n",
       "      <td>national_1</td>\n",
       "      <td>1</td>\n",
       "      <td>0.00</td>\n",
       "    </tr>\n",
       "    <tr>\n",
       "      <th>5</th>\n",
       "      <td>national_2</td>\n",
       "      <td>38456</td>\n",
       "      <td>0.85</td>\n",
       "    </tr>\n",
       "    <tr>\n",
       "      <th>6</th>\n",
       "      <td>left_club</td>\n",
       "      <td>956</td>\n",
       "      <td>0.02</td>\n",
       "    </tr>\n",
       "    <tr>\n",
       "      <th>7</th>\n",
       "      <td>left_club_league</td>\n",
       "      <td>12636</td>\n",
       "      <td>0.28</td>\n",
       "    </tr>\n",
       "    <tr>\n",
       "      <th>8</th>\n",
       "      <td>joined_club</td>\n",
       "      <td>1518</td>\n",
       "      <td>0.03</td>\n",
       "    </tr>\n",
       "    <tr>\n",
       "      <th>9</th>\n",
       "      <td>joined_club_league</td>\n",
       "      <td>13557</td>\n",
       "      <td>0.30</td>\n",
       "    </tr>\n",
       "    <tr>\n",
       "      <th>10</th>\n",
       "      <td>transfer_date</td>\n",
       "      <td>0</td>\n",
       "      <td>0.00</td>\n",
       "    </tr>\n",
       "    <tr>\n",
       "      <th>11</th>\n",
       "      <td>transfer_date_p</td>\n",
       "      <td>0</td>\n",
       "      <td>0.00</td>\n",
       "    </tr>\n",
       "    <tr>\n",
       "      <th>12</th>\n",
       "      <td>market_value</td>\n",
       "      <td>0</td>\n",
       "      <td>0.00</td>\n",
       "    </tr>\n",
       "    <tr>\n",
       "      <th>13</th>\n",
       "      <td>market_value_p</td>\n",
       "      <td>0</td>\n",
       "      <td>0.00</td>\n",
       "    </tr>\n",
       "    <tr>\n",
       "      <th>14</th>\n",
       "      <td>fee</td>\n",
       "      <td>3</td>\n",
       "      <td>0.00</td>\n",
       "    </tr>\n",
       "    <tr>\n",
       "      <th>15</th>\n",
       "      <td>left_club_country</td>\n",
       "      <td>3829</td>\n",
       "      <td>0.08</td>\n",
       "    </tr>\n",
       "    <tr>\n",
       "      <th>16</th>\n",
       "      <td>joined_club_country</td>\n",
       "      <td>4236</td>\n",
       "      <td>0.09</td>\n",
       "    </tr>\n",
       "    <tr>\n",
       "      <th>17</th>\n",
       "      <td>loan_fee</td>\n",
       "      <td>45205</td>\n",
       "      <td>0.99</td>\n",
       "    </tr>\n",
       "    <tr>\n",
       "      <th>18</th>\n",
       "      <td>loan_fee_p</td>\n",
       "      <td>45205</td>\n",
       "      <td>0.99</td>\n",
       "    </tr>\n",
       "    <tr>\n",
       "      <th>19</th>\n",
       "      <td>created_at</td>\n",
       "      <td>0</td>\n",
       "      <td>0.00</td>\n",
       "    </tr>\n",
       "    <tr>\n",
       "      <th>20</th>\n",
       "      <td>updated_at</td>\n",
       "      <td>0</td>\n",
       "      <td>0.00</td>\n",
       "    </tr>\n",
       "  </tbody>\n",
       "</table>\n",
       "</div>"
      ],
      "text/plain": [
       "                 column  missing  percentage\n",
       "0             player_id     1053        0.02\n",
       "1                  name        0        0.00\n",
       "2                   age      234        0.01\n",
       "3              position        0        0.00\n",
       "4            national_1        1        0.00\n",
       "5            national_2    38456        0.85\n",
       "6             left_club      956        0.02\n",
       "7      left_club_league    12636        0.28\n",
       "8           joined_club     1518        0.03\n",
       "9    joined_club_league    13557        0.30\n",
       "10        transfer_date        0        0.00\n",
       "11      transfer_date_p        0        0.00\n",
       "12         market_value        0        0.00\n",
       "13       market_value_p        0        0.00\n",
       "14                  fee        3        0.00\n",
       "15    left_club_country     3829        0.08\n",
       "16  joined_club_country     4236        0.09\n",
       "17             loan_fee    45205        0.99\n",
       "18           loan_fee_p    45205        0.99\n",
       "19           created_at        0        0.00\n",
       "20           updated_at        0        0.00"
      ]
     },
     "execution_count": 43,
     "metadata": {},
     "output_type": "execute_result"
    }
   ],
   "source": [
    "idf = df.isna().sum().reset_index().rename({'index': 'column', 0: 'missing'}, axis=1)\n",
    "idf['percentage'] = round(idf['missing'] / df.shape[0], 2)\n",
    "idf"
   ]
  },
  {
   "cell_type": "markdown",
   "metadata": {},
   "source": [
    "- `player_id` is a unique value, we don't need to fill the blank and remove the feature later.\n",
    "- `age` has a little amount of missing data. We could fill them with median value.\n",
    "- `national_1`, `fee` has pieces of missing data. We could drop the value.\n",
    "- `national_2`, `left_club_league`, `joined_club_league`, `loan_fee`, `loan_fee_p` has large amount of missing data. We could remove these features later."
   ]
  },
  {
   "cell_type": "code",
   "execution_count": 44,
   "metadata": {},
   "outputs": [],
   "source": [
    "df['age'].fillna(df['age'].median(), inplace=True)\n",
    "df.dropna(subset=['national_1', 'fee'], inplace=True)"
   ]
  },
  {
   "cell_type": "markdown",
   "metadata": {},
   "source": [
    "### Remove Unnecessary Features"
   ]
  },
  {
   "cell_type": "markdown",
   "metadata": {},
   "source": [
    "`player_id`, `created_at` and `updated_at` are less relevant for analysis. `market_value` and `transfer_date` has the parsed version of the values. So we will remove these features."
   ]
  },
  {
   "cell_type": "code",
   "execution_count": 45,
   "metadata": {},
   "outputs": [],
   "source": [
    "features_tobe_removed = ['player_id', 'market_value', 'transfer_date', 'created_at', 'updated_at', 'national_2', 'loan_fee', 'loan_fee_p']\n",
    "\n",
    "df.drop(features_tobe_removed, axis=1, inplace=True)"
   ]
  },
  {
   "cell_type": "markdown",
   "metadata": {},
   "source": [
    "### Remove Duplication"
   ]
  },
  {
   "cell_type": "code",
   "execution_count": 46,
   "metadata": {},
   "outputs": [
    {
     "name": "stdout",
     "output_type": "stream",
     "text": [
      "before removal: 45437\n",
      "duplicated count: 748\n",
      "after removal: 44689\n"
     ]
    }
   ],
   "source": [
    "print(\"before removal:\", df.shape[0])\n",
    "\n",
    "print(\"duplicated count:\", df.duplicated().sum())\n",
    "df.drop_duplicates(inplace=True)\n",
    "\n",
    "print(\"after removal:\", df.shape[0])"
   ]
  },
  {
   "cell_type": "markdown",
   "metadata": {},
   "source": [
    "### Casting Dtypes"
   ]
  },
  {
   "cell_type": "code",
   "execution_count": 47,
   "metadata": {},
   "outputs": [],
   "source": [
    "df = df.astype({\n",
    "    \"age\": int\n",
    "})"
   ]
  },
  {
   "cell_type": "markdown",
   "metadata": {},
   "source": [
    "### Preprocesed Data Sample"
   ]
  },
  {
   "cell_type": "code",
   "execution_count": 48,
   "metadata": {},
   "outputs": [
    {
     "data": {
      "text/html": [
       "<div>\n",
       "<style scoped>\n",
       "    .dataframe tbody tr th:only-of-type {\n",
       "        vertical-align: middle;\n",
       "    }\n",
       "\n",
       "    .dataframe tbody tr th {\n",
       "        vertical-align: top;\n",
       "    }\n",
       "\n",
       "    .dataframe thead th {\n",
       "        text-align: right;\n",
       "    }\n",
       "</style>\n",
       "<table border=\"1\" class=\"dataframe\">\n",
       "  <thead>\n",
       "    <tr style=\"text-align: right;\">\n",
       "      <th></th>\n",
       "      <th>name</th>\n",
       "      <th>age</th>\n",
       "      <th>position</th>\n",
       "      <th>national_1</th>\n",
       "      <th>left_club</th>\n",
       "      <th>left_club_league</th>\n",
       "      <th>joined_club</th>\n",
       "      <th>joined_club_league</th>\n",
       "      <th>transfer_date_p</th>\n",
       "      <th>market_value_p</th>\n",
       "      <th>fee</th>\n",
       "      <th>left_club_country</th>\n",
       "      <th>joined_club_country</th>\n",
       "    </tr>\n",
       "  </thead>\n",
       "  <tbody>\n",
       "    <tr>\n",
       "      <th>196</th>\n",
       "      <td>Gianluca Reale</td>\n",
       "      <td>19</td>\n",
       "      <td>Centre-Back</td>\n",
       "      <td>Italy</td>\n",
       "      <td>Sorrento</td>\n",
       "      <td>Serie D - H</td>\n",
       "      <td>Puteolana</td>\n",
       "      <td>Serie D - H</td>\n",
       "      <td>2020-12-12</td>\n",
       "      <td>50000</td>\n",
       "      <td>free transfer</td>\n",
       "      <td>Italy</td>\n",
       "      <td>Italy</td>\n",
       "    </tr>\n",
       "    <tr>\n",
       "      <th>24116</th>\n",
       "      <td>Sergey Mosiyan</td>\n",
       "      <td>17</td>\n",
       "      <td>Left Winger</td>\n",
       "      <td>Russia</td>\n",
       "      <td>Khimki 2</td>\n",
       "      <td>FNL-2 Group 3</td>\n",
       "      <td>Khimki II</td>\n",
       "      <td>U19 M-Liga</td>\n",
       "      <td>2020-08-01</td>\n",
       "      <td>25000</td>\n",
       "      <td>-</td>\n",
       "      <td>Russia</td>\n",
       "      <td>Russia</td>\n",
       "    </tr>\n",
       "    <tr>\n",
       "      <th>22099</th>\n",
       "      <td>Firatcan Üzüm</td>\n",
       "      <td>21</td>\n",
       "      <td>Left Winger</td>\n",
       "      <td>Turkey</td>\n",
       "      <td>Trabzonspor</td>\n",
       "      <td>Süper Lig</td>\n",
       "      <td>Trabzonspor U19</td>\n",
       "      <td>U19 Süper Lig</td>\n",
       "      <td>2020-08-04</td>\n",
       "      <td>150000</td>\n",
       "      <td>-</td>\n",
       "      <td>Turkey</td>\n",
       "      <td>Turkey</td>\n",
       "    </tr>\n",
       "    <tr>\n",
       "      <th>41684</th>\n",
       "      <td>Diego García</td>\n",
       "      <td>31</td>\n",
       "      <td>Goalkeeper</td>\n",
       "      <td>Spain</td>\n",
       "      <td>Without Club</td>\n",
       "      <td>NaN</td>\n",
       "      <td>Vestri</td>\n",
       "      <td>Lengjudeild</td>\n",
       "      <td>2021-02-18</td>\n",
       "      <td>150000</td>\n",
       "      <td>-</td>\n",
       "      <td>NaN</td>\n",
       "      <td>Iceland</td>\n",
       "    </tr>\n",
       "    <tr>\n",
       "      <th>23908</th>\n",
       "      <td>Richard Addai</td>\n",
       "      <td>29</td>\n",
       "      <td>Centre-Forward</td>\n",
       "      <td>Ghana</td>\n",
       "      <td>Dreams FC</td>\n",
       "      <td>Premier League</td>\n",
       "      <td>Without Club</td>\n",
       "      <td>NaN</td>\n",
       "      <td>2020-08-01</td>\n",
       "      <td>25000</td>\n",
       "      <td>-</td>\n",
       "      <td>Ghana</td>\n",
       "      <td>NaN</td>\n",
       "    </tr>\n",
       "  </tbody>\n",
       "</table>\n",
       "</div>"
      ],
      "text/plain": [
       "                 name  age        position national_1     left_club  \\\n",
       "196    Gianluca Reale   19     Centre-Back      Italy      Sorrento   \n",
       "24116  Sergey Mosiyan   17     Left Winger     Russia      Khimki 2   \n",
       "22099   Firatcan Üzüm   21     Left Winger     Turkey   Trabzonspor   \n",
       "41684    Diego García   31      Goalkeeper      Spain  Without Club   \n",
       "23908   Richard Addai   29  Centre-Forward      Ghana     Dreams FC   \n",
       "\n",
       "      left_club_league      joined_club joined_club_league transfer_date_p  \\\n",
       "196        Serie D - H        Puteolana        Serie D - H      2020-12-12   \n",
       "24116    FNL-2 Group 3        Khimki II         U19 M-Liga      2020-08-01   \n",
       "22099        Süper Lig  Trabzonspor U19      U19 Süper Lig      2020-08-04   \n",
       "41684              NaN           Vestri        Lengjudeild      2021-02-18   \n",
       "23908   Premier League     Without Club                NaN      2020-08-01   \n",
       "\n",
       "       market_value_p            fee left_club_country joined_club_country  \n",
       "196             50000  free transfer             Italy               Italy  \n",
       "24116           25000              -            Russia              Russia  \n",
       "22099          150000              -            Turkey              Turkey  \n",
       "41684          150000              -               NaN             Iceland  \n",
       "23908           25000              -             Ghana                 NaN  "
      ]
     },
     "execution_count": 48,
     "metadata": {},
     "output_type": "execute_result"
    }
   ],
   "source": [
    "df.sample(5, random_state=1)"
   ]
  },
  {
   "cell_type": "markdown",
   "metadata": {},
   "source": [
    "## Exploratory Data Analysis"
   ]
  },
  {
   "cell_type": "markdown",
   "metadata": {},
   "source": [
    "### Descriptive Statistics"
   ]
  },
  {
   "cell_type": "markdown",
   "metadata": {},
   "source": [
    "#### Numerical"
   ]
  },
  {
   "cell_type": "code",
   "execution_count": 49,
   "metadata": {},
   "outputs": [
    {
     "data": {
      "text/html": [
       "<div>\n",
       "<style scoped>\n",
       "    .dataframe tbody tr th:only-of-type {\n",
       "        vertical-align: middle;\n",
       "    }\n",
       "\n",
       "    .dataframe tbody tr th {\n",
       "        vertical-align: top;\n",
       "    }\n",
       "\n",
       "    .dataframe thead th {\n",
       "        text-align: right;\n",
       "    }\n",
       "</style>\n",
       "<table border=\"1\" class=\"dataframe\">\n",
       "  <thead>\n",
       "    <tr style=\"text-align: right;\">\n",
       "      <th></th>\n",
       "      <th>age</th>\n",
       "      <th>market_value_p</th>\n",
       "    </tr>\n",
       "  </thead>\n",
       "  <tbody>\n",
       "    <tr>\n",
       "      <th>count</th>\n",
       "      <td>44689.000000</td>\n",
       "      <td>4.468900e+04</td>\n",
       "    </tr>\n",
       "    <tr>\n",
       "      <th>mean</th>\n",
       "      <td>25.498736</td>\n",
       "      <td>3.716306e+05</td>\n",
       "    </tr>\n",
       "    <tr>\n",
       "      <th>std</th>\n",
       "      <td>4.665916</td>\n",
       "      <td>1.688889e+06</td>\n",
       "    </tr>\n",
       "    <tr>\n",
       "      <th>min</th>\n",
       "      <td>15.000000</td>\n",
       "      <td>1.000000e+04</td>\n",
       "    </tr>\n",
       "    <tr>\n",
       "      <th>25%</th>\n",
       "      <td>22.000000</td>\n",
       "      <td>5.000000e+04</td>\n",
       "    </tr>\n",
       "    <tr>\n",
       "      <th>50%</th>\n",
       "      <td>25.000000</td>\n",
       "      <td>1.000000e+05</td>\n",
       "    </tr>\n",
       "    <tr>\n",
       "      <th>75%</th>\n",
       "      <td>29.000000</td>\n",
       "      <td>2.500000e+05</td>\n",
       "    </tr>\n",
       "    <tr>\n",
       "      <th>max</th>\n",
       "      <td>45.000000</td>\n",
       "      <td>8.100000e+07</td>\n",
       "    </tr>\n",
       "  </tbody>\n",
       "</table>\n",
       "</div>"
      ],
      "text/plain": [
       "                age  market_value_p\n",
       "count  44689.000000    4.468900e+04\n",
       "mean      25.498736    3.716306e+05\n",
       "std        4.665916    1.688889e+06\n",
       "min       15.000000    1.000000e+04\n",
       "25%       22.000000    5.000000e+04\n",
       "50%       25.000000    1.000000e+05\n",
       "75%       29.000000    2.500000e+05\n",
       "max       45.000000    8.100000e+07"
      ]
     },
     "execution_count": 49,
     "metadata": {},
     "output_type": "execute_result"
    }
   ],
   "source": [
    "df.select_dtypes(include='number').describe()"
   ]
  },
  {
   "cell_type": "markdown",
   "metadata": {},
   "source": [
    "#### Categorical"
   ]
  },
  {
   "cell_type": "code",
   "execution_count": 50,
   "metadata": {},
   "outputs": [
    {
     "data": {
      "text/html": [
       "<div>\n",
       "<style scoped>\n",
       "    .dataframe tbody tr th:only-of-type {\n",
       "        vertical-align: middle;\n",
       "    }\n",
       "\n",
       "    .dataframe tbody tr th {\n",
       "        vertical-align: top;\n",
       "    }\n",
       "\n",
       "    .dataframe thead th {\n",
       "        text-align: right;\n",
       "    }\n",
       "</style>\n",
       "<table border=\"1\" class=\"dataframe\">\n",
       "  <thead>\n",
       "    <tr style=\"text-align: right;\">\n",
       "      <th></th>\n",
       "      <th>name</th>\n",
       "      <th>position</th>\n",
       "      <th>national_1</th>\n",
       "      <th>left_club</th>\n",
       "      <th>left_club_league</th>\n",
       "      <th>joined_club</th>\n",
       "      <th>joined_club_league</th>\n",
       "      <th>transfer_date_p</th>\n",
       "      <th>fee</th>\n",
       "      <th>left_club_country</th>\n",
       "      <th>joined_club_country</th>\n",
       "    </tr>\n",
       "  </thead>\n",
       "  <tbody>\n",
       "    <tr>\n",
       "      <th>count</th>\n",
       "      <td>44689</td>\n",
       "      <td>44689</td>\n",
       "      <td>44689</td>\n",
       "      <td>43923</td>\n",
       "      <td>32184</td>\n",
       "      <td>43369</td>\n",
       "      <td>31253</td>\n",
       "      <td>44689</td>\n",
       "      <td>44689</td>\n",
       "      <td>40886</td>\n",
       "      <td>40458</td>\n",
       "    </tr>\n",
       "    <tr>\n",
       "      <th>unique</th>\n",
       "      <td>37738</td>\n",
       "      <td>16</td>\n",
       "      <td>202</td>\n",
       "      <td>6784</td>\n",
       "      <td>322</td>\n",
       "      <td>7258</td>\n",
       "      <td>340</td>\n",
       "      <td>256</td>\n",
       "      <td>393</td>\n",
       "      <td>160</td>\n",
       "      <td>164</td>\n",
       "    </tr>\n",
       "    <tr>\n",
       "      <th>top</th>\n",
       "      <td>Dudu</td>\n",
       "      <td>Centre-Forward</td>\n",
       "      <td>Italy</td>\n",
       "      <td>Without Club</td>\n",
       "      <td>Premier League</td>\n",
       "      <td>Without Club</td>\n",
       "      <td>Premier League</td>\n",
       "      <td>2020-08-01</td>\n",
       "      <td>free transfer</td>\n",
       "      <td>Italy</td>\n",
       "      <td>Italy</td>\n",
       "    </tr>\n",
       "    <tr>\n",
       "      <th>freq</th>\n",
       "      <td>14</td>\n",
       "      <td>7123</td>\n",
       "      <td>3989</td>\n",
       "      <td>3483</td>\n",
       "      <td>933</td>\n",
       "      <td>3298</td>\n",
       "      <td>726</td>\n",
       "      <td>2062</td>\n",
       "      <td>22601</td>\n",
       "      <td>4395</td>\n",
       "      <td>4509</td>\n",
       "    </tr>\n",
       "  </tbody>\n",
       "</table>\n",
       "</div>"
      ],
      "text/plain": [
       "         name        position national_1     left_club left_club_league  \\\n",
       "count   44689           44689      44689         43923            32184   \n",
       "unique  37738              16        202          6784              322   \n",
       "top      Dudu  Centre-Forward      Italy  Without Club   Premier League   \n",
       "freq       14            7123       3989          3483              933   \n",
       "\n",
       "         joined_club joined_club_league transfer_date_p            fee  \\\n",
       "count          43369              31253           44689          44689   \n",
       "unique          7258                340             256            393   \n",
       "top     Without Club     Premier League      2020-08-01  free transfer   \n",
       "freq            3298                726            2062          22601   \n",
       "\n",
       "       left_club_country joined_club_country  \n",
       "count              40886               40458  \n",
       "unique               160                 164  \n",
       "top                Italy               Italy  \n",
       "freq                4395                4509  "
      ]
     },
     "execution_count": 50,
     "metadata": {},
     "output_type": "execute_result"
    }
   ],
   "source": [
    "df.select_dtypes(exclude='number').describe()"
   ]
  },
  {
   "cell_type": "markdown",
   "metadata": {},
   "source": [
    "### Univariate Analysis"
   ]
  },
  {
   "cell_type": "markdown",
   "metadata": {},
   "source": [
    "#### Distribution Plot of Numerical Features"
   ]
  },
  {
   "cell_type": "code",
   "execution_count": 51,
   "metadata": {},
   "outputs": [
    {
     "data": {
      "image/png": "[encoded data removed]",
      "text/plain": [
       "<Figure size 1296x360 with 2 Axes>"
      ]
     },
     "metadata": {
      "needs_background": "light"
     },
     "output_type": "display_data"
    }
   ],
   "source": [
    "idf = df.select_dtypes(include='number')\n",
    "cols = idf.columns.to_list()\n",
    "\n",
    "plt.figure(figsize=(18, 5))\n",
    "for index in range(0, len(cols)):\n",
    "    plt.subplot(1, len(cols), index+1)\n",
    "    sns.boxplot(y=df[cols[index]], color='teal', orient='v')\n",
    "    plt.ylabel(cols[index], fontsize='16', labelpad=10)\n",
    "    plt.tight_layout()\n",
    "\n",
    "plt.show();\n"
   ]
  },
  {
   "cell_type": "markdown",
   "metadata": {},
   "source": [
    "#### Count Plot For Categorical Features"
   ]
  },
  {
   "cell_type": "code",
   "execution_count": 83,
   "metadata": {},
   "outputs": [
    {
     "data": {
      "image/png": "[encoded data removed]",
      "text/plain": [
       "<Figure size 1296x576 with 1 Axes>"
      ]
     },
     "metadata": {
      "needs_background": "light"
     },
     "output_type": "display_data"
    }
   ],
   "source": [
    "plt.figure(figsize=(18,8))\n",
    "df['position'].value_counts(ascending=True).plot(kind=\"barh\")\n",
    "plt.show();"
   ]
  },
  {
   "cell_type": "markdown",
   "metadata": {},
   "source": [
    "### Multivariate Analysis"
   ]
  },
  {
   "cell_type": "markdown",
   "metadata": {},
   "source": [
    "#### Correlation Heatmap"
   ]
  },
  {
   "cell_type": "code",
   "execution_count": 53,
   "metadata": {},
   "outputs": [
    {
     "data": {
      "image/png": "[encoded data removed]",
      "text/plain": [
       "<Figure size 1440x720 with 2 Axes>"
      ]
     },
     "metadata": {
      "needs_background": "light"
     },
     "output_type": "display_data"
    }
   ],
   "source": [
    "# label encoding for heatmap\n",
    "edf = df.copy()\n",
    "for feature in edf.select_dtypes(include='object').columns.tolist():\n",
    "    edf[feature] = edf[feature].astype('category').cat.codes\n",
    "\n",
    "plt.figure(figsize=(20, 10))\n",
    "sns.heatmap(edf.corr(), cmap='Blues', annot=True, fmt='.2f')\n",
    "plt.show();\n"
   ]
  },
  {
   "cell_type": "markdown",
   "metadata": {},
   "source": [
    "#### Pairplot"
   ]
  },
  {
   "cell_type": "markdown",
   "metadata": {},
   "source": [
    "### Insights"
   ]
  },
  {
   "cell_type": "code",
   "execution_count": 55,
   "metadata": {},
   "outputs": [
    {
     "data": {
      "image/png": "[encoded data removed]",
      "text/plain": [
       "<Figure size 720x360 with 1 Axes>"
      ]
     },
     "metadata": {
      "needs_background": "light"
     },
     "output_type": "display_data"
    }
   ],
   "source": [
    "idf = df.groupby('national_1').agg({'market_value_p': 'sum'}).sort_values('market_value_p', ascending=False).reset_index().head(10)\n",
    "\n",
    "plt.figure(figsize=(10, 5))\n",
    "sns.barplot(x='national_1', y='market_value_p', data=idf)\n",
    "plt.ylabel('Market Value Summary')\n",
    "plt.xlabel('Nationality')\n",
    "plt.show();"
   ]
  },
  {
   "cell_type": "markdown",
   "metadata": {},
   "source": [
    "#### Most Valueable League by Player Transfers"
   ]
  },
  {
   "cell_type": "code",
   "execution_count": 56,
   "metadata": {},
   "outputs": [
    {
     "data": {
      "image/png": "[encoded data removed]",
      "text/plain": [
       "<Figure size 1080x360 with 1 Axes>"
      ]
     },
     "metadata": {
      "needs_background": "light"
     },
     "output_type": "display_data"
    }
   ],
   "source": [
    "idfl = df.groupby('left_club_league').agg({'market_value_p': 'sum'}).sort_values('market_value_p', ascending=False).reset_index()\n",
    "idfl = idfl.rename(columns={'left_club_league': 'league','market_value_p': 'out_value'})\n",
    "\n",
    "idfr = df.groupby('joined_club_league').agg({'market_value_p': 'sum'}).sort_values('market_value_p', ascending=False).reset_index()\n",
    "idfr = idfr.rename(columns={'joined_club_league': 'league', 'market_value_p': 'in_value'})\n",
    "\n",
    "idf = idfl.merge(idfr, on='league')\n",
    "idf['diff_value'] = idf['in_value'] - idf['out_value']\n",
    "idf = idf.sort_values(['diff_value'], ascending=False).head(10)\n",
    "\n",
    "plt.figure(figsize=(15, 5))\n",
    "sns.barplot(x='diff_value', y='league', data=idf)\n",
    "plt.ylabel('League')\n",
    "plt.xlabel('Value')\n",
    "plt.show();\n"
   ]
  },
  {
   "cell_type": "markdown",
   "metadata": {},
   "source": [
    "#### Most Valueable Club by Player Transfers"
   ]
  },
  {
   "cell_type": "code",
   "execution_count": 57,
   "metadata": {},
   "outputs": [
    {
     "data": {
      "image/png": "[encoded data removed]",
      "text/plain": [
       "<Figure size 1080x360 with 1 Axes>"
      ]
     },
     "metadata": {
      "needs_background": "light"
     },
     "output_type": "display_data"
    }
   ],
   "source": [
    "idfl = df.groupby('left_club').agg({'market_value_p': 'sum'}).sort_values('market_value_p', ascending=False).reset_index()\n",
    "idfl = idfl.rename(columns={'left_club': 'club','market_value_p': 'out_value'})\n",
    "idfl\n",
    "\n",
    "idfr = df.groupby('joined_club').agg({'market_value_p': 'sum'}).sort_values('market_value_p', ascending=False).reset_index()\n",
    "idfr = idfr.rename(columns={'joined_club': 'club', 'market_value_p': 'in_value'})\n",
    "idfr\n",
    "\n",
    "idf = idfl.merge(idfr, on='club')\n",
    "idf['diff_value'] = idf['in_value'] - idf['out_value']\n",
    "idf = idf.sort_values(['diff_value'], ascending=False).head(10)\n",
    "idf\n",
    "\n",
    "plt.figure(figsize=(15, 5))\n",
    "sns.barplot(x='diff_value', y='club', data=idf)\n",
    "plt.ylabel('Club')\n",
    "plt.xlabel('Value')\n",
    "plt.show();\n"
   ]
  },
  {
   "cell_type": "markdown",
   "metadata": {},
   "source": [
    "#### Most Valueable Country by Player Transfers"
   ]
  },
  {
   "cell_type": "code",
   "execution_count": 58,
   "metadata": {},
   "outputs": [
    {
     "data": {
      "image/png": "[encoded data removed]",
      "text/plain": [
       "<Figure size 1080x360 with 1 Axes>"
      ]
     },
     "metadata": {
      "needs_background": "light"
     },
     "output_type": "display_data"
    }
   ],
   "source": [
    "idfl = df.groupby('left_club_country').agg({'market_value_p': 'sum'}).sort_values('market_value_p', ascending=False).reset_index()\n",
    "idfl = idfl.rename(columns={'left_club_country': 'country','market_value_p': 'out_value'})\n",
    "idfl\n",
    "\n",
    "idfr = df.groupby('joined_club_country').agg({'market_value_p': 'sum'}).sort_values('market_value_p', ascending=False).reset_index()\n",
    "idfr = idfr.rename(columns={'joined_club_country': 'country', 'market_value_p': 'in_value'})\n",
    "idfr\n",
    "\n",
    "idf = idfl.merge(idfr, on='country')\n",
    "idf['diff_value'] = idf['in_value'] - idf['out_value']\n",
    "idf = idf.sort_values(['diff_value'], ascending=False).head(10)\n",
    "idf\n",
    "\n",
    "plt.figure(figsize=(15, 5))\n",
    "sns.barplot(x='diff_value', y='country', data=idf)\n",
    "plt.ylabel('Country')\n",
    "plt.xlabel('Value')\n",
    "plt.show();\n"
   ]
  },
  {
   "cell_type": "markdown",
   "metadata": {},
   "source": [
    "#### Top Transfers"
   ]
  },
  {
   "cell_type": "code",
   "execution_count": 59,
   "metadata": {},
   "outputs": [
    {
     "data": {
      "image/png": "[encoded data removed]",
      "text/plain": [
       "<Figure size 1080x576 with 1 Axes>"
      ]
     },
     "metadata": {
      "needs_background": "light"
     },
     "output_type": "display_data"
    }
   ],
   "source": [
    "# TODO\n",
    "idf = df.sort_values('market_value_p', ascending=False).head(10)\n",
    "idf['name_club'] = idf['name'] + \" (\" + idf['joined_club'] + \")\"\n",
    "\n",
    "plt.figure(figsize=(15, 8))\n",
    "sns.barplot(x='market_value_p', y='name_club', data=idf)\n",
    "plt.ylabel('Player')\n",
    "plt.xlabel('Market Value')\n",
    "plt.show();\n"
   ]
  }
 ],
 "metadata": {
  "interpreter": {
   "hash": "fc7c798429ebac561b92ee2fcc9a6637543e2bbac22a4a6dbaa9a56fd1244998"
  },
  "kernelspec": {
   "display_name": "Python 3.8.5 64-bit ('base': conda)",
   "name": "python3"
  },
  "language_info": {
   "codemirror_mode": {
    "name": "ipython",
    "version": 3
   },
   "file_extension": ".py",
   "mimetype": "text/x-python",
   "name": "python",
   "nbconvert_exporter": "python",
   "pygments_lexer": "ipython3",
   "version": "3.8.5"
  },
  "orig_nbformat": 4
 },
 "nbformat": 4,
 "nbformat_minor": 2
}
