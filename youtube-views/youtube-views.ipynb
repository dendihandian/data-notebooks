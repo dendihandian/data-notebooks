{
 "cells": [
  {
   "cell_type": "markdown",
   "metadata": {},
   "source": [
    "# Trending Youtube Video Statistics"
   ]
  },
  {
   "cell_type": "markdown",
   "metadata": {},
   "source": [
    "The dataset was taken from [https://www.kaggle.com/datasnaek/youtube-new?select=USvideos.csv](https://www.kaggle.com/datasnaek/youtube-new?select=USvideos.csv)"
   ]
  },
  {
   "cell_type": "markdown",
   "metadata": {},
   "source": [
    "## Preparation"
   ]
  },
  {
   "cell_type": "markdown",
   "metadata": {},
   "source": [
    "### Import Libraries"
   ]
  },
  {
   "cell_type": "code",
   "execution_count": 29,
   "metadata": {},
   "outputs": [
    {
     "name": "stdout",
     "output_type": "stream",
     "text": [
      "python version:  3.9.7 (default, Sep 16 2021, 16:59:28) [MSC v.1916 64 bit (AMD64)]\n",
      "numpy version:  1.20.3\n",
      "pandas version:  1.3.4\n",
      "seaborn version:  0.11.2\n",
      "last run:  2021-12-29 01:58:23\n"
     ]
    }
   ],
   "source": [
    "import matplotlib.pyplot as plt\n",
    "import numpy as np\n",
    "import pandas as pd\n",
    "import seaborn as sns\n",
    "import datetime\n",
    "import sys\n",
    "import warnings\n",
    "import pickle\n",
    "\n",
    "from IPython.core.interactiveshell import InteractiveShell\n",
    "from sklearn import preprocessing\n",
    "from sklearn.metrics import accuracy_score, precision_score, recall_score, f1_score\n",
    "from sklearn.metrics import roc_curve, auc\n",
    "\n",
    "pd.set_option('display.max_columns', None)\n",
    "InteractiveShell.ast_node_interactivity = \"all\"\n",
    "warnings.filterwarnings('ignore')\n",
    "\n",
    "print(\"python version: \", sys.version)\n",
    "print(\"numpy version: \", np.__version__)\n",
    "print(\"pandas version: \", pd.__version__)\n",
    "print(\"seaborn version: \", sns.__version__)\n",
    "\n",
    "print(\"last run: \", datetime.datetime.now().strftime(\"%Y-%m-%d %H:%M:%S\"))"
   ]
  },
  {
   "cell_type": "markdown",
   "metadata": {},
   "source": [
    "### Loading Dataset"
   ]
  },
  {
   "cell_type": "code",
   "execution_count": 30,
   "metadata": {},
   "outputs": [],
   "source": [
    "df = pd.read_csv('USvideos.csv')\n",
    "\n",
    "# developer-friendly column names and format\n",
    "df.columns = [x.lower().replace('-', '_').replace(' ', '_') for x in df.columns.to_list()]"
   ]
  },
  {
   "cell_type": "markdown",
   "metadata": {},
   "source": [
    "### Variables and Functions"
   ]
  },
  {
   "cell_type": "code",
   "execution_count": 31,
   "metadata": {},
   "outputs": [],
   "source": [
    "binary_pallete = ['#EF4444', '#10B981']"
   ]
  },
  {
   "cell_type": "markdown",
   "metadata": {},
   "source": [
    "## Data Information & Description"
   ]
  },
  {
   "cell_type": "markdown",
   "metadata": {},
   "source": [
    "### Data Sample"
   ]
  },
  {
   "cell_type": "code",
   "execution_count": 32,
   "metadata": {},
   "outputs": [
    {
     "data": {
      "text/html": [
       "<div>\n",
       "<style scoped>\n",
       "    .dataframe tbody tr th:only-of-type {\n",
       "        vertical-align: middle;\n",
       "    }\n",
       "\n",
       "    .dataframe tbody tr th {\n",
       "        vertical-align: top;\n",
       "    }\n",
       "\n",
       "    .dataframe thead th {\n",
       "        text-align: right;\n",
       "    }\n",
       "</style>\n",
       "<table border=\"1\" class=\"dataframe\">\n",
       "  <thead>\n",
       "    <tr style=\"text-align: right;\">\n",
       "      <th></th>\n",
       "      <th>video_id</th>\n",
       "      <th>trending_date</th>\n",
       "      <th>title</th>\n",
       "      <th>channel_title</th>\n",
       "      <th>category_id</th>\n",
       "      <th>publish_time</th>\n",
       "      <th>tags</th>\n",
       "      <th>views</th>\n",
       "      <th>likes</th>\n",
       "      <th>dislikes</th>\n",
       "      <th>comment_count</th>\n",
       "      <th>thumbnail_link</th>\n",
       "      <th>comments_disabled</th>\n",
       "      <th>ratings_disabled</th>\n",
       "      <th>video_error_or_removed</th>\n",
       "      <th>description</th>\n",
       "    </tr>\n",
       "  </thead>\n",
       "  <tbody>\n",
       "    <tr>\n",
       "      <th>22745</th>\n",
       "      <td>00RpZZThSAs</td>\n",
       "      <td>18.09.03</td>\n",
       "      <td>How Good is McDonald's New Szechuan Sauce?</td>\n",
       "      <td>TheReportOfTheWeek</td>\n",
       "      <td>24</td>\n",
       "      <td>2018-02-26T16:44:55.000Z</td>\n",
       "      <td>szechuan|\"szechuan sauce\"|\"rick and morty\"|\"mc...</td>\n",
       "      <td>1198888</td>\n",
       "      <td>37595</td>\n",
       "      <td>2794</td>\n",
       "      <td>6941</td>\n",
       "      <td>https://i.ytimg.com/vi/00RpZZThSAs/default.jpg</td>\n",
       "      <td>False</td>\n",
       "      <td>False</td>\n",
       "      <td>False</td>\n",
       "      <td>Trying out the new Szechuan Sauce from McDonal...</td>\n",
       "    </tr>\n",
       "    <tr>\n",
       "      <th>33187</th>\n",
       "      <td>1Aoc-cd9eYs</td>\n",
       "      <td>18.07.05</td>\n",
       "      <td>Cobra Kai Ep 2 - Strike First - The Karate Kid...</td>\n",
       "      <td>Cobra Kai</td>\n",
       "      <td>24</td>\n",
       "      <td>2018-05-02T16:02:35.000Z</td>\n",
       "      <td>Cobra Kai|\"Karate Kid\"|\"YouTube Red Original S...</td>\n",
       "      <td>672609</td>\n",
       "      <td>4916</td>\n",
       "      <td>197</td>\n",
       "      <td>1269</td>\n",
       "      <td>https://i.ytimg.com/vi/1Aoc-cd9eYs/default.jpg</td>\n",
       "      <td>False</td>\n",
       "      <td>False</td>\n",
       "      <td>True</td>\n",
       "      <td>Present day Daniel LaRusso lives a charmed lif...</td>\n",
       "    </tr>\n",
       "    <tr>\n",
       "      <th>12833</th>\n",
       "      <td>_zu53yAoTJE</td>\n",
       "      <td>18.19.01</td>\n",
       "      <td>U2 - Get Out Of Your Own Way (Official Video)</td>\n",
       "      <td>U2VEVO</td>\n",
       "      <td>10</td>\n",
       "      <td>2018-01-18T16:00:02.000Z</td>\n",
       "      <td>U2|\"Get\"|\"Out\"|\"Of\"|\"Your\"|\"Own\"|\"Way\"|\"Island...</td>\n",
       "      <td>134003</td>\n",
       "      <td>5430</td>\n",
       "      <td>1601</td>\n",
       "      <td>1427</td>\n",
       "      <td>https://i.ytimg.com/vi/_zu53yAoTJE/default.jpg</td>\n",
       "      <td>False</td>\n",
       "      <td>False</td>\n",
       "      <td>False</td>\n",
       "      <td>'Get Out Of Your Own Way’ from the new album ‘...</td>\n",
       "    </tr>\n",
       "    <tr>\n",
       "      <th>25194</th>\n",
       "      <td>EL1wN_ihL_E</td>\n",
       "      <td>18.22.03</td>\n",
       "      <td>Jurassic Park Auditions - SNL</td>\n",
       "      <td>Saturday Night Live</td>\n",
       "      <td>24</td>\n",
       "      <td>2018-03-18T11:16:05.000Z</td>\n",
       "      <td>bill hader|\"snl\"|\"s43\"|\"s43e16\"|\"episode 16\"|\"...</td>\n",
       "      <td>2181976</td>\n",
       "      <td>32457</td>\n",
       "      <td>1420</td>\n",
       "      <td>1349</td>\n",
       "      <td>https://i.ytimg.com/vi/EL1wN_ihL_E/default.jpg</td>\n",
       "      <td>False</td>\n",
       "      <td>False</td>\n",
       "      <td>False</td>\n",
       "      <td>Hugh Grant (Alex Moffat), Alan Alda (Bill Hade...</td>\n",
       "    </tr>\n",
       "    <tr>\n",
       "      <th>7802</th>\n",
       "      <td>cMD63TwzB1o</td>\n",
       "      <td>17.23.12</td>\n",
       "      <td>SZA - The Weekend (Official Video)</td>\n",
       "      <td>SZAVEVO</td>\n",
       "      <td>10</td>\n",
       "      <td>2017-12-22T05:00:01.000Z</td>\n",
       "      <td>R&amp;B|\"SZA\"|\"The Weekend\"|\"Top Dawg Entertainmen...</td>\n",
       "      <td>1292926</td>\n",
       "      <td>77746</td>\n",
       "      <td>6945</td>\n",
       "      <td>11701</td>\n",
       "      <td>https://i.ytimg.com/vi/cMD63TwzB1o/default.jpg</td>\n",
       "      <td>False</td>\n",
       "      <td>False</td>\n",
       "      <td>False</td>\n",
       "      <td>SZA's CTRL available on:\\nApple Music - http:/...</td>\n",
       "    </tr>\n",
       "  </tbody>\n",
       "</table>\n",
       "</div>"
      ],
      "text/plain": [
       "          video_id trending_date  \\\n",
       "22745  00RpZZThSAs      18.09.03   \n",
       "33187  1Aoc-cd9eYs      18.07.05   \n",
       "12833  _zu53yAoTJE      18.19.01   \n",
       "25194  EL1wN_ihL_E      18.22.03   \n",
       "7802   cMD63TwzB1o      17.23.12   \n",
       "\n",
       "                                                   title        channel_title  \\\n",
       "22745         How Good is McDonald's New Szechuan Sauce?   TheReportOfTheWeek   \n",
       "33187  Cobra Kai Ep 2 - Strike First - The Karate Kid...            Cobra Kai   \n",
       "12833      U2 - Get Out Of Your Own Way (Official Video)               U2VEVO   \n",
       "25194                      Jurassic Park Auditions - SNL  Saturday Night Live   \n",
       "7802                  SZA - The Weekend (Official Video)              SZAVEVO   \n",
       "\n",
       "       category_id              publish_time  \\\n",
       "22745           24  2018-02-26T16:44:55.000Z   \n",
       "33187           24  2018-05-02T16:02:35.000Z   \n",
       "12833           10  2018-01-18T16:00:02.000Z   \n",
       "25194           24  2018-03-18T11:16:05.000Z   \n",
       "7802            10  2017-12-22T05:00:01.000Z   \n",
       "\n",
       "                                                    tags    views  likes  \\\n",
       "22745  szechuan|\"szechuan sauce\"|\"rick and morty\"|\"mc...  1198888  37595   \n",
       "33187  Cobra Kai|\"Karate Kid\"|\"YouTube Red Original S...   672609   4916   \n",
       "12833  U2|\"Get\"|\"Out\"|\"Of\"|\"Your\"|\"Own\"|\"Way\"|\"Island...   134003   5430   \n",
       "25194  bill hader|\"snl\"|\"s43\"|\"s43e16\"|\"episode 16\"|\"...  2181976  32457   \n",
       "7802   R&B|\"SZA\"|\"The Weekend\"|\"Top Dawg Entertainmen...  1292926  77746   \n",
       "\n",
       "       dislikes  comment_count  \\\n",
       "22745      2794           6941   \n",
       "33187       197           1269   \n",
       "12833      1601           1427   \n",
       "25194      1420           1349   \n",
       "7802       6945          11701   \n",
       "\n",
       "                                       thumbnail_link  comments_disabled  \\\n",
       "22745  https://i.ytimg.com/vi/00RpZZThSAs/default.jpg              False   \n",
       "33187  https://i.ytimg.com/vi/1Aoc-cd9eYs/default.jpg              False   \n",
       "12833  https://i.ytimg.com/vi/_zu53yAoTJE/default.jpg              False   \n",
       "25194  https://i.ytimg.com/vi/EL1wN_ihL_E/default.jpg              False   \n",
       "7802   https://i.ytimg.com/vi/cMD63TwzB1o/default.jpg              False   \n",
       "\n",
       "       ratings_disabled  video_error_or_removed  \\\n",
       "22745             False                   False   \n",
       "33187             False                    True   \n",
       "12833             False                   False   \n",
       "25194             False                   False   \n",
       "7802              False                   False   \n",
       "\n",
       "                                             description  \n",
       "22745  Trying out the new Szechuan Sauce from McDonal...  \n",
       "33187  Present day Daniel LaRusso lives a charmed lif...  \n",
       "12833  'Get Out Of Your Own Way’ from the new album ‘...  \n",
       "25194  Hugh Grant (Alex Moffat), Alan Alda (Bill Hade...  \n",
       "7802   SZA's CTRL available on:\\nApple Music - http:/...  "
      ]
     },
     "execution_count": 32,
     "metadata": {},
     "output_type": "execute_result"
    }
   ],
   "source": [
    "df.sample(5, random_state=1)"
   ]
  },
  {
   "cell_type": "markdown",
   "metadata": {},
   "source": [
    "### Columns Description"
   ]
  },
  {
   "cell_type": "markdown",
   "metadata": {},
   "source": [
    "### Data Information"
   ]
  },
  {
   "cell_type": "code",
   "execution_count": 33,
   "metadata": {},
   "outputs": [
    {
     "name": "stdout",
     "output_type": "stream",
     "text": [
      "<class 'pandas.core.frame.DataFrame'>\n",
      "RangeIndex: 40949 entries, 0 to 40948\n",
      "Data columns (total 16 columns):\n",
      " #   Column                  Non-Null Count  Dtype \n",
      "---  ------                  --------------  ----- \n",
      " 0   video_id                40949 non-null  object\n",
      " 1   trending_date           40949 non-null  object\n",
      " 2   title                   40949 non-null  object\n",
      " 3   channel_title           40949 non-null  object\n",
      " 4   category_id             40949 non-null  int64 \n",
      " 5   publish_time            40949 non-null  object\n",
      " 6   tags                    40949 non-null  object\n",
      " 7   views                   40949 non-null  int64 \n",
      " 8   likes                   40949 non-null  int64 \n",
      " 9   dislikes                40949 non-null  int64 \n",
      " 10  comment_count           40949 non-null  int64 \n",
      " 11  thumbnail_link          40949 non-null  object\n",
      " 12  comments_disabled       40949 non-null  bool  \n",
      " 13  ratings_disabled        40949 non-null  bool  \n",
      " 14  video_error_or_removed  40949 non-null  bool  \n",
      " 15  description             40379 non-null  object\n",
      "dtypes: bool(3), int64(5), object(8)\n",
      "memory usage: 4.2+ MB\n"
     ]
    }
   ],
   "source": [
    "df.info()"
   ]
  },
  {
   "cell_type": "markdown",
   "metadata": {},
   "source": [
    "- Only `description` feature that has missing values"
   ]
  },
  {
   "cell_type": "markdown",
   "metadata": {},
   "source": [
    "## Preprocessing"
   ]
  },
  {
   "cell_type": "markdown",
   "metadata": {},
   "source": [
    "### Removing Unnecessary Features"
   ]
  },
  {
   "cell_type": "code",
   "execution_count": 34,
   "metadata": {},
   "outputs": [],
   "source": [
    "df.drop(['video_id', 'thumbnail_link', 'description'], axis=1, inplace=True)"
   ]
  },
  {
   "cell_type": "markdown",
   "metadata": {},
   "source": [
    "### Removing Duplicated Data"
   ]
  },
  {
   "cell_type": "code",
   "execution_count": 35,
   "metadata": {},
   "outputs": [
    {
     "name": "stdout",
     "output_type": "stream",
     "text": [
      "before removal: 40949\n",
      "duplicated count: 48\n",
      "after removal: 40901\n"
     ]
    }
   ],
   "source": [
    "print(\"before removal:\", df.shape[0])\n",
    "\n",
    "print(\"duplicated count:\", df.duplicated().sum())\n",
    "df.drop_duplicates(inplace=True)\n",
    "\n",
    "print(\"after removal:\", df.shape[0])"
   ]
  },
  {
   "cell_type": "markdown",
   "metadata": {},
   "source": [
    "### Preprocessing Result"
   ]
  },
  {
   "cell_type": "code",
   "execution_count": 36,
   "metadata": {},
   "outputs": [
    {
     "data": {
      "text/html": [
       "<div>\n",
       "<style scoped>\n",
       "    .dataframe tbody tr th:only-of-type {\n",
       "        vertical-align: middle;\n",
       "    }\n",
       "\n",
       "    .dataframe tbody tr th {\n",
       "        vertical-align: top;\n",
       "    }\n",
       "\n",
       "    .dataframe thead th {\n",
       "        text-align: right;\n",
       "    }\n",
       "</style>\n",
       "<table border=\"1\" class=\"dataframe\">\n",
       "  <thead>\n",
       "    <tr style=\"text-align: right;\">\n",
       "      <th></th>\n",
       "      <th>trending_date</th>\n",
       "      <th>title</th>\n",
       "      <th>channel_title</th>\n",
       "      <th>category_id</th>\n",
       "      <th>publish_time</th>\n",
       "      <th>tags</th>\n",
       "      <th>views</th>\n",
       "      <th>likes</th>\n",
       "      <th>dislikes</th>\n",
       "      <th>comment_count</th>\n",
       "      <th>comments_disabled</th>\n",
       "      <th>ratings_disabled</th>\n",
       "      <th>video_error_or_removed</th>\n",
       "    </tr>\n",
       "  </thead>\n",
       "  <tbody>\n",
       "    <tr>\n",
       "      <th>34596</th>\n",
       "      <td>18.14.05</td>\n",
       "      <td>Enrique Iglesias - MOVE TO MIAMI (Lyric Video)...</td>\n",
       "      <td>EnriqueIglesiasVEVO</td>\n",
       "      <td>10</td>\n",
       "      <td>2018-05-03T12:00:01.000Z</td>\n",
       "      <td>Enrique Iglesias feat. Pitbull|\"Latin\"|\"MOVE T...</td>\n",
       "      <td>3424478</td>\n",
       "      <td>79048</td>\n",
       "      <td>3650</td>\n",
       "      <td>4037</td>\n",
       "      <td>False</td>\n",
       "      <td>False</td>\n",
       "      <td>False</td>\n",
       "    </tr>\n",
       "    <tr>\n",
       "      <th>32326</th>\n",
       "      <td>18.02.05</td>\n",
       "      <td>I LOST $10,000 twice</td>\n",
       "      <td>itsAlexClark</td>\n",
       "      <td>1</td>\n",
       "      <td>2018-04-18T22:00:00.000Z</td>\n",
       "      <td>its alex clark|\"itsalexclark\"|\"alex clark\"|\"it...</td>\n",
       "      <td>1205222</td>\n",
       "      <td>30241</td>\n",
       "      <td>3031</td>\n",
       "      <td>4649</td>\n",
       "      <td>False</td>\n",
       "      <td>False</td>\n",
       "      <td>False</td>\n",
       "    </tr>\n",
       "    <tr>\n",
       "      <th>33208</th>\n",
       "      <td>18.07.05</td>\n",
       "      <td>How to pick up a cat like a pro - Vet advice o...</td>\n",
       "      <td>Helpful Vancouver Vet</td>\n",
       "      <td>15</td>\n",
       "      <td>2018-05-01T23:13:42.000Z</td>\n",
       "      <td>Cat|\"cats\"|\"cat handling\"|\"cat safety\"|\"cute\"|...</td>\n",
       "      <td>2199352</td>\n",
       "      <td>71653</td>\n",
       "      <td>1758</td>\n",
       "      <td>6891</td>\n",
       "      <td>False</td>\n",
       "      <td>False</td>\n",
       "      <td>False</td>\n",
       "    </tr>\n",
       "    <tr>\n",
       "      <th>30233</th>\n",
       "      <td>18.22.04</td>\n",
       "      <td>Liam Payne Goes Sneaker Shopping With Complex</td>\n",
       "      <td>Complex</td>\n",
       "      <td>24</td>\n",
       "      <td>2018-04-16T14:00:03.000Z</td>\n",
       "      <td>sneakerhead|\"complex\"|\"complex originals\"|\"sne...</td>\n",
       "      <td>1122136</td>\n",
       "      <td>29314</td>\n",
       "      <td>1138</td>\n",
       "      <td>2844</td>\n",
       "      <td>False</td>\n",
       "      <td>False</td>\n",
       "      <td>False</td>\n",
       "    </tr>\n",
       "    <tr>\n",
       "      <th>11637</th>\n",
       "      <td>18.13.01</td>\n",
       "      <td>Camila Cabello - Something's Gotta Give (Audio)</td>\n",
       "      <td>CamilaCabelloVEVO</td>\n",
       "      <td>10</td>\n",
       "      <td>2018-01-12T08:00:01.000Z</td>\n",
       "      <td>camila cabello|\"camila\"|\"camila full album\"|\"h...</td>\n",
       "      <td>1063285</td>\n",
       "      <td>98220</td>\n",
       "      <td>635</td>\n",
       "      <td>4662</td>\n",
       "      <td>False</td>\n",
       "      <td>False</td>\n",
       "      <td>False</td>\n",
       "    </tr>\n",
       "  </tbody>\n",
       "</table>\n",
       "</div>"
      ],
      "text/plain": [
       "      trending_date                                              title  \\\n",
       "34596      18.14.05  Enrique Iglesias - MOVE TO MIAMI (Lyric Video)...   \n",
       "32326      18.02.05                               I LOST $10,000 twice   \n",
       "33208      18.07.05  How to pick up a cat like a pro - Vet advice o...   \n",
       "30233      18.22.04      Liam Payne Goes Sneaker Shopping With Complex   \n",
       "11637      18.13.01    Camila Cabello - Something's Gotta Give (Audio)   \n",
       "\n",
       "               channel_title  category_id              publish_time  \\\n",
       "34596    EnriqueIglesiasVEVO           10  2018-05-03T12:00:01.000Z   \n",
       "32326           itsAlexClark            1  2018-04-18T22:00:00.000Z   \n",
       "33208  Helpful Vancouver Vet           15  2018-05-01T23:13:42.000Z   \n",
       "30233                Complex           24  2018-04-16T14:00:03.000Z   \n",
       "11637      CamilaCabelloVEVO           10  2018-01-12T08:00:01.000Z   \n",
       "\n",
       "                                                    tags    views  likes  \\\n",
       "34596  Enrique Iglesias feat. Pitbull|\"Latin\"|\"MOVE T...  3424478  79048   \n",
       "32326  its alex clark|\"itsalexclark\"|\"alex clark\"|\"it...  1205222  30241   \n",
       "33208  Cat|\"cats\"|\"cat handling\"|\"cat safety\"|\"cute\"|...  2199352  71653   \n",
       "30233  sneakerhead|\"complex\"|\"complex originals\"|\"sne...  1122136  29314   \n",
       "11637  camila cabello|\"camila\"|\"camila full album\"|\"h...  1063285  98220   \n",
       "\n",
       "       dislikes  comment_count  comments_disabled  ratings_disabled  \\\n",
       "34596      3650           4037              False             False   \n",
       "32326      3031           4649              False             False   \n",
       "33208      1758           6891              False             False   \n",
       "30233      1138           2844              False             False   \n",
       "11637       635           4662              False             False   \n",
       "\n",
       "       video_error_or_removed  \n",
       "34596                   False  \n",
       "32326                   False  \n",
       "33208                   False  \n",
       "30233                   False  \n",
       "11637                   False  "
      ]
     },
     "execution_count": 36,
     "metadata": {},
     "output_type": "execute_result"
    }
   ],
   "source": [
    "df.sample(5, random_state=1)"
   ]
  },
  {
   "cell_type": "markdown",
   "metadata": {},
   "source": [
    "## Exploratory Data Analysis"
   ]
  },
  {
   "cell_type": "markdown",
   "metadata": {},
   "source": [
    "### Descriptive Statistics"
   ]
  },
  {
   "cell_type": "markdown",
   "metadata": {},
   "source": [
    "#### Numerical"
   ]
  },
  {
   "cell_type": "code",
   "execution_count": 37,
   "metadata": {},
   "outputs": [
    {
     "data": {
      "text/html": [
       "<div>\n",
       "<style scoped>\n",
       "    .dataframe tbody tr th:only-of-type {\n",
       "        vertical-align: middle;\n",
       "    }\n",
       "\n",
       "    .dataframe tbody tr th {\n",
       "        vertical-align: top;\n",
       "    }\n",
       "\n",
       "    .dataframe thead th {\n",
       "        text-align: right;\n",
       "    }\n",
       "</style>\n",
       "<table border=\"1\" class=\"dataframe\">\n",
       "  <thead>\n",
       "    <tr style=\"text-align: right;\">\n",
       "      <th></th>\n",
       "      <th>category_id</th>\n",
       "      <th>views</th>\n",
       "      <th>likes</th>\n",
       "      <th>dislikes</th>\n",
       "      <th>comment_count</th>\n",
       "    </tr>\n",
       "  </thead>\n",
       "  <tbody>\n",
       "    <tr>\n",
       "      <th>count</th>\n",
       "      <td>40901.000000</td>\n",
       "      <td>4.090100e+04</td>\n",
       "      <td>4.090100e+04</td>\n",
       "      <td>4.090100e+04</td>\n",
       "      <td>4.090100e+04</td>\n",
       "    </tr>\n",
       "    <tr>\n",
       "      <th>mean</th>\n",
       "      <td>19.970588</td>\n",
       "      <td>2.360678e+06</td>\n",
       "      <td>7.427173e+04</td>\n",
       "      <td>3.711722e+03</td>\n",
       "      <td>8.448567e+03</td>\n",
       "    </tr>\n",
       "    <tr>\n",
       "      <th>std</th>\n",
       "      <td>7.569362</td>\n",
       "      <td>7.397719e+06</td>\n",
       "      <td>2.289999e+05</td>\n",
       "      <td>2.904624e+04</td>\n",
       "      <td>3.745139e+04</td>\n",
       "    </tr>\n",
       "    <tr>\n",
       "      <th>min</th>\n",
       "      <td>1.000000</td>\n",
       "      <td>5.490000e+02</td>\n",
       "      <td>0.000000e+00</td>\n",
       "      <td>0.000000e+00</td>\n",
       "      <td>0.000000e+00</td>\n",
       "    </tr>\n",
       "    <tr>\n",
       "      <th>25%</th>\n",
       "      <td>17.000000</td>\n",
       "      <td>2.419720e+05</td>\n",
       "      <td>5.416000e+03</td>\n",
       "      <td>2.020000e+02</td>\n",
       "      <td>6.130000e+02</td>\n",
       "    </tr>\n",
       "    <tr>\n",
       "      <th>50%</th>\n",
       "      <td>24.000000</td>\n",
       "      <td>6.810640e+05</td>\n",
       "      <td>1.806900e+04</td>\n",
       "      <td>6.300000e+02</td>\n",
       "      <td>1.855000e+03</td>\n",
       "    </tr>\n",
       "    <tr>\n",
       "      <th>75%</th>\n",
       "      <td>25.000000</td>\n",
       "      <td>1.821926e+06</td>\n",
       "      <td>5.533800e+04</td>\n",
       "      <td>1.936000e+03</td>\n",
       "      <td>5.752000e+03</td>\n",
       "    </tr>\n",
       "    <tr>\n",
       "      <th>max</th>\n",
       "      <td>43.000000</td>\n",
       "      <td>2.252119e+08</td>\n",
       "      <td>5.613827e+06</td>\n",
       "      <td>1.674420e+06</td>\n",
       "      <td>1.361580e+06</td>\n",
       "    </tr>\n",
       "  </tbody>\n",
       "</table>\n",
       "</div>"
      ],
      "text/plain": [
       "        category_id         views         likes      dislikes  comment_count\n",
       "count  40901.000000  4.090100e+04  4.090100e+04  4.090100e+04   4.090100e+04\n",
       "mean      19.970588  2.360678e+06  7.427173e+04  3.711722e+03   8.448567e+03\n",
       "std        7.569362  7.397719e+06  2.289999e+05  2.904624e+04   3.745139e+04\n",
       "min        1.000000  5.490000e+02  0.000000e+00  0.000000e+00   0.000000e+00\n",
       "25%       17.000000  2.419720e+05  5.416000e+03  2.020000e+02   6.130000e+02\n",
       "50%       24.000000  6.810640e+05  1.806900e+04  6.300000e+02   1.855000e+03\n",
       "75%       25.000000  1.821926e+06  5.533800e+04  1.936000e+03   5.752000e+03\n",
       "max       43.000000  2.252119e+08  5.613827e+06  1.674420e+06   1.361580e+06"
      ]
     },
     "execution_count": 37,
     "metadata": {},
     "output_type": "execute_result"
    }
   ],
   "source": [
    "df.select_dtypes(include='number').describe()"
   ]
  },
  {
   "cell_type": "markdown",
   "metadata": {},
   "source": [
    "#### Categorical"
   ]
  },
  {
   "cell_type": "code",
   "execution_count": 38,
   "metadata": {},
   "outputs": [
    {
     "data": {
      "text/html": [
       "<div>\n",
       "<style scoped>\n",
       "    .dataframe tbody tr th:only-of-type {\n",
       "        vertical-align: middle;\n",
       "    }\n",
       "\n",
       "    .dataframe tbody tr th {\n",
       "        vertical-align: top;\n",
       "    }\n",
       "\n",
       "    .dataframe thead th {\n",
       "        text-align: right;\n",
       "    }\n",
       "</style>\n",
       "<table border=\"1\" class=\"dataframe\">\n",
       "  <thead>\n",
       "    <tr style=\"text-align: right;\">\n",
       "      <th></th>\n",
       "      <th>trending_date</th>\n",
       "      <th>title</th>\n",
       "      <th>channel_title</th>\n",
       "      <th>publish_time</th>\n",
       "      <th>tags</th>\n",
       "      <th>comments_disabled</th>\n",
       "      <th>ratings_disabled</th>\n",
       "      <th>video_error_or_removed</th>\n",
       "    </tr>\n",
       "  </thead>\n",
       "  <tbody>\n",
       "    <tr>\n",
       "      <th>count</th>\n",
       "      <td>40901</td>\n",
       "      <td>40901</td>\n",
       "      <td>40901</td>\n",
       "      <td>40901</td>\n",
       "      <td>40901</td>\n",
       "      <td>40901</td>\n",
       "      <td>40901</td>\n",
       "      <td>40901</td>\n",
       "    </tr>\n",
       "    <tr>\n",
       "      <th>unique</th>\n",
       "      <td>205</td>\n",
       "      <td>6455</td>\n",
       "      <td>2207</td>\n",
       "      <td>6269</td>\n",
       "      <td>6055</td>\n",
       "      <td>2</td>\n",
       "      <td>2</td>\n",
       "      <td>2</td>\n",
       "    </tr>\n",
       "    <tr>\n",
       "      <th>top</th>\n",
       "      <td>17.14.11</td>\n",
       "      <td>WE MADE OUR MOM CRY...HER DREAM CAME TRUE!</td>\n",
       "      <td>ESPN</td>\n",
       "      <td>2018-05-18T14:00:04.000Z</td>\n",
       "      <td>[none]</td>\n",
       "      <td>False</td>\n",
       "      <td>False</td>\n",
       "      <td>False</td>\n",
       "    </tr>\n",
       "    <tr>\n",
       "      <th>freq</th>\n",
       "      <td>200</td>\n",
       "      <td>29</td>\n",
       "      <td>202</td>\n",
       "      <td>50</td>\n",
       "      <td>1534</td>\n",
       "      <td>40269</td>\n",
       "      <td>40732</td>\n",
       "      <td>40878</td>\n",
       "    </tr>\n",
       "  </tbody>\n",
       "</table>\n",
       "</div>"
      ],
      "text/plain": [
       "       trending_date                                       title  \\\n",
       "count          40901                                       40901   \n",
       "unique           205                                        6455   \n",
       "top         17.14.11  WE MADE OUR MOM CRY...HER DREAM CAME TRUE!   \n",
       "freq             200                                          29   \n",
       "\n",
       "       channel_title              publish_time    tags comments_disabled  \\\n",
       "count          40901                     40901   40901             40901   \n",
       "unique          2207                      6269    6055                 2   \n",
       "top             ESPN  2018-05-18T14:00:04.000Z  [none]             False   \n",
       "freq             202                        50    1534             40269   \n",
       "\n",
       "       ratings_disabled video_error_or_removed  \n",
       "count             40901                  40901  \n",
       "unique                2                      2  \n",
       "top               False                  False  \n",
       "freq              40732                  40878  "
      ]
     },
     "execution_count": 38,
     "metadata": {},
     "output_type": "execute_result"
    }
   ],
   "source": [
    "df.select_dtypes(exclude='number').describe()"
   ]
  },
  {
   "cell_type": "markdown",
   "metadata": {},
   "source": [
    "- binary features: `comments_disabled`, `ratings_disabled`, `video_error_or_removed`"
   ]
  },
  {
   "cell_type": "markdown",
   "metadata": {},
   "source": [
    "### Univariate Analysis"
   ]
  },
  {
   "cell_type": "markdown",
   "metadata": {},
   "source": [
    "#### Distribution"
   ]
  },
  {
   "cell_type": "code",
   "execution_count": 39,
   "metadata": {},
   "outputs": [
    {
     "data": {
      "image/png": "[encoded data removed]",
      "text/plain": [
       "<Figure size 1296x360 with 4 Axes>"
      ]
     },
     "metadata": {
      "needs_background": "light"
     },
     "output_type": "display_data"
    }
   ],
   "source": [
    "idf = df.select_dtypes(include='number')\n",
    "idf.drop(['category_id'], axis=1, inplace=True)\n",
    "cols = idf.columns.to_list()\n",
    "\n",
    "plt.figure(figsize=(18, 5))\n",
    "for index in range(0, len(cols)):\n",
    "    plt.subplot(1, len(cols), index+1)\n",
    "    sns.boxplot(y=df[cols[index]], color='teal', orient='v')\n",
    "    plt.ylabel(cols[index], fontsize='16', labelpad=10)\n",
    "    plt.tight_layout()\n",
    "\n",
    "plt.show();"
   ]
  },
  {
   "cell_type": "code",
   "execution_count": 40,
   "metadata": {},
   "outputs": [
    {
     "data": {
      "image/png": "[encoded data removed]",
      "text/plain": [
       "<Figure size 1296x720 with 4 Axes>"
      ]
     },
     "metadata": {
      "needs_background": "light"
     },
     "output_type": "display_data"
    }
   ],
   "source": [
    "idf = df.select_dtypes(include='number')\n",
    "idf.drop(['category_id'], axis=1, inplace=True)\n",
    "cols = idf.columns.to_list()\n",
    "\n",
    "plt.figure(figsize=(18, 10))\n",
    "for index in range(0, len(cols)):\n",
    "    plt.subplot(3, len(cols)/2, index+1)\n",
    "    sns.distplot(df[cols[index]], color='teal')\n",
    "    plt.xlabel(cols[index], fontsize='16', labelpad=10)\n",
    "    plt.tight_layout()\n",
    "\n",
    "plt.show();"
   ]
  },
  {
   "cell_type": "markdown",
   "metadata": {},
   "source": [
    "#### Comparison"
   ]
  },
  {
   "cell_type": "code",
   "execution_count": 42,
   "metadata": {},
   "outputs": [
    {
     "data": {
      "image/png": "[encoded data removed]",
      "text/plain": [
       "<Figure size 1296x576 with 3 Axes>"
      ]
     },
     "metadata": {
      "needs_background": "light"
     },
     "output_type": "display_data"
    }
   ],
   "source": [
    "binary_features = ['comments_disabled', 'ratings_disabled', 'video_error_or_removed']\n",
    "\n",
    "plt.figure(figsize=(18, 8))\n",
    "for index in range(0, len(binary_features)):\n",
    "    plt.subplot(1, 3, index+1)\n",
    "    sns.countplot(df[binary_features[index]], color='teal', orient='v', palette=binary_pallete)\n",
    "    plt.tight_layout()\n",
    "    plt.xlabel(binary_features[index], fontsize='16', labelpad=10)\n",
    "\n",
    "plt.show();"
   ]
  },
  {
   "cell_type": "markdown",
   "metadata": {},
   "source": [
    "### Multivariate Analysis"
   ]
  }
 ],
 "metadata": {
  "interpreter": {
   "hash": "b3ba2566441a7c06988d0923437866b63cedc61552a5af99d1f4fb67d367b25f"
  },
  "kernelspec": {
   "display_name": "Python 3.9.7 64-bit ('base': conda)",
   "language": "python",
   "name": "python3"
  },
  "language_info": {
   "codemirror_mode": {
    "name": "ipython",
    "version": 3
   },
   "file_extension": ".py",
   "mimetype": "text/x-python",
   "name": "python",
   "nbconvert_exporter": "python",
   "pygments_lexer": "ipython3",
   "version": "3.9.7"
  },
  "orig_nbformat": 4
 },
 "nbformat": 4,
 "nbformat_minor": 2
}
